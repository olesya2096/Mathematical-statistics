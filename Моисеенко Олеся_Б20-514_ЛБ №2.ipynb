{
  "nbformat": 4,
  "nbformat_minor": 0,
  "metadata": {
    "colab": {
      "provenance": [],
      "collapsed_sections": []
    },
    "kernelspec": {
      "name": "python3",
      "display_name": "Python 3"
    },
    "language_info": {
      "name": "python"
    }
  },
  "cells": [
    {
      "cell_type": "code",
      "execution_count": 116,
      "metadata": {
        "id": "ACwMMu1sBbg_"
      },
      "outputs": [],
      "source": [
        "import math\n",
        "import statistics\n",
        "from scipy import stats as sps\n",
        "from statsmodels.distributions.empirical_distribution import ECDF\n",
        "from statsmodels.stats.descriptivestats import sign_test\n",
        "import numpy as np\n",
        "import matplotlib.pyplot as plt\n",
        "%matplotlib inline"
      ]
    },
    {
      "cell_type": "code",
      "source": [
        "# хи-квадрат распределение k=15 (df=15, loc=0(по умолчанию), scale=1(по умолчанию))\n",
        "x_1 = sps.chi2.rvs(df=15, size=100)\n",
        "\n",
        "# равномерное a=5, b=25 (loc=a, scale=b-a)\n",
        "x_2 = sps.uniform.rvs(size=100, loc=5, scale=20) \n",
        "\n",
        "# выведем по 10 первых значений 1-й и 2-й выборки\n",
        "print(x_1[:10])\n",
        "print()\n",
        "print(x_2[:10])"
      ],
      "metadata": {
        "colab": {
          "base_uri": "https://localhost:8080/"
        },
        "id": "w3tc3aJbCnmT",
        "outputId": "b3731946-064b-42e4-8757-fea5cbbd4054"
      },
      "execution_count": 117,
      "outputs": [
        {
          "output_type": "stream",
          "name": "stdout",
          "text": [
            "[ 9.75563432 10.78851675 10.63659057  8.7104911  17.94424061 15.42216435\n",
            " 17.40717547 15.52320776 14.16027296 13.4082894 ]\n",
            "\n",
            "[18.19444834 22.18907455 17.68595202  9.02584658  5.07647986 18.01505671\n",
            " 22.98339859 10.69212659 15.84798376 18.40987379]\n"
          ]
        }
      ]
    },
    {
      "cell_type": "markdown",
      "source": [
        "Формулы расчета статистических характеристик:\n",
        "\n",
        "для $ X^2(k) $: \n",
        "\n",
        "* $ m_i = k  $\n",
        "\n",
        "* $ D_i = 2k  $"
      ],
      "metadata": {
        "id": "CWvIbFseC3KM"
      }
    },
    {
      "cell_type": "code",
      "source": [
        "m_1 = 15\n",
        "sigma_1 = math.sqrt(30)\n",
        "\n",
        "print('m_1: {:f}'.format(m_1))\n",
        "print('sigma_1: {:f}'.format(sigma_1))"
      ],
      "metadata": {
        "colab": {
          "base_uri": "https://localhost:8080/"
        },
        "id": "u41kDLhAC8NW",
        "outputId": "03fe6871-eb16-4bef-8cf6-ad2f74b68c0f"
      },
      "execution_count": 118,
      "outputs": [
        {
          "output_type": "stream",
          "name": "stdout",
          "text": [
            "m_1: 15.000000\n",
            "sigma_1: 5.477226\n"
          ]
        }
      ]
    },
    {
      "cell_type": "markdown",
      "source": [
        "**Задание 1**"
      ],
      "metadata": {
        "id": "G71fleTaDMJH"
      }
    },
    {
      "cell_type": "code",
      "source": [
        "# среднее\n",
        "mean_1 = x_1.mean()\n",
        "\n",
        "print('mean_1: {:f}'.format(mean_1))\n",
        "print()\n",
        "\n",
        "# оценка дисперсии\n",
        "var_1 = x_1.var()\n",
        "\n",
        "print('var_1: {:f}'.format(var_1))\n",
        "print()\n",
        "\n",
        "# оценка стандартного отклонения\n",
        "std_1 = x_1.std()\n",
        "\n",
        "print('std_1: {:f}'.format(std_1))"
      ],
      "metadata": {
        "colab": {
          "base_uri": "https://localhost:8080/"
        },
        "id": "DpJ_kk8PDQa3",
        "outputId": "85412570-e5c9-4598-f460-15227e99a1a8"
      },
      "execution_count": 119,
      "outputs": [
        {
          "output_type": "stream",
          "name": "stdout",
          "text": [
            "mean_1: 14.150636\n",
            "\n",
            "var_1: 23.027153\n",
            "\n",
            "std_1: 4.798662\n"
          ]
        }
      ]
    },
    {
      "cell_type": "markdown",
      "source": [
        "**Задание 2**"
      ],
      "metadata": {
        "id": "oh4lrKQjDURA"
      }
    },
    {
      "cell_type": "code",
      "source": [
        "# гистограммы для 1-го распределения\n",
        "\n",
        "# bins = 5\n",
        "plt.hist(x_1, bins=5)\n",
        "# x_axis = np.arange(x_1.min(), x_1.max(), 0.00001)\n",
        "# plt.plot(x_axis, sps.uniform.pdf(x_axis))\n",
        "plt.title('$Nbins = 5$')\n",
        "plt.show()\n",
        "\n",
        "# bins = 10\n",
        "plt.hist(x_1, bins=10)\n",
        "plt.title('$Nbins = 10$')\n",
        "plt.show()\n",
        "\n",
        "# bins = 15\n",
        "plt.hist(x_1, bins=15)\n",
        "plt.title('$Nbins = 15$')\n",
        "plt.show()\n",
        "\n",
        "# bins = 55\n",
        "plt.hist(x_1, bins=55)\n",
        "plt.title('$Nbins = 55$')\n",
        "plt.show()"
      ],
      "metadata": {
        "colab": {
          "base_uri": "https://localhost:8080/",
          "height": 1000
        },
        "id": "zZE4Pun8DaTN",
        "outputId": "48cd407f-7ff1-419b-f2da-882183d591d2"
      },
      "execution_count": 120,
      "outputs": [
        {
          "output_type": "display_data",
          "data": {
            "text/plain": [
              "<Figure size 432x288 with 1 Axes>"
            ],
            "image/png": "[encoded data removed]"
          },
          "metadata": {
            "needs_background": "light"
          }
        },
        {
          "output_type": "display_data",
          "data": {
            "text/plain": [
              "<Figure size 432x288 with 1 Axes>"
            ],
            "image/png": "[encoded data removed]"
          },
          "metadata": {
            "needs_background": "light"
          }
        },
        {
          "output_type": "display_data",
          "data": {
            "text/plain": [
              "<Figure size 432x288 with 1 Axes>"
            ],
            "image/png": "[encoded data removed]"
          },
          "metadata": {
            "needs_background": "light"
          }
        },
        {
          "output_type": "display_data",
          "data": {
            "text/plain": [
              "<Figure size 432x288 with 1 Axes>"
            ],
            "image/png": "[encoded data removed]"
          },
          "metadata": {
            "needs_background": "light"
          }
        }
      ]
    },
    {
      "cell_type": "markdown",
      "source": [
        "**Задание 3**"
      ],
      "metadata": {
        "id": "FMEdlaK5G1sE"
      }
    },
    {
      "cell_type": "code",
      "source": [
        "def mean(a):\n",
        "    b = [0]*(len(a) - 1)\n",
        "    for i in range(0, len(a)-1):\n",
        "        b[i] = ((a[i+1] + a[i]) / 2)\n",
        "    return b\n",
        "\n",
        "def getM(mean, frequencies, n):\n",
        "    m = 0\n",
        "    for i in range(0, len(mean)):\n",
        "        m += mean[i] * frequencies[i] \n",
        "    return m/n\n",
        "\n",
        "def getSigma(mean, frequencies, m, n):\n",
        "    s = 0\n",
        "    for i in range(0, len(mean)):\n",
        "        s += (mean[i] - m)**2 * frequencies[i]\n",
        "    return (s / (n - 1))**(1/2)\n",
        "\n",
        "def getNP(val, freq, n1, m, sigma):\n",
        "  n  = list()\n",
        "  np = list()\n",
        "  npx = 0\n",
        "  nx = 0\n",
        "  distr = sps.norm(loc = m, scale = sigma)\n",
        "  for i in range(0, len(val) - 1):\n",
        "    npx += (distr.cdf(val[i + 1]) - distr.cdf(val[i])) * n1\n",
        "    nx += freq[i]\n",
        "    if (npx >= 5):\n",
        "      n.append(nx)\n",
        "      np.append(npx)\n",
        "      nx = 0\n",
        "      npx = 0\n",
        "    elif (npx < 5) and (i == len(val) - 2):\n",
        "      n[len(n) - 1] = nx + n[len(n) - 1]\n",
        "      np[len(np) - 1] = npx + np[len(np) - 1]    \n",
        "  return (n, np)\n",
        "\n",
        "def getNP_no_merge(val, freq, n1, m, sigma):\n",
        "  n  = list()\n",
        "  np = list()\n",
        "  npx = 0\n",
        "  nx = 0\n",
        "  distr = sps.norm(loc = m, scale = sigma)\n",
        "  for i in range(0, len(val) - 1):\n",
        "    npx = (distr.cdf(val[i + 1]) - distr.cdf(val[i])) * n1\n",
        "    nx = freq[i]\n",
        "    n.append(nx)\n",
        "    np.append(npx)\n",
        "     \n",
        "  return (n, np) \n",
        "    \n",
        "def getZ(n, np):\n",
        "    z = 0\n",
        "    for i in range(0, len(n)):\n",
        "        z += (n[i] - np[i])**2 / np[i]\n",
        "    return z"
      ],
      "metadata": {
        "id": "Gp6KSCxlzDf5"
      },
      "execution_count": 121,
      "outputs": []
    },
    {
      "cell_type": "code",
      "source": [
        "for bin in [5,10,15,55]:\n",
        "  frequencies_5 = plt.hist(x_1, bin)[0]\n",
        "  values_5 = plt.hist(x_1, bin)[1]\n",
        "\n",
        "\n",
        "  m = getM(mean(values_5), frequencies_5, 100)\n",
        "  sigma = getSigma(mean(values_5), frequencies_5, m, 100)\n",
        "  new_n, new_np = getNP_no_merge(values_5, frequencies_5 , 100, m, sigma)\n",
        "\n",
        "  z = getZ(new_n, new_np)\n",
        "  k = len(new_n)\n",
        "  r = 2\n",
        "\n",
        "  f_z_chi = sps.chi2.cdf(z, k - r - 1)\n",
        "  p_value = 2 * min(f_z_chi, 1 - f_z_chi)\n",
        "\n",
        "  print(\"Number of grouping intervals %d\" % bin)\n",
        "  print(\"chi-squared criteria for N: z = %.3f; p-value = %.3f\" % (z, p_value))"
      ],
      "metadata": {
        "colab": {
          "base_uri": "https://localhost:8080/",
          "height": 401
        },
        "id": "Jntwi_d70wuD",
        "outputId": "47d06d9e-d4d5-4c72-ae0b-fb387decb411"
      },
      "execution_count": 122,
      "outputs": [
        {
          "output_type": "stream",
          "name": "stdout",
          "text": [
            "Number of grouping intervals 5\n",
            "chi-squared criteria for N: z = 3.847; p-value = 0.292\n",
            "Number of grouping intervals 10\n",
            "chi-squared criteria for N: z = 14.719; p-value = 0.080\n",
            "Number of grouping intervals 15\n",
            "chi-squared criteria for N: z = 30.407; p-value = 0.005\n",
            "Number of grouping intervals 55\n",
            "chi-squared criteria for N: z = 101.515; p-value = 0.000\n"
          ]
        },
        {
          "output_type": "display_data",
          "data": {
            "text/plain": [
              "<Figure size 432x288 with 1 Axes>"
            ],
            "image/png": "[encoded data removed]"
          },
          "metadata": {
            "needs_background": "light"
          }
        }
      ]
    },
    {
      "cell_type": "code",
      "source": [
        "def getNP_R(val, freq, n1, a, b):\n",
        "    n  = list()\n",
        "    np = list()\n",
        "    npx = 0\n",
        "    nx = 0\n",
        "    dis = sps.uniform(loc = a, scale = b - a)\n",
        "    for i in range(0, len(val) - 1):\n",
        "        npx += (dis.cdf(val[i + 1]) - dis.cdf(val[i])) * n1\n",
        "        nx += freq[i]\n",
        "        if npx > 5:\n",
        "            n.append(nx)\n",
        "            np.append(npx)\n",
        "            nx = 0\n",
        "            npx = 0\n",
        "        elif (npx < 5) and (i == len(val) - 2):\n",
        "            n[len(n) - 1] = nx + n[len(n) - 1]\n",
        "            np[len(np) - 1] = npx + np[len(np) - 1]\n",
        "    return (n, np)"
      ],
      "metadata": {
        "id": "BstmoGhX00ci"
      },
      "execution_count": 123,
      "outputs": []
    },
    {
      "cell_type": "code",
      "source": [
        "for bin in [5,10,15,55]:\n",
        "\n",
        "  frequencies_5 = plt.hist(x_1, bin)[0]\n",
        "  values_5 = plt.hist(x_1, bin)[1]\n",
        "\n",
        "  m = getM(mean(values_5), frequencies_5, 100 ) \n",
        "  sigma = getSigma(mean(values_5), frequencies_5, m, 100 )\n",
        "  a = 1/2 * (2*m - sigma * (12)**(1/2))\n",
        "  b = 1/2 * (2*m + sigma * (12)**(1/2))\n",
        "\n",
        "  new_n, new_np = getNP(values_5, frequencies_5 , 100, a, b)\n",
        "\n",
        "  z = getZ(new_n, new_np)\n",
        "  k = len(new_n)\n",
        "  r = 2\n",
        "\n",
        "  f_z_chi = sps.chi2.cdf(z, k - r - 1)\n",
        "  p_value = 2 * min(f_z_chi, 1 - f_z_chi)\n",
        "\n",
        "  print(\"Number of grouping intervals %d\" % bin)\n",
        "  print(\"chi-squared criteria for R: z = %.3f; p-value = %.3f\" % (z, p_value))"
      ],
      "metadata": {
        "colab": {
          "base_uri": "https://localhost:8080/",
          "height": 401
        },
        "id": "5H0Jhs9L0-O1",
        "outputId": "a028ab8c-d852-4098-8cbf-fc75676df5d1"
      },
      "execution_count": 124,
      "outputs": [
        {
          "output_type": "stream",
          "name": "stdout",
          "text": [
            "Number of grouping intervals 5\n",
            "chi-squared criteria for R: z = 195.281; p-value = 0.000\n",
            "Number of grouping intervals 10\n",
            "chi-squared criteria for R: z = 195.174; p-value = 0.000\n",
            "Number of grouping intervals 15\n",
            "chi-squared criteria for R: z = 213.148; p-value = 0.000\n",
            "Number of grouping intervals 55\n",
            "chi-squared criteria for R: z = 207.699; p-value = 0.000\n"
          ]
        },
        {
          "output_type": "display_data",
          "data": {
            "text/plain": [
              "<Figure size 432x288 with 1 Axes>"
            ],
            "image/png": "[encoded data removed]"
          },
          "metadata": {
            "needs_background": "light"
          }
        }
      ]
    },
    {
      "cell_type": "code",
      "source": [
        "def getNP(val, freq, n1):\n",
        "    n  = list()\n",
        "    np = list()\n",
        "    npx = 0\n",
        "    nx = 0\n",
        "    dis = sps.chi2(5)\n",
        "    for i in range(0, len(val) - 1):\n",
        "        npx += (dis.cdf(val[i + 1]) - dis.cdf(val[i])) * n1\n",
        "        nx += freq[i]\n",
        "        if npx > 5:\n",
        "            n.append(nx)\n",
        "            np.append(npx)\n",
        "            nx = 0\n",
        "            npx = 0\n",
        "        elif (npx < 5) and (i == len(val) - 2):\n",
        "            n[len(n) - 1] = nx + n[len(n) - 1]\n",
        "            np[len(np) - 1] = npx + np[len(np) - 1]\n",
        "    return (n, np)"
      ],
      "metadata": {
        "id": "8Lpuqsjp0_hM"
      },
      "execution_count": 125,
      "outputs": []
    },
    {
      "cell_type": "code",
      "source": [
        "for bin in [5,10,15,55]:\n",
        "\n",
        "  frequencies_5 = plt.hist(x_1, bin)[0]\n",
        "  values_5 = plt.hist(x_1, bin)[1]\n",
        "\n",
        "  new_n, new_np = getNP(values_5, frequencies_5 , 100)\n",
        "\n",
        "  z = getZ(new_n, new_np)\n",
        "  k = len(new_n)\n",
        "  r = 0\n",
        "\n",
        "  f_z_chi = sps.chi2.cdf(z, k - r - 1)\n",
        "  p_value = 2 * min(f_z_chi, 1 - f_z_chi)\n",
        "\n",
        "  print(\"Number of grouping intervals %d\" % bin)\n",
        "  print(\"chi-squared criteria for R: z = %.3f; p-value = %.3f\" % (z, p_value))\n",
        "  print('Критическое значение: %.3f' % (sps.chi2(k-r-1).ppf(1 - 0.05)))"
      ],
      "metadata": {
        "colab": {
          "base_uri": "https://localhost:8080/",
          "height": 469
        },
        "id": "CpiGrdcB1DR3",
        "outputId": "8253a7bf-8e69-4e94-b6ae-153804a4ec1c"
      },
      "execution_count": 144,
      "outputs": [
        {
          "output_type": "stream",
          "name": "stdout",
          "text": [
            "Number of grouping intervals 5\n",
            "chi-squared criteria for R: z = 666.901; p-value = 0.000\n",
            "Критическое значение: 3.841\n",
            "Number of grouping intervals 10\n",
            "chi-squared criteria for R: z = 674.787; p-value = 0.000\n",
            "Критическое значение: 5.991\n",
            "Number of grouping intervals 15\n",
            "chi-squared criteria for R: z = 680.228; p-value = 0.000\n",
            "Критическое значение: 7.815\n",
            "Number of grouping intervals 55\n",
            "chi-squared criteria for R: z = 615.754; p-value = 0.000\n",
            "Критическое значение: 11.070\n"
          ]
        },
        {
          "output_type": "display_data",
          "data": {
            "text/plain": [
              "<Figure size 432x288 with 1 Axes>"
            ],
            "image/png": "[encoded data removed]"
          },
          "metadata": {
            "needs_background": "light"
          }
        }
      ]
    },
    {
      "cell_type": "markdown",
      "source": [
        "**Задание 4**"
      ],
      "metadata": {
        "id": "Cxpif1Q631Oy"
      }
    },
    {
      "cell_type": "code",
      "source": [
        "alpha = 0.05\n",
        "m = x_1.mean()\n",
        "sigma = x_1.std()\n",
        "a = 1/2 * (2*m - sigma * (12)**(1/2))\n",
        "b = 1/2 * (2*m + sigma * (12)**(1/2))\n",
        "test_N = sps.kstest(x_1, sps.norm(m, sigma).cdf)\n",
        "test_R = sps.kstest(x_1, sps.uniform(a, b - a).cdf)\n",
        "test_chi = sps.kstest(x_1, sps.chi2(5).cdf)\n",
        "\n",
        "print('Нормальное распределение: z = {z:.3f}, p-value = {p_value:.3f}'.format(z =test_N[0] , p_value = test_N[1]))\n",
        "print('Равномерное распределение: z = {z:.3f}, p-value = {p_value:.3f}'.format(z =test_R[0] , p_value = test_R[1]))\n",
        "print('Распределение хи-квадрат: z = {z:.3f}, p-value = {p_value:.3f}'.format(z =test_chi[0] , p_value = test_chi[1]))"
      ],
      "metadata": {
        "colab": {
          "base_uri": "https://localhost:8080/"
        },
        "id": "wJ5xNDNRRuRz",
        "outputId": "23f476ba-3ee7-4b3f-d20d-493f5b69e97b"
      },
      "execution_count": 160,
      "outputs": [
        {
          "output_type": "stream",
          "name": "stdout",
          "text": [
            "Нормальное распределение: z = 0.093, p-value = 0.326\n",
            "Равномерное распределение: z = 0.112, p-value = 0.150\n",
            "Распределение хи-квадрат: z = 0.794, p-value = 0.000\n"
          ]
        }
      ]
    },
    {
      "cell_type": "code",
      "source": [
        "stat_u, p_value_u = sps.kstest(x_1, 'uniform', args=(a,b-a), alternative='two-sided')\n",
        "print(stat_u, p_value_u) "
      ],
      "metadata": {
        "colab": {
          "base_uri": "https://localhost:8080/"
        },
        "id": "npVLZz366JGN",
        "outputId": "5ae61b7a-3ee8-4d65-fcd8-198b5a59bd26"
      },
      "execution_count": 156,
      "outputs": [
        {
          "output_type": "stream",
          "name": "stdout",
          "text": [
            "0.1677379158614365 0.006283937571137807\n"
          ]
        }
      ]
    },
    {
      "cell_type": "code",
      "source": [
        "stat_n, p_value_n = sps.kstest(x_1, 'norm', args=(m, sigma), alternative='two-sided')\n",
        "print(stat_n, p_value_n) "
      ],
      "metadata": {
        "colab": {
          "base_uri": "https://localhost:8080/"
        },
        "id": "SHQZa-I-6njt",
        "outputId": "6ed7a366-2931-43a9-e6a3-ca2fc6f5fafd"
      },
      "execution_count": 157,
      "outputs": [
        {
          "output_type": "stream",
          "name": "stdout",
          "text": [
            "0.09393363135192467 0.32051315585935675\n"
          ]
        }
      ]
    },
    {
      "cell_type": "code",
      "source": [
        "def plot_func(f, ls, **t):\n",
        "\treturn plt.plot(ls, list(map(f, ls)), **t)\n",
        " \n",
        "def get_emp(x):\n",
        "\tx_v = sorted(x)\n",
        "\n",
        "\tdef f(t):\n",
        "\t\tif t < x_v[0]:\n",
        "\t\t\treturn 0\n",
        "\t\tfor i in range(len(x_v)):\n",
        "\t\t\tif i == len(x_v) - 1:\n",
        "\t\t\t\treturn 1\n",
        "\t\t\tif x_v[i] <= t < x_v[i+1]:\n",
        "\t\t\t\treturn (i+1) / len(x_v)\n",
        "\treturn f\n",
        "\n",
        "linspace = np.linspace(min(np.min(x_1), np.min(x_2)) - 3, max(np.max(x_1), np.max(x_2)) + 3)\n",
        " \n",
        "def kolmogorov_fitness(g):\n",
        "\tZ, P = sps.kstest(x_1, g.cdf)\n",
        "\n",
        "\tprint(f'Z: {Z}, P: {P}')\n",
        "\n",
        "for name, g in [('Normal', sps.norm(np.mean(x_1), np.std(x_1))),\n",
        "\t\t\t\t('Uniform', sps.uniform(a, b - a)),\n",
        "\t\t\t\t('Chi-2', sps.chi2(5)),\n",
        "\t\t\t\t('Chi-2 (true distribution)', sps.chi2(15))]:\n",
        "\tprint(name + ':')\n",
        "\tkolmogorov_fitness(g)\n",
        "\tprint()\n",
        "\tprint()\n",
        "\n",
        "\tplot_func(g.cdf, linspace, label=name)\n",
        "\n",
        "plot_func(get_emp(x_1), linspace, label='X ECDF')\n",
        "plt.legend()\n",
        "plt.savefig('/content/distrs.svg')"
      ],
      "metadata": {
        "colab": {
          "base_uri": "https://localhost:8080/",
          "height": 537
        },
        "id": "6Rh_q8fV3ubK",
        "outputId": "c81160d8-ebbb-44b5-e2f0-32188c625b90"
      },
      "execution_count": 128,
      "outputs": [
        {
          "output_type": "stream",
          "name": "stdout",
          "text": [
            "Normal:\n",
            "Z: 0.09349420356012017, P: 0.3258728427990727\n",
            "\n",
            "\n",
            "Uniform:\n",
            "Z: 0.11208030185253381, P: 0.15016672700506925\n",
            "\n",
            "\n",
            "Chi-2:\n",
            "Z: 0.7941438588590355, P: 4.903529972331366e-68\n",
            "\n",
            "\n",
            "Chi-2 (true distribution):\n",
            "Z: 0.10828720546528536, P: 0.17799277506836558\n",
            "\n",
            "\n"
          ]
        },
        {
          "output_type": "display_data",
          "data": {
            "text/plain": [
              "<Figure size 432x288 with 1 Axes>"
            ],
            "image/png": "[encoded data removed]"
          },
          "metadata": {
            "needs_background": "light"
          }
        }
      ]
    },
    {
      "cell_type": "markdown",
      "source": [
        "**Задание 5**"
      ],
      "metadata": {
        "id": "pufeWkNk6oyz"
      }
    },
    {
      "cell_type": "code",
      "source": [
        "x_2 = sps.uniform.rvs(size=100, loc=5, scale=20) \n",
        "\n",
        "mean2 = np.mean(x_2)\n",
        "var2 = np.var(x_2)\n",
        "std2 = np.std(x_2)\n",
        "\n",
        "print(\"Y: mean2 = %.3f; var2 = %.3f; std2 = %.3f; n2 = %.3f\" % (mean2, var2, std2, 100))"
      ],
      "metadata": {
        "colab": {
          "base_uri": "https://localhost:8080/"
        },
        "id": "pvzAmNs7QMxL",
        "outputId": "b55824b3-9dfc-45c0-c932-ae0ef5472c9b"
      },
      "execution_count": 161,
      "outputs": [
        {
          "output_type": "stream",
          "name": "stdout",
          "text": [
            "Y: mean2 = 15.006; var2 = 33.628; std2 = 5.799; n2 = 100.000\n"
          ]
        }
      ]
    },
    {
      "cell_type": "code",
      "source": [
        "plt.figure(figsize=(16, 7))\n",
        "\n",
        "plt.hist(x_1,  bins=15, alpha=0.6, label='Гистограмма частот X')\n",
        "plt.hist(x_2,  bins=15, alpha=0.6, label='Гистограмма частот Y')\n",
        "\n",
        "plt.legend(fontsize=14, loc=1)"
      ],
      "metadata": {
        "colab": {
          "base_uri": "https://localhost:8080/",
          "height": 445
        },
        "id": "1EyzZjEcRBti",
        "outputId": "f508910f-dec8-493b-f552-3f03eaec7863"
      },
      "execution_count": 162,
      "outputs": [
        {
          "output_type": "execute_result",
          "data": {
            "text/plain": [
              "<matplotlib.legend.Legend at 0x7fd015c8dad0>"
            ]
          },
          "metadata": {},
          "execution_count": 162
        },
        {
          "output_type": "display_data",
          "data": {
            "text/plain": [
              "<Figure size 1152x504 with 1 Axes>"
            ],
            "image/png": "[encoded data removed]"
          },
          "metadata": {
            "needs_background": "light"
          }
        }
      ]
    },
    {
      "cell_type": "code",
      "source": [
        "#ЭФР\n",
        "from statsmodels.distributions.empirical_distribution import ECDF\n",
        "\n",
        "plt.figure(figsize=(16, 7))\n",
        "\n",
        "\n",
        "ecdfX = ECDF(x_1)  \n",
        "ecdfY = ECDF(x_2)\n",
        "plt.step(ecdfX.x, ecdfX.y,lw=1, label='Эмпирическая функция распределения X')\n",
        "plt.step(ecdfY.x, ecdfY.y,lw=1, label='Эмпирическая функция распределения Y')\n",
        "plt.ylabel('$F(x)$', fontsize=20)\n",
        "plt.xlabel('$x$', fontsize=20);\n",
        "\n",
        "plt.legend(fontsize=14, loc=4)\n",
        "plt.show()"
      ],
      "metadata": {
        "colab": {
          "base_uri": "https://localhost:8080/",
          "height": 451
        },
        "id": "Pbf27duAREgh",
        "outputId": "3a23198b-7751-498e-b756-6cebbe1fae7b"
      },
      "execution_count": 163,
      "outputs": [
        {
          "output_type": "display_data",
          "data": {
            "text/plain": [
              "<Figure size 1152x504 with 1 Axes>"
            ],
            "image/png": "[encoded data removed]"
          },
          "metadata": {
            "needs_background": "light"
          }
        }
      ]
    },
    {
      "cell_type": "code",
      "source": [
        "#Chi-squared\n",
        "\n",
        "result = plt.hist(x_1,  bins=10, density=False, alpha=0.6, label='Гистограмма частот')\n",
        "frequencies_X = result[0]\n",
        "\n",
        "result = plt.hist(x_2,  bins=10, density=False, alpha=0.6, label='Гистограмма частот')\n",
        "frequencies_Y = result[0]\n",
        "\n",
        "ans = sps.chisquare(f_obs = frequencies_X, f_exp = frequencies_Y)\n",
        "\n",
        "print('Сhi-squared test: z = {z:.3f}, p-value = {p_value:.3f}'.format(z =ans[0] , p_value = ans[1]))\n",
        "frequencies_Y"
      ],
      "metadata": {
        "colab": {
          "base_uri": "https://localhost:8080/",
          "height": 299
        },
        "id": "0uvcyNnERHUm",
        "outputId": "2f9ef538-c010-4ebe-da02-9ebbe41e64b0"
      },
      "execution_count": 164,
      "outputs": [
        {
          "output_type": "stream",
          "name": "stdout",
          "text": [
            "Сhi-squared test: z = 68.729, p-value = 0.000\n"
          ]
        },
        {
          "output_type": "execute_result",
          "data": {
            "text/plain": [
              "array([10.,  8., 12.,  8., 12.,  7., 11., 12.,  4., 16.])"
            ]
          },
          "metadata": {},
          "execution_count": 164
        },
        {
          "output_type": "display_data",
          "data": {
            "text/plain": [
              "<Figure size 432x288 with 1 Axes>"
            ],
            "image/png": "[encoded data removed]"
          },
          "metadata": {
            "needs_background": "light"
          }
        }
      ]
    },
    {
      "cell_type": "code",
      "source": [
        "#KS-test\n",
        "Z, P = sps.ks_2samp(x_1, x_2)\n",
        "print('Z:', Z)\n",
        "print('P-value:', P)"
      ],
      "metadata": {
        "colab": {
          "base_uri": "https://localhost:8080/"
        },
        "id": "Tj_A2YobA0m2",
        "outputId": "4d0181b0-c8a5-449f-b587-79a4116f48e3"
      },
      "execution_count": 170,
      "outputs": [
        {
          "output_type": "stream",
          "name": "stdout",
          "text": [
            "Z: 0.17\n",
            "P-value: 0.11119526053829192\n"
          ]
        }
      ]
    },
    {
      "cell_type": "code",
      "source": [
        "#Sign test\n",
        "ans = sign_test(x_1, x_2)\n",
        "print('Sign test: z = {z:.3f}, p-value = {p_value:.3f}'.format(z =ans[0] , p_value = ans[1]))\n"
      ],
      "metadata": {
        "colab": {
          "base_uri": "https://localhost:8080/"
        },
        "id": "sZNOO_T8Bari",
        "outputId": "23e344f8-7e06-47dc-e3e4-facb489000e1"
      },
      "execution_count": 166,
      "outputs": [
        {
          "output_type": "stream",
          "name": "stdout",
          "text": [
            "Sign test: z = -7.000, p-value = 0.193\n"
          ]
        }
      ]
    },
    {
      "cell_type": "code",
      "source": [
        "sps.mannwhitneyu(x_1, x_2)"
      ],
      "metadata": {
        "colab": {
          "base_uri": "https://localhost:8080/"
        },
        "id": "9nZsp2LBBcei",
        "outputId": "6124be17-cd8c-44bc-b9ef-632a69aaec82"
      },
      "execution_count": 167,
      "outputs": [
        {
          "output_type": "execute_result",
          "data": {
            "text/plain": [
              "MannwhitneyuResult(statistic=4551.0, pvalue=0.2731400830994096)"
            ]
          },
          "metadata": {},
          "execution_count": 167
        }
      ]
    }
  ]
}