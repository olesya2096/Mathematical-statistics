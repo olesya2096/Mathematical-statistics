{
  "nbformat": 4,
  "nbformat_minor": 0,
  "metadata": {
    "colab": {
      "provenance": []
    },
    "kernelspec": {
      "name": "python3",
      "display_name": "Python 3"
    },
    "language_info": {
      "name": "python"
    }
  },
  "cells": [
    {
      "cell_type": "code",
      "execution_count": 34,
      "metadata": {
        "id": "ryxDGMufV_0I"
      },
      "outputs": [],
      "source": [
        "import math\n",
        "import random\n",
        "import statistics\n",
        "from scipy import stats as sps\n",
        "from statsmodels.stats.multicomp import pairwise_tukeyhsd     #для оценки различных моделей и проведения тестов с ними(критерий тьюки - для метода множественных сравнений)\n",
        "import numpy as np\n",
        "import pandas as pd\n",
        "import matplotlib.pyplot as plt\n",
        "%matplotlib inline    "
      ]
    },
    {
      "cell_type": "markdown",
      "source": [
        "**Задание №1**"
      ],
      "metadata": {
        "id": "JslITaeOocLi"
      }
    },
    {
      "cell_type": "code",
      "source": [
        "x_1 = sps.chi2.rvs(df=15, size = 50)\n",
        "x_2 = sps.uniform.rvs(loc=5, scale=20, size=100)\n",
        "x_3 = sps.norm.rvs(loc=5, scale=math.sqrt(2), size=100)\n",
        "\n",
        "print(x_1[:10])\n",
        "print()\n",
        "print(x_2[:10])\n",
        "print()\n",
        "print(x_3[:10])"
      ],
      "metadata": {
        "colab": {
          "base_uri": "https://localhost:8080/"
        },
        "id": "wgT7VSiKf9a9",
        "outputId": "17c523b5-312a-4268-e18b-eb91c35a7214"
      },
      "execution_count": 35,
      "outputs": [
        {
          "output_type": "stream",
          "name": "stdout",
          "text": [
            "[18.43298865 12.77196987 22.88737958 21.30936463 26.24810986 30.25248811\n",
            "  9.47590065  8.2540726  15.4704923  10.23390921]\n",
            "\n",
            "[24.99077033 16.20010718 10.10838643 15.02633229 13.46854586  9.48545831\n",
            " 15.82031621 24.77396788 10.90134531 12.1933439 ]\n",
            "\n",
            "[5.16549301 4.05775825 9.19787175 2.19154248 8.60260758 6.26706331\n",
            " 4.86435677 2.99867898 6.07308164 4.1006582 ]\n"
          ]
        }
      ]
    },
    {
      "cell_type": "code",
      "source": [
        "m_1 = 15\n",
        "var_1_t = 30\n",
        "\n",
        "m_2 = (5 + 25) / 2\n",
        "var_2_t = (25 - 5) ** 2 / 12\n",
        "\n",
        "m_3 = 5\n",
        "var_3_t = 2\n",
        "\n",
        "print('m_1: {:f}'.format(m_1))\n",
        "print('var_1: {:f}'.format(var_1_t))\n",
        "print('m_2: {:f}'.format(m_2))\n",
        "print('var_2: {:f}'.format(var_2_t))\n",
        "print('m_3: {:f}'.format(m_3))\n",
        "print('var_3: {:f}'.format(var_3_t))"
      ],
      "metadata": {
        "colab": {
          "base_uri": "https://localhost:8080/"
        },
        "id": "sKmN3p3Jl8NL",
        "outputId": "322e60dd-9d7f-49dd-fdc9-78cae452222b"
      },
      "execution_count": 36,
      "outputs": [
        {
          "output_type": "stream",
          "name": "stdout",
          "text": [
            "m_1: 15.000000\n",
            "var_1: 30.000000\n",
            "m_2: 15.000000\n",
            "var_2: 33.333333\n",
            "m_3: 5.000000\n",
            "var_3: 2.000000\n"
          ]
        }
      ]
    },
    {
      "cell_type": "code",
      "source": [
        "mean_1 = x_1.mean()\n",
        "var_1 = x_1.var()\n",
        "std_1 = x_1.std()\n",
        "std_1 = x_1.std()\n",
        "mean_2 = x_2.mean()\n",
        "var_2 = x_2.var()\n",
        "std_2 = x_2.std()\n",
        "mean_3 = x_3.mean()\n",
        "var_3 = x_3.var()\n",
        "std_3 = x_3.std()\n",
        "\n",
        "print('mean_1: {:f}'.format(mean_1))\n",
        "print('var_1: {:f}'.format(var_1))\n",
        "print('st_dev_1: {:f}'.format(std_1))\n",
        "print()\n",
        "print('mean_2: {:f}'. format(mean_2))\n",
        "print('var_2: {:f}'.format(var_2))\n",
        "print('st_dev_2: {:f}'.format(std_2))\n",
        "print()\n",
        "print('mean_3: {:f}'.format(mean_3))\n",
        "print('var_3: {:f}'.format(var_3))\n",
        "print('st_dev_3: {:f}'.format(std_3))"
      ],
      "metadata": {
        "colab": {
          "base_uri": "https://localhost:8080/"
        },
        "id": "vPqPQxSpoZvs",
        "outputId": "160b1d79-55fa-4e13-9d66-68391cc68753"
      },
      "execution_count": 37,
      "outputs": [
        {
          "output_type": "stream",
          "name": "stdout",
          "text": [
            "mean_1: 15.601281\n",
            "var_1: 31.689094\n",
            "st_dev_1: 5.629307\n",
            "\n",
            "mean_2: 15.425819\n",
            "var_2: 35.128094\n",
            "st_dev_2: 5.926896\n",
            "\n",
            "mean_3: 5.076484\n",
            "var_3: 1.970757\n",
            "st_dev_3: 1.403837\n"
          ]
        }
      ]
    },
    {
      "cell_type": "code",
      "source": [
        "pooled = np.concatenate([x_1, x_2, x_3])\n",
        "mean_p = pooled.mean()\n",
        "var_p = pooled.var()\n",
        "std_p = pooled.std()\n",
        "\n",
        "print('mean_p: {:f}'.format(mean_p))\n",
        "print('var_p: {:f}'.format(var_p))\n",
        "print('std_p: {:f}'.format(std_p))"
      ],
      "metadata": {
        "colab": {
          "base_uri": "https://localhost:8080/"
        },
        "id": "j9I1bWrxrZXt",
        "outputId": "f86d7889-afba-44a3-c4bd-bdf351374cfa"
      },
      "execution_count": 38,
      "outputs": [
        {
          "output_type": "stream",
          "name": "stdout",
          "text": [
            "mean_p: 11.321177\n",
            "var_p: 47.178926\n",
            "std_p: 6.868692\n"
          ]
        }
      ]
    },
    {
      "cell_type": "markdown",
      "source": [
        "**Задание №2**"
      ],
      "metadata": {
        "id": "Tbka36mwrq7N"
      }
    },
    {
      "cell_type": "markdown",
      "source": [
        "Взят уровень значимости a = 0.01"
      ],
      "metadata": {
        "id": "MMjlWj1q6raD"
      }
    },
    {
      "cell_type": "code",
      "source": [
        "sps.jarque_bera(x_1)"
      ],
      "metadata": {
        "colab": {
          "base_uri": "https://localhost:8080/"
        },
        "id": "E2_JUC6SxaG0",
        "outputId": "59499f52-0262-42f8-9103-e42701b7da75"
      },
      "execution_count": 39,
      "outputs": [
        {
          "output_type": "execute_result",
          "data": {
            "text/plain": [
              "Jarque_beraResult(statistic=6.5276223513829175, pvalue=0.038242371531244546)"
            ]
          },
          "metadata": {},
          "execution_count": 39
        }
      ]
    },
    {
      "cell_type": "code",
      "source": [
        "sps.jarque_bera(x_2)"
      ],
      "metadata": {
        "colab": {
          "base_uri": "https://localhost:8080/"
        },
        "id": "cLLOKs8o43hB",
        "outputId": "cdd06c2b-c0cc-4e8d-dff7-cfaac25e320b"
      },
      "execution_count": 40,
      "outputs": [
        {
          "output_type": "execute_result",
          "data": {
            "text/plain": [
              "Jarque_beraResult(statistic=6.395303027470309, pvalue=0.04085804595226339)"
            ]
          },
          "metadata": {},
          "execution_count": 40
        }
      ]
    },
    {
      "cell_type": "code",
      "source": [
        "sps.jarque_bera(x_3)"
      ],
      "metadata": {
        "colab": {
          "base_uri": "https://localhost:8080/"
        },
        "id": "elKkfe2L48b3",
        "outputId": "960f8190-4bf3-4a00-d809-8964a6575c2d"
      },
      "execution_count": 41,
      "outputs": [
        {
          "output_type": "execute_result",
          "data": {
            "text/plain": [
              "Jarque_beraResult(statistic=2.668013866804662, pvalue=0.2634196388537735)"
            ]
          },
          "metadata": {},
          "execution_count": 41
        }
      ]
    },
    {
      "cell_type": "markdown",
      "source": [
        "Так как для всех трёх распределений значение p-value больше чем a, то гипотеза о нормальности распределений принимается"
      ],
      "metadata": {
        "id": "D_jNUPw77lSG"
      }
    },
    {
      "cell_type": "code",
      "source": [
        "data = [x_1, x_2, x_3, pooled]\n",
        "fig = plt.figure(figsize =(8, 5))\n",
        "ax = fig.add_axes([0, 0, 1, 1])   #сreating axes instance\n",
        "#fig, ax = plt.subplots()\n",
        "ax.boxplot(data)\n",
        "plt.xticks([1, 2, 3, 4], [\"$X_1$\", \"$X_2$\", \"$X_3$\", \"pooled\"])\n",
        "plt.show()"
      ],
      "metadata": {
        "colab": {
          "base_uri": "https://localhost:8080/",
          "height": 466
        },
        "id": "WzhxIaTXrmfQ",
        "outputId": "fb7b6b17-082d-4714-f322-07fedfa2672d"
      },
      "execution_count": 84,
      "outputs": [
        {
          "output_type": "stream",
          "name": "stderr",
          "text": [
            "/usr/local/lib/python3.7/dist-packages/matplotlib/cbook/__init__.py:1376: VisibleDeprecationWarning: Creating an ndarray from ragged nested sequences (which is a list-or-tuple of lists-or-tuples-or ndarrays with different lengths or shapes) is deprecated. If you meant to do this, you must specify 'dtype=object' when creating the ndarray.\n",
            "  X = np.atleast_1d(X.T if isinstance(X, np.ndarray) else np.asarray(X))\n"
          ]
        },
        {
          "output_type": "display_data",
          "data": {
            "text/plain": [
              "<Figure size 576x360 with 1 Axes>"
            ],
            "image/png": "[encoded data removed]"
          },
          "metadata": {
            "needs_background": "light"
          }
        }
      ]
    },
    {
      "cell_type": "markdown",
      "source": [
        "**Задание №3**"
      ],
      "metadata": {
        "id": "yvqX3BvSBmH4"
      }
    },
    {
      "cell_type": "code",
      "source": [
        "sps.bartlett(x_1, x_2, x_3)"
      ],
      "metadata": {
        "colab": {
          "base_uri": "https://localhost:8080/"
        },
        "id": "qFrx7Su1BqTt",
        "outputId": "c23c5c29-70cd-4ab0-a38b-53372ab977ce"
      },
      "execution_count": 43,
      "outputs": [
        {
          "output_type": "execute_result",
          "data": {
            "text/plain": [
              "BartlettResult(statistic=164.22850946678074, pvalue=2.1788748384198263e-36)"
            ]
          },
          "metadata": {},
          "execution_count": 43
        }
      ]
    },
    {
      "cell_type": "code",
      "source": [
        "sps.levene(x_1, x_2, x_3)  #when distributions aren't normal"
      ],
      "metadata": {
        "colab": {
          "base_uri": "https://localhost:8080/"
        },
        "id": "7_dM-NefER89",
        "outputId": "afc235b9-c4c4-449e-9f13-41c5758dad6c"
      },
      "execution_count": 44,
      "outputs": [
        {
          "output_type": "execute_result",
          "data": {
            "text/plain": [
              "LeveneResult(statistic=61.93421665833836, pvalue=1.5827773360461232e-22)"
            ]
          },
          "metadata": {},
          "execution_count": 44
        }
      ]
    },
    {
      "cell_type": "markdown",
      "source": [
        "Получили, что случайные величины не являются гомоскедастичными"
      ],
      "metadata": {
        "id": "QmfQzBo9WolN"
      }
    },
    {
      "cell_type": "markdown",
      "source": [
        "**Задание №4**"
      ],
      "metadata": {
        "id": "RF_8QGieE3m2"
      }
    },
    {
      "cell_type": "code",
      "source": [
        "n = 250\n",
        "K = 3\n",
        "n_1 = 50\n",
        "n_2 = 100\n",
        "n_3 = 100"
      ],
      "metadata": {
        "id": "I4-3sLybE6AY"
      },
      "execution_count": 45,
      "outputs": []
    },
    {
      "cell_type": "code",
      "source": [
        "D_b = (n_1 * (mean_1 - mean_p) ** 2 + n_2 * (mean_2 - mean_p) ** 2 + n_3 * (mean_3 - mean_p) ** 2) / n\n",
        "D_b"
      ],
      "metadata": {
        "colab": {
          "base_uri": "https://localhost:8080/"
        },
        "id": "QTACCaE8OtpE",
        "outputId": "92926086-ca93-4c07-9758-79b03ee17cdb"
      },
      "execution_count": 46,
      "outputs": [
        {
          "output_type": "execute_result",
          "data": {
            "text/plain": [
              "26.001567114822492"
            ]
          },
          "metadata": {},
          "execution_count": 46
        }
      ]
    },
    {
      "cell_type": "code",
      "source": [
        "D_w = (var_1 * n_1 + var_2 * n_2 + var_3 * n_3) / n\n",
        "D_w"
      ],
      "metadata": {
        "colab": {
          "base_uri": "https://localhost:8080/"
        },
        "id": "49H5uZAHNkGm",
        "outputId": "688c7011-1cf9-475b-a21c-bfaaf994c2b3"
      },
      "execution_count": 47,
      "outputs": [
        {
          "output_type": "execute_result",
          "data": {
            "text/plain": [
              "21.177359296548417"
            ]
          },
          "metadata": {},
          "execution_count": 47
        }
      ]
    },
    {
      "cell_type": "code",
      "source": [
        "D_x = D_w + D_b\n",
        "D_x"
      ],
      "metadata": {
        "colab": {
          "base_uri": "https://localhost:8080/"
        },
        "id": "9Fkxoqu7Py-e",
        "outputId": "fd4de7d8-5ae9-4383-8881-670f2c90e084"
      },
      "execution_count": 48,
      "outputs": [
        {
          "output_type": "execute_result",
          "data": {
            "text/plain": [
              "47.17892641137091"
            ]
          },
          "metadata": {},
          "execution_count": 48
        }
      ]
    },
    {
      "cell_type": "code",
      "source": [
        "unb_est_b = D_b * n / (K - 1)\n",
        "unb_est_b"
      ],
      "metadata": {
        "colab": {
          "base_uri": "https://localhost:8080/"
        },
        "id": "9q4tzXKeQzcv",
        "outputId": "69b55a40-7cda-4d24-b718-cf181b47fe02"
      },
      "execution_count": 49,
      "outputs": [
        {
          "output_type": "execute_result",
          "data": {
            "text/plain": [
              "3250.1958893528117"
            ]
          },
          "metadata": {},
          "execution_count": 49
        }
      ]
    },
    {
      "cell_type": "code",
      "source": [
        "unb_est_w = D_w * n / (n - K)\n",
        "unb_est_w"
      ],
      "metadata": {
        "colab": {
          "base_uri": "https://localhost:8080/"
        },
        "id": "7URRgpVERGSu",
        "outputId": "eb493c0c-4372-4b11-bf28-fbf62e1dd4e8"
      },
      "execution_count": 50,
      "outputs": [
        {
          "output_type": "execute_result",
          "data": {
            "text/plain": [
              "21.434574186789895"
            ]
          },
          "metadata": {},
          "execution_count": 50
        }
      ]
    },
    {
      "cell_type": "code",
      "source": [
        "unb_est_x = D_x * n / (n - 1)\n",
        "unb_est_x"
      ],
      "metadata": {
        "colab": {
          "base_uri": "https://localhost:8080/"
        },
        "id": "9bfGbPkIRRib",
        "outputId": "35bb71ef-c250-413f-9e22-a152d9f0e075"
      },
      "execution_count": 51,
      "outputs": [
        {
          "output_type": "execute_result",
          "data": {
            "text/plain": [
              "47.368400011416576"
            ]
          },
          "metadata": {},
          "execution_count": 51
        }
      ]
    },
    {
      "cell_type": "code",
      "source": [
        "eta_sq = D_b / D_x\n",
        "eta_sq"
      ],
      "metadata": {
        "colab": {
          "base_uri": "https://localhost:8080/"
        },
        "id": "cWCYojspQAoF",
        "outputId": "08d23359-4469-44ba-acd3-425ed88dd506"
      },
      "execution_count": 52,
      "outputs": [
        {
          "output_type": "execute_result",
          "data": {
            "text/plain": [
              "0.5511267231497595"
            ]
          },
          "metadata": {},
          "execution_count": 52
        }
      ]
    },
    {
      "cell_type": "code",
      "source": [
        "eta = math.sqrt(D_b / D_x)\n",
        "eta"
      ],
      "metadata": {
        "colab": {
          "base_uri": "https://localhost:8080/"
        },
        "id": "rJG0caJERlrW",
        "outputId": "c80cea3a-f8ec-4cd2-f44b-5f71e6a4196a"
      },
      "execution_count": 53,
      "outputs": [
        {
          "output_type": "execute_result",
          "data": {
            "text/plain": [
              "0.7423790966546402"
            ]
          },
          "metadata": {},
          "execution_count": 53
        }
      ]
    },
    {
      "cell_type": "markdown",
      "source": [
        "По шкале Чеддока при ŋ = 0.768970060233522 получаем, что степень тесноты связи между факторным и результативными признаками высокая (0.7 - 0.9)"
      ],
      "metadata": {
        "id": "ES3eCACdR4aS"
      }
    },
    {
      "cell_type": "code",
      "source": [
        "sps.f_oneway(x_1, x_2, x_3)"
      ],
      "metadata": {
        "colab": {
          "base_uri": "https://localhost:8080/"
        },
        "id": "hqG-eOvNTEpm",
        "outputId": "579940bb-6690-4555-cf2a-eea7ec59eb3b"
      },
      "execution_count": 54,
      "outputs": [
        {
          "output_type": "execute_result",
          "data": {
            "text/plain": [
              "F_onewayResult(statistic=151.633331319262, pvalue=1.0896405147776392e-43)"
            ]
          },
          "metadata": {},
          "execution_count": 54
        }
      ]
    },
    {
      "cell_type": "markdown",
      "source": [
        "Дисперсионный анализ является слабо чувствительным (робастным) к требованию о нормальности распределения наблюдаемых случайных величин при больших и сбалансированных объёмах выборок, а при нарушении требования их гомоскедастичности наблюдается рост вероятности ошибки второго рода.\n",
        "\n",
        "(условие гомоскедастичности в данной работе не выполено)"
      ],
      "metadata": {
        "id": "fn7q79vuVz78"
      }
    },
    {
      "cell_type": "markdown",
      "source": [
        "**Задание №5**"
      ],
      "metadata": {
        "id": "LyGAXp09Y_wf"
      }
    },
    {
      "cell_type": "code",
      "source": [
        "df = pd.DataFrame({'X_1': x_1, 'X_2': x_2[:50], 'X_3': x_3[:50]}) #по 50 сделать\n",
        "df"
      ],
      "metadata": {
        "colab": {
          "base_uri": "https://localhost:8080/",
          "height": 1000
        },
        "id": "xOwffmqeQaeX",
        "outputId": "2f41d4f0-af7e-4d91-f294-c1832e999807"
      },
      "execution_count": 55,
      "outputs": [
        {
          "output_type": "execute_result",
          "data": {
            "text/plain": [
              "          X_1        X_2       X_3\n",
              "0   18.432989  24.990770  5.165493\n",
              "1   12.771970  16.200107  4.057758\n",
              "2   22.887380  10.108386  9.197872\n",
              "3   21.309365  15.026332  2.191542\n",
              "4   26.248110  13.468546  8.602608\n",
              "5   30.252488   9.485458  6.267063\n",
              "6    9.475901  15.820316  4.864357\n",
              "7    8.254073  24.773968  2.998679\n",
              "8   15.470492  10.901345  6.073082\n",
              "9   10.233909  12.193344  4.100658\n",
              "10   6.909819  10.064582  7.397184\n",
              "11  14.896826  23.801167  2.939005\n",
              "12  12.159078  17.862479  3.065299\n",
              "13  17.233240  23.867803  3.924356\n",
              "14  22.372940   8.967596  3.624763\n",
              "15  14.319261  16.100920  5.156737\n",
              "16  17.632766  12.337737  7.080955\n",
              "17  16.204766  18.730932  3.872558\n",
              "18  13.182248  12.250684  4.516868\n",
              "19  25.671795  24.500191  3.586693\n",
              "20  13.718213  23.550222  4.161024\n",
              "21  10.271439  10.256679  4.550132\n",
              "22  14.805941  16.435582  3.364050\n",
              "23  13.570966  20.089456  3.363345\n",
              "24  12.732908  16.388160  3.215089\n",
              "25  27.869152   5.674154  6.326566\n",
              "26  14.742112  20.768958  5.450331\n",
              "27  10.867654  11.004486  4.678006\n",
              "28  13.794059  22.603206  5.971154\n",
              "29   9.437729  19.952116  4.493737\n",
              "30  21.658660  23.739162  3.501156\n",
              "31  13.793442   9.299162  7.933021\n",
              "32   8.719436   9.631053  7.612374\n",
              "33  12.661212  13.020056  4.101763\n",
              "34  22.377743  22.822533  6.458007\n",
              "35  16.000220  24.188878  4.620070\n",
              "36  11.521850  17.738007  4.861954\n",
              "37  12.534357   6.963432  6.183074\n",
              "38  15.186376  16.573130  4.664670\n",
              "39  10.690970  21.223549  6.302040\n",
              "40   6.226250   5.508819  3.603932\n",
              "41  16.518839  21.672283  4.110375\n",
              "42  29.486996  14.013944  6.635442\n",
              "43  16.466333  20.930503  4.636581\n",
              "44  15.593381  24.909345  5.199975\n",
              "45  19.169601  10.819809  4.593901\n",
              "46  12.865970  21.684837  5.936331\n",
              "47  10.736928  22.415317  7.503585\n",
              "48  13.381890  14.347026  3.696745\n",
              "49  16.744023  13.009467  2.701079"
            ],
            "text/html": [
              "\n",
              "  <div id=\"df-070a51dc-bf9e-4b0c-82ca-2fd87307b883\">\n",
              "    <div class=\"colab-df-container\">\n",
              "      <div>\n",
              "<style scoped>\n",
              "    .dataframe tbody tr th:only-of-type {\n",
              "        vertical-align: middle;\n",
              "    }\n",
              "\n",
              "    .dataframe tbody tr th {\n",
              "        vertical-align: top;\n",
              "    }\n",
              "\n",
              "    .dataframe thead th {\n",
              "        text-align: right;\n",
              "    }\n",
              "</style>\n",
              "<table border=\"1\" class=\"dataframe\">\n",
              "  <thead>\n",
              "    <tr style=\"text-align: right;\">\n",
              "      <th></th>\n",
              "      <th>X_1</th>\n",
              "      <th>X_2</th>\n",
              "      <th>X_3</th>\n",
              "    </tr>\n",
              "  </thead>\n",
              "  <tbody>\n",
              "    <tr>\n",
              "      <th>0</th>\n",
              "      <td>18.432989</td>\n",
              "      <td>24.990770</td>\n",
              "      <td>5.165493</td>\n",
              "    </tr>\n",
              "    <tr>\n",
              "      <th>1</th>\n",
              "      <td>12.771970</td>\n",
              "      <td>16.200107</td>\n",
              "      <td>4.057758</td>\n",
              "    </tr>\n",
              "    <tr>\n",
              "      <th>2</th>\n",
              "      <td>22.887380</td>\n",
              "      <td>10.108386</td>\n",
              "      <td>9.197872</td>\n",
              "    </tr>\n",
              "    <tr>\n",
              "      <th>3</th>\n",
              "      <td>21.309365</td>\n",
              "      <td>15.026332</td>\n",
              "      <td>2.191542</td>\n",
              "    </tr>\n",
              "    <tr>\n",
              "      <th>4</th>\n",
              "      <td>26.248110</td>\n",
              "      <td>13.468546</td>\n",
              "      <td>8.602608</td>\n",
              "    </tr>\n",
              "    <tr>\n",
              "      <th>5</th>\n",
              "      <td>30.252488</td>\n",
              "      <td>9.485458</td>\n",
              "      <td>6.267063</td>\n",
              "    </tr>\n",
              "    <tr>\n",
              "      <th>6</th>\n",
              "      <td>9.475901</td>\n",
              "      <td>15.820316</td>\n",
              "      <td>4.864357</td>\n",
              "    </tr>\n",
              "    <tr>\n",
              "      <th>7</th>\n",
              "      <td>8.254073</td>\n",
              "      <td>24.773968</td>\n",
              "      <td>2.998679</td>\n",
              "    </tr>\n",
              "    <tr>\n",
              "      <th>8</th>\n",
              "      <td>15.470492</td>\n",
              "      <td>10.901345</td>\n",
              "      <td>6.073082</td>\n",
              "    </tr>\n",
              "    <tr>\n",
              "      <th>9</th>\n",
              "      <td>10.233909</td>\n",
              "      <td>12.193344</td>\n",
              "      <td>4.100658</td>\n",
              "    </tr>\n",
              "    <tr>\n",
              "      <th>10</th>\n",
              "      <td>6.909819</td>\n",
              "      <td>10.064582</td>\n",
              "      <td>7.397184</td>\n",
              "    </tr>\n",
              "    <tr>\n",
              "      <th>11</th>\n",
              "      <td>14.896826</td>\n",
              "      <td>23.801167</td>\n",
              "      <td>2.939005</td>\n",
              "    </tr>\n",
              "    <tr>\n",
              "      <th>12</th>\n",
              "      <td>12.159078</td>\n",
              "      <td>17.862479</td>\n",
              "      <td>3.065299</td>\n",
              "    </tr>\n",
              "    <tr>\n",
              "      <th>13</th>\n",
              "      <td>17.233240</td>\n",
              "      <td>23.867803</td>\n",
              "      <td>3.924356</td>\n",
              "    </tr>\n",
              "    <tr>\n",
              "      <th>14</th>\n",
              "      <td>22.372940</td>\n",
              "      <td>8.967596</td>\n",
              "      <td>3.624763</td>\n",
              "    </tr>\n",
              "    <tr>\n",
              "      <th>15</th>\n",
              "      <td>14.319261</td>\n",
              "      <td>16.100920</td>\n",
              "      <td>5.156737</td>\n",
              "    </tr>\n",
              "    <tr>\n",
              "      <th>16</th>\n",
              "      <td>17.632766</td>\n",
              "      <td>12.337737</td>\n",
              "      <td>7.080955</td>\n",
              "    </tr>\n",
              "    <tr>\n",
              "      <th>17</th>\n",
              "      <td>16.204766</td>\n",
              "      <td>18.730932</td>\n",
              "      <td>3.872558</td>\n",
              "    </tr>\n",
              "    <tr>\n",
              "      <th>18</th>\n",
              "      <td>13.182248</td>\n",
              "      <td>12.250684</td>\n",
              "      <td>4.516868</td>\n",
              "    </tr>\n",
              "    <tr>\n",
              "      <th>19</th>\n",
              "      <td>25.671795</td>\n",
              "      <td>24.500191</td>\n",
              "      <td>3.586693</td>\n",
              "    </tr>\n",
              "    <tr>\n",
              "      <th>20</th>\n",
              "      <td>13.718213</td>\n",
              "      <td>23.550222</td>\n",
              "      <td>4.161024</td>\n",
              "    </tr>\n",
              "    <tr>\n",
              "      <th>21</th>\n",
              "      <td>10.271439</td>\n",
              "      <td>10.256679</td>\n",
              "      <td>4.550132</td>\n",
              "    </tr>\n",
              "    <tr>\n",
              "      <th>22</th>\n",
              "      <td>14.805941</td>\n",
              "      <td>16.435582</td>\n",
              "      <td>3.364050</td>\n",
              "    </tr>\n",
              "    <tr>\n",
              "      <th>23</th>\n",
              "      <td>13.570966</td>\n",
              "      <td>20.089456</td>\n",
              "      <td>3.363345</td>\n",
              "    </tr>\n",
              "    <tr>\n",
              "      <th>24</th>\n",
              "      <td>12.732908</td>\n",
              "      <td>16.388160</td>\n",
              "      <td>3.215089</td>\n",
              "    </tr>\n",
              "    <tr>\n",
              "      <th>25</th>\n",
              "      <td>27.869152</td>\n",
              "      <td>5.674154</td>\n",
              "      <td>6.326566</td>\n",
              "    </tr>\n",
              "    <tr>\n",
              "      <th>26</th>\n",
              "      <td>14.742112</td>\n",
              "      <td>20.768958</td>\n",
              "      <td>5.450331</td>\n",
              "    </tr>\n",
              "    <tr>\n",
              "      <th>27</th>\n",
              "      <td>10.867654</td>\n",
              "      <td>11.004486</td>\n",
              "      <td>4.678006</td>\n",
              "    </tr>\n",
              "    <tr>\n",
              "      <th>28</th>\n",
              "      <td>13.794059</td>\n",
              "      <td>22.603206</td>\n",
              "      <td>5.971154</td>\n",
              "    </tr>\n",
              "    <tr>\n",
              "      <th>29</th>\n",
              "      <td>9.437729</td>\n",
              "      <td>19.952116</td>\n",
              "      <td>4.493737</td>\n",
              "    </tr>\n",
              "    <tr>\n",
              "      <th>30</th>\n",
              "      <td>21.658660</td>\n",
              "      <td>23.739162</td>\n",
              "      <td>3.501156</td>\n",
              "    </tr>\n",
              "    <tr>\n",
              "      <th>31</th>\n",
              "      <td>13.793442</td>\n",
              "      <td>9.299162</td>\n",
              "      <td>7.933021</td>\n",
              "    </tr>\n",
              "    <tr>\n",
              "      <th>32</th>\n",
              "      <td>8.719436</td>\n",
              "      <td>9.631053</td>\n",
              "      <td>7.612374</td>\n",
              "    </tr>\n",
              "    <tr>\n",
              "      <th>33</th>\n",
              "      <td>12.661212</td>\n",
              "      <td>13.020056</td>\n",
              "      <td>4.101763</td>\n",
              "    </tr>\n",
              "    <tr>\n",
              "      <th>34</th>\n",
              "      <td>22.377743</td>\n",
              "      <td>22.822533</td>\n",
              "      <td>6.458007</td>\n",
              "    </tr>\n",
              "    <tr>\n",
              "      <th>35</th>\n",
              "      <td>16.000220</td>\n",
              "      <td>24.188878</td>\n",
              "      <td>4.620070</td>\n",
              "    </tr>\n",
              "    <tr>\n",
              "      <th>36</th>\n",
              "      <td>11.521850</td>\n",
              "      <td>17.738007</td>\n",
              "      <td>4.861954</td>\n",
              "    </tr>\n",
              "    <tr>\n",
              "      <th>37</th>\n",
              "      <td>12.534357</td>\n",
              "      <td>6.963432</td>\n",
              "      <td>6.183074</td>\n",
              "    </tr>\n",
              "    <tr>\n",
              "      <th>38</th>\n",
              "      <td>15.186376</td>\n",
              "      <td>16.573130</td>\n",
              "      <td>4.664670</td>\n",
              "    </tr>\n",
              "    <tr>\n",
              "      <th>39</th>\n",
              "      <td>10.690970</td>\n",
              "      <td>21.223549</td>\n",
              "      <td>6.302040</td>\n",
              "    </tr>\n",
              "    <tr>\n",
              "      <th>40</th>\n",
              "      <td>6.226250</td>\n",
              "      <td>5.508819</td>\n",
              "      <td>3.603932</td>\n",
              "    </tr>\n",
              "    <tr>\n",
              "      <th>41</th>\n",
              "      <td>16.518839</td>\n",
              "      <td>21.672283</td>\n",
              "      <td>4.110375</td>\n",
              "    </tr>\n",
              "    <tr>\n",
              "      <th>42</th>\n",
              "      <td>29.486996</td>\n",
              "      <td>14.013944</td>\n",
              "      <td>6.635442</td>\n",
              "    </tr>\n",
              "    <tr>\n",
              "      <th>43</th>\n",
              "      <td>16.466333</td>\n",
              "      <td>20.930503</td>\n",
              "      <td>4.636581</td>\n",
              "    </tr>\n",
              "    <tr>\n",
              "      <th>44</th>\n",
              "      <td>15.593381</td>\n",
              "      <td>24.909345</td>\n",
              "      <td>5.199975</td>\n",
              "    </tr>\n",
              "    <tr>\n",
              "      <th>45</th>\n",
              "      <td>19.169601</td>\n",
              "      <td>10.819809</td>\n",
              "      <td>4.593901</td>\n",
              "    </tr>\n",
              "    <tr>\n",
              "      <th>46</th>\n",
              "      <td>12.865970</td>\n",
              "      <td>21.684837</td>\n",
              "      <td>5.936331</td>\n",
              "    </tr>\n",
              "    <tr>\n",
              "      <th>47</th>\n",
              "      <td>10.736928</td>\n",
              "      <td>22.415317</td>\n",
              "      <td>7.503585</td>\n",
              "    </tr>\n",
              "    <tr>\n",
              "      <th>48</th>\n",
              "      <td>13.381890</td>\n",
              "      <td>14.347026</td>\n",
              "      <td>3.696745</td>\n",
              "    </tr>\n",
              "    <tr>\n",
              "      <th>49</th>\n",
              "      <td>16.744023</td>\n",
              "      <td>13.009467</td>\n",
              "      <td>2.701079</td>\n",
              "    </tr>\n",
              "  </tbody>\n",
              "</table>\n",
              "</div>\n",
              "      <button class=\"colab-df-convert\" onclick=\"convertToInteractive('df-070a51dc-bf9e-4b0c-82ca-2fd87307b883')\"\n",
              "              title=\"Convert this dataframe to an interactive table.\"\n",
              "              style=\"display:none;\">\n",
              "        \n",
              "  <svg xmlns=\"http://www.w3.org/2000/svg\" height=\"24px\"viewBox=\"0 0 24 24\"\n",
              "       width=\"24px\">\n",
              "    <path d=\"M0 0h24v24H0V0z\" fill=\"none\"/>\n",
              "    <path d=\"M18.56 5.44l.94 2.06.94-2.06 2.06-.94-2.06-.94-.94-2.06-.94 2.06-2.06.94zm-11 1L8.5 8.5l.94-2.06 2.06-.94-2.06-.94L8.5 2.5l-.94 2.06-2.06.94zm10 10l.94 2.06.94-2.06 2.06-.94-2.06-.94-.94-2.06-.94 2.06-2.06.94z\"/><path d=\"M17.41 7.96l-1.37-1.37c-.4-.4-.92-.59-1.43-.59-.52 0-1.04.2-1.43.59L10.3 9.45l-7.72 7.72c-.78.78-.78 2.05 0 2.83L4 21.41c.39.39.9.59 1.41.59.51 0 1.02-.2 1.41-.59l7.78-7.78 2.81-2.81c.8-.78.8-2.07 0-2.86zM5.41 20L4 18.59l7.72-7.72 1.47 1.35L5.41 20z\"/>\n",
              "  </svg>\n",
              "      </button>\n",
              "      \n",
              "  <style>\n",
              "    .colab-df-container {\n",
              "      display:flex;\n",
              "      flex-wrap:wrap;\n",
              "      gap: 12px;\n",
              "    }\n",
              "\n",
              "    .colab-df-convert {\n",
              "      background-color: #E8F0FE;\n",
              "      border: none;\n",
              "      border-radius: 50%;\n",
              "      cursor: pointer;\n",
              "      display: none;\n",
              "      fill: #1967D2;\n",
              "      height: 32px;\n",
              "      padding: 0 0 0 0;\n",
              "      width: 32px;\n",
              "    }\n",
              "\n",
              "    .colab-df-convert:hover {\n",
              "      background-color: #E2EBFA;\n",
              "      box-shadow: 0px 1px 2px rgba(60, 64, 67, 0.3), 0px 1px 3px 1px rgba(60, 64, 67, 0.15);\n",
              "      fill: #174EA6;\n",
              "    }\n",
              "\n",
              "    [theme=dark] .colab-df-convert {\n",
              "      background-color: #3B4455;\n",
              "      fill: #D2E3FC;\n",
              "    }\n",
              "\n",
              "    [theme=dark] .colab-df-convert:hover {\n",
              "      background-color: #434B5C;\n",
              "      box-shadow: 0px 1px 3px 1px rgba(0, 0, 0, 0.15);\n",
              "      filter: drop-shadow(0px 1px 2px rgba(0, 0, 0, 0.3));\n",
              "      fill: #FFFFFF;\n",
              "    }\n",
              "  </style>\n",
              "\n",
              "      <script>\n",
              "        const buttonEl =\n",
              "          document.querySelector('#df-070a51dc-bf9e-4b0c-82ca-2fd87307b883 button.colab-df-convert');\n",
              "        buttonEl.style.display =\n",
              "          google.colab.kernel.accessAllowed ? 'block' : 'none';\n",
              "\n",
              "        async function convertToInteractive(key) {\n",
              "          const element = document.querySelector('#df-070a51dc-bf9e-4b0c-82ca-2fd87307b883');\n",
              "          const dataTable =\n",
              "            await google.colab.kernel.invokeFunction('convertToInteractive',\n",
              "                                                     [key], {});\n",
              "          if (!dataTable) return;\n",
              "\n",
              "          const docLinkHtml = 'Like what you see? Visit the ' +\n",
              "            '<a target=\"_blank\" href=https://colab.research.google.com/notebooks/data_table.ipynb>data table notebook</a>'\n",
              "            + ' to learn more about interactive tables.';\n",
              "          element.innerHTML = '';\n",
              "          dataTable['output_type'] = 'display_data';\n",
              "          await google.colab.output.renderOutput(dataTable, element);\n",
              "          const docLink = document.createElement('div');\n",
              "          docLink.innerHTML = docLinkHtml;\n",
              "          element.appendChild(docLink);\n",
              "        }\n",
              "      </script>\n",
              "    </div>\n",
              "  </div>\n",
              "  "
            ]
          },
          "metadata": {},
          "execution_count": 55
        }
      ]
    },
    {
      "cell_type": "code",
      "source": [
        "data = df.stack().reset_index()\n",
        "data"
      ],
      "metadata": {
        "colab": {
          "base_uri": "https://localhost:8080/",
          "height": 419
        },
        "id": "270c8A-MiTtC",
        "outputId": "2a762cbd-b1d3-4324-f0a5-c2f52d8f7041"
      },
      "execution_count": 56,
      "outputs": [
        {
          "output_type": "execute_result",
          "data": {
            "text/plain": [
              "     level_0 level_1          0\n",
              "0          0     X_1  18.432989\n",
              "1          0     X_2  24.990770\n",
              "2          0     X_3   5.165493\n",
              "3          1     X_1  12.771970\n",
              "4          1     X_2  16.200107\n",
              "..       ...     ...        ...\n",
              "145       48     X_2  14.347026\n",
              "146       48     X_3   3.696745\n",
              "147       49     X_1  16.744023\n",
              "148       49     X_2  13.009467\n",
              "149       49     X_3   2.701079\n",
              "\n",
              "[150 rows x 3 columns]"
            ],
            "text/html": [
              "\n",
              "  <div id=\"df-fbf7931e-d4d0-4323-8416-aff7ef86f7d7\">\n",
              "    <div class=\"colab-df-container\">\n",
              "      <div>\n",
              "<style scoped>\n",
              "    .dataframe tbody tr th:only-of-type {\n",
              "        vertical-align: middle;\n",
              "    }\n",
              "\n",
              "    .dataframe tbody tr th {\n",
              "        vertical-align: top;\n",
              "    }\n",
              "\n",
              "    .dataframe thead th {\n",
              "        text-align: right;\n",
              "    }\n",
              "</style>\n",
              "<table border=\"1\" class=\"dataframe\">\n",
              "  <thead>\n",
              "    <tr style=\"text-align: right;\">\n",
              "      <th></th>\n",
              "      <th>level_0</th>\n",
              "      <th>level_1</th>\n",
              "      <th>0</th>\n",
              "    </tr>\n",
              "  </thead>\n",
              "  <tbody>\n",
              "    <tr>\n",
              "      <th>0</th>\n",
              "      <td>0</td>\n",
              "      <td>X_1</td>\n",
              "      <td>18.432989</td>\n",
              "    </tr>\n",
              "    <tr>\n",
              "      <th>1</th>\n",
              "      <td>0</td>\n",
              "      <td>X_2</td>\n",
              "      <td>24.990770</td>\n",
              "    </tr>\n",
              "    <tr>\n",
              "      <th>2</th>\n",
              "      <td>0</td>\n",
              "      <td>X_3</td>\n",
              "      <td>5.165493</td>\n",
              "    </tr>\n",
              "    <tr>\n",
              "      <th>3</th>\n",
              "      <td>1</td>\n",
              "      <td>X_1</td>\n",
              "      <td>12.771970</td>\n",
              "    </tr>\n",
              "    <tr>\n",
              "      <th>4</th>\n",
              "      <td>1</td>\n",
              "      <td>X_2</td>\n",
              "      <td>16.200107</td>\n",
              "    </tr>\n",
              "    <tr>\n",
              "      <th>...</th>\n",
              "      <td>...</td>\n",
              "      <td>...</td>\n",
              "      <td>...</td>\n",
              "    </tr>\n",
              "    <tr>\n",
              "      <th>145</th>\n",
              "      <td>48</td>\n",
              "      <td>X_2</td>\n",
              "      <td>14.347026</td>\n",
              "    </tr>\n",
              "    <tr>\n",
              "      <th>146</th>\n",
              "      <td>48</td>\n",
              "      <td>X_3</td>\n",
              "      <td>3.696745</td>\n",
              "    </tr>\n",
              "    <tr>\n",
              "      <th>147</th>\n",
              "      <td>49</td>\n",
              "      <td>X_1</td>\n",
              "      <td>16.744023</td>\n",
              "    </tr>\n",
              "    <tr>\n",
              "      <th>148</th>\n",
              "      <td>49</td>\n",
              "      <td>X_2</td>\n",
              "      <td>13.009467</td>\n",
              "    </tr>\n",
              "    <tr>\n",
              "      <th>149</th>\n",
              "      <td>49</td>\n",
              "      <td>X_3</td>\n",
              "      <td>2.701079</td>\n",
              "    </tr>\n",
              "  </tbody>\n",
              "</table>\n",
              "<p>150 rows × 3 columns</p>\n",
              "</div>\n",
              "      <button class=\"colab-df-convert\" onclick=\"convertToInteractive('df-fbf7931e-d4d0-4323-8416-aff7ef86f7d7')\"\n",
              "              title=\"Convert this dataframe to an interactive table.\"\n",
              "              style=\"display:none;\">\n",
              "        \n",
              "  <svg xmlns=\"http://www.w3.org/2000/svg\" height=\"24px\"viewBox=\"0 0 24 24\"\n",
              "       width=\"24px\">\n",
              "    <path d=\"M0 0h24v24H0V0z\" fill=\"none\"/>\n",
              "    <path d=\"M18.56 5.44l.94 2.06.94-2.06 2.06-.94-2.06-.94-.94-2.06-.94 2.06-2.06.94zm-11 1L8.5 8.5l.94-2.06 2.06-.94-2.06-.94L8.5 2.5l-.94 2.06-2.06.94zm10 10l.94 2.06.94-2.06 2.06-.94-2.06-.94-.94-2.06-.94 2.06-2.06.94z\"/><path d=\"M17.41 7.96l-1.37-1.37c-.4-.4-.92-.59-1.43-.59-.52 0-1.04.2-1.43.59L10.3 9.45l-7.72 7.72c-.78.78-.78 2.05 0 2.83L4 21.41c.39.39.9.59 1.41.59.51 0 1.02-.2 1.41-.59l7.78-7.78 2.81-2.81c.8-.78.8-2.07 0-2.86zM5.41 20L4 18.59l7.72-7.72 1.47 1.35L5.41 20z\"/>\n",
              "  </svg>\n",
              "      </button>\n",
              "      \n",
              "  <style>\n",
              "    .colab-df-container {\n",
              "      display:flex;\n",
              "      flex-wrap:wrap;\n",
              "      gap: 12px;\n",
              "    }\n",
              "\n",
              "    .colab-df-convert {\n",
              "      background-color: #E8F0FE;\n",
              "      border: none;\n",
              "      border-radius: 50%;\n",
              "      cursor: pointer;\n",
              "      display: none;\n",
              "      fill: #1967D2;\n",
              "      height: 32px;\n",
              "      padding: 0 0 0 0;\n",
              "      width: 32px;\n",
              "    }\n",
              "\n",
              "    .colab-df-convert:hover {\n",
              "      background-color: #E2EBFA;\n",
              "      box-shadow: 0px 1px 2px rgba(60, 64, 67, 0.3), 0px 1px 3px 1px rgba(60, 64, 67, 0.15);\n",
              "      fill: #174EA6;\n",
              "    }\n",
              "\n",
              "    [theme=dark] .colab-df-convert {\n",
              "      background-color: #3B4455;\n",
              "      fill: #D2E3FC;\n",
              "    }\n",
              "\n",
              "    [theme=dark] .colab-df-convert:hover {\n",
              "      background-color: #434B5C;\n",
              "      box-shadow: 0px 1px 3px 1px rgba(0, 0, 0, 0.15);\n",
              "      filter: drop-shadow(0px 1px 2px rgba(0, 0, 0, 0.3));\n",
              "      fill: #FFFFFF;\n",
              "    }\n",
              "  </style>\n",
              "\n",
              "      <script>\n",
              "        const buttonEl =\n",
              "          document.querySelector('#df-fbf7931e-d4d0-4323-8416-aff7ef86f7d7 button.colab-df-convert');\n",
              "        buttonEl.style.display =\n",
              "          google.colab.kernel.accessAllowed ? 'block' : 'none';\n",
              "\n",
              "        async function convertToInteractive(key) {\n",
              "          const element = document.querySelector('#df-fbf7931e-d4d0-4323-8416-aff7ef86f7d7');\n",
              "          const dataTable =\n",
              "            await google.colab.kernel.invokeFunction('convertToInteractive',\n",
              "                                                     [key], {});\n",
              "          if (!dataTable) return;\n",
              "\n",
              "          const docLinkHtml = 'Like what you see? Visit the ' +\n",
              "            '<a target=\"_blank\" href=https://colab.research.google.com/notebooks/data_table.ipynb>data table notebook</a>'\n",
              "            + ' to learn more about interactive tables.';\n",
              "          element.innerHTML = '';\n",
              "          dataTable['output_type'] = 'display_data';\n",
              "          await google.colab.output.renderOutput(dataTable, element);\n",
              "          const docLink = document.createElement('div');\n",
              "          docLink.innerHTML = docLinkHtml;\n",
              "          element.appendChild(docLink);\n",
              "        }\n",
              "      </script>\n",
              "    </div>\n",
              "  </div>\n",
              "  "
            ]
          },
          "metadata": {},
          "execution_count": 56
        }
      ]
    },
    {
      "cell_type": "code",
      "source": [
        "data = data.rename(columns={\"level_0\": \"id\", \"level_1\": \"group\", 0: \"score\"})\n",
        "data"
      ],
      "metadata": {
        "colab": {
          "base_uri": "https://localhost:8080/",
          "height": 419
        },
        "id": "tAuwA5cxjInh",
        "outputId": "9b53039b-f9ad-4f18-efd2-6e0a33b49eb7"
      },
      "execution_count": 57,
      "outputs": [
        {
          "output_type": "execute_result",
          "data": {
            "text/plain": [
              "     id group      score\n",
              "0     0   X_1  18.432989\n",
              "1     0   X_2  24.990770\n",
              "2     0   X_3   5.165493\n",
              "3     1   X_1  12.771970\n",
              "4     1   X_2  16.200107\n",
              "..   ..   ...        ...\n",
              "145  48   X_2  14.347026\n",
              "146  48   X_3   3.696745\n",
              "147  49   X_1  16.744023\n",
              "148  49   X_2  13.009467\n",
              "149  49   X_3   2.701079\n",
              "\n",
              "[150 rows x 3 columns]"
            ],
            "text/html": [
              "\n",
              "  <div id=\"df-ed6636d0-99c6-4e02-a635-94104c4ba6c3\">\n",
              "    <div class=\"colab-df-container\">\n",
              "      <div>\n",
              "<style scoped>\n",
              "    .dataframe tbody tr th:only-of-type {\n",
              "        vertical-align: middle;\n",
              "    }\n",
              "\n",
              "    .dataframe tbody tr th {\n",
              "        vertical-align: top;\n",
              "    }\n",
              "\n",
              "    .dataframe thead th {\n",
              "        text-align: right;\n",
              "    }\n",
              "</style>\n",
              "<table border=\"1\" class=\"dataframe\">\n",
              "  <thead>\n",
              "    <tr style=\"text-align: right;\">\n",
              "      <th></th>\n",
              "      <th>id</th>\n",
              "      <th>group</th>\n",
              "      <th>score</th>\n",
              "    </tr>\n",
              "  </thead>\n",
              "  <tbody>\n",
              "    <tr>\n",
              "      <th>0</th>\n",
              "      <td>0</td>\n",
              "      <td>X_1</td>\n",
              "      <td>18.432989</td>\n",
              "    </tr>\n",
              "    <tr>\n",
              "      <th>1</th>\n",
              "      <td>0</td>\n",
              "      <td>X_2</td>\n",
              "      <td>24.990770</td>\n",
              "    </tr>\n",
              "    <tr>\n",
              "      <th>2</th>\n",
              "      <td>0</td>\n",
              "      <td>X_3</td>\n",
              "      <td>5.165493</td>\n",
              "    </tr>\n",
              "    <tr>\n",
              "      <th>3</th>\n",
              "      <td>1</td>\n",
              "      <td>X_1</td>\n",
              "      <td>12.771970</td>\n",
              "    </tr>\n",
              "    <tr>\n",
              "      <th>4</th>\n",
              "      <td>1</td>\n",
              "      <td>X_2</td>\n",
              "      <td>16.200107</td>\n",
              "    </tr>\n",
              "    <tr>\n",
              "      <th>...</th>\n",
              "      <td>...</td>\n",
              "      <td>...</td>\n",
              "      <td>...</td>\n",
              "    </tr>\n",
              "    <tr>\n",
              "      <th>145</th>\n",
              "      <td>48</td>\n",
              "      <td>X_2</td>\n",
              "      <td>14.347026</td>\n",
              "    </tr>\n",
              "    <tr>\n",
              "      <th>146</th>\n",
              "      <td>48</td>\n",
              "      <td>X_3</td>\n",
              "      <td>3.696745</td>\n",
              "    </tr>\n",
              "    <tr>\n",
              "      <th>147</th>\n",
              "      <td>49</td>\n",
              "      <td>X_1</td>\n",
              "      <td>16.744023</td>\n",
              "    </tr>\n",
              "    <tr>\n",
              "      <th>148</th>\n",
              "      <td>49</td>\n",
              "      <td>X_2</td>\n",
              "      <td>13.009467</td>\n",
              "    </tr>\n",
              "    <tr>\n",
              "      <th>149</th>\n",
              "      <td>49</td>\n",
              "      <td>X_3</td>\n",
              "      <td>2.701079</td>\n",
              "    </tr>\n",
              "  </tbody>\n",
              "</table>\n",
              "<p>150 rows × 3 columns</p>\n",
              "</div>\n",
              "      <button class=\"colab-df-convert\" onclick=\"convertToInteractive('df-ed6636d0-99c6-4e02-a635-94104c4ba6c3')\"\n",
              "              title=\"Convert this dataframe to an interactive table.\"\n",
              "              style=\"display:none;\">\n",
              "        \n",
              "  <svg xmlns=\"http://www.w3.org/2000/svg\" height=\"24px\"viewBox=\"0 0 24 24\"\n",
              "       width=\"24px\">\n",
              "    <path d=\"M0 0h24v24H0V0z\" fill=\"none\"/>\n",
              "    <path d=\"M18.56 5.44l.94 2.06.94-2.06 2.06-.94-2.06-.94-.94-2.06-.94 2.06-2.06.94zm-11 1L8.5 8.5l.94-2.06 2.06-.94-2.06-.94L8.5 2.5l-.94 2.06-2.06.94zm10 10l.94 2.06.94-2.06 2.06-.94-2.06-.94-.94-2.06-.94 2.06-2.06.94z\"/><path d=\"M17.41 7.96l-1.37-1.37c-.4-.4-.92-.59-1.43-.59-.52 0-1.04.2-1.43.59L10.3 9.45l-7.72 7.72c-.78.78-.78 2.05 0 2.83L4 21.41c.39.39.9.59 1.41.59.51 0 1.02-.2 1.41-.59l7.78-7.78 2.81-2.81c.8-.78.8-2.07 0-2.86zM5.41 20L4 18.59l7.72-7.72 1.47 1.35L5.41 20z\"/>\n",
              "  </svg>\n",
              "      </button>\n",
              "      \n",
              "  <style>\n",
              "    .colab-df-container {\n",
              "      display:flex;\n",
              "      flex-wrap:wrap;\n",
              "      gap: 12px;\n",
              "    }\n",
              "\n",
              "    .colab-df-convert {\n",
              "      background-color: #E8F0FE;\n",
              "      border: none;\n",
              "      border-radius: 50%;\n",
              "      cursor: pointer;\n",
              "      display: none;\n",
              "      fill: #1967D2;\n",
              "      height: 32px;\n",
              "      padding: 0 0 0 0;\n",
              "      width: 32px;\n",
              "    }\n",
              "\n",
              "    .colab-df-convert:hover {\n",
              "      background-color: #E2EBFA;\n",
              "      box-shadow: 0px 1px 2px rgba(60, 64, 67, 0.3), 0px 1px 3px 1px rgba(60, 64, 67, 0.15);\n",
              "      fill: #174EA6;\n",
              "    }\n",
              "\n",
              "    [theme=dark] .colab-df-convert {\n",
              "      background-color: #3B4455;\n",
              "      fill: #D2E3FC;\n",
              "    }\n",
              "\n",
              "    [theme=dark] .colab-df-convert:hover {\n",
              "      background-color: #434B5C;\n",
              "      box-shadow: 0px 1px 3px 1px rgba(0, 0, 0, 0.15);\n",
              "      filter: drop-shadow(0px 1px 2px rgba(0, 0, 0, 0.3));\n",
              "      fill: #FFFFFF;\n",
              "    }\n",
              "  </style>\n",
              "\n",
              "      <script>\n",
              "        const buttonEl =\n",
              "          document.querySelector('#df-ed6636d0-99c6-4e02-a635-94104c4ba6c3 button.colab-df-convert');\n",
              "        buttonEl.style.display =\n",
              "          google.colab.kernel.accessAllowed ? 'block' : 'none';\n",
              "\n",
              "        async function convertToInteractive(key) {\n",
              "          const element = document.querySelector('#df-ed6636d0-99c6-4e02-a635-94104c4ba6c3');\n",
              "          const dataTable =\n",
              "            await google.colab.kernel.invokeFunction('convertToInteractive',\n",
              "                                                     [key], {});\n",
              "          if (!dataTable) return;\n",
              "\n",
              "          const docLinkHtml = 'Like what you see? Visit the ' +\n",
              "            '<a target=\"_blank\" href=https://colab.research.google.com/notebooks/data_table.ipynb>data table notebook</a>'\n",
              "            + ' to learn more about interactive tables.';\n",
              "          element.innerHTML = '';\n",
              "          dataTable['output_type'] = 'display_data';\n",
              "          await google.colab.output.renderOutput(dataTable, element);\n",
              "          const docLink = document.createElement('div');\n",
              "          docLink.innerHTML = docLinkHtml;\n",
              "          element.appendChild(docLink);\n",
              "        }\n",
              "      </script>\n",
              "    </div>\n",
              "  </div>\n",
              "  "
            ]
          },
          "metadata": {},
          "execution_count": 57
        }
      ]
    },
    {
      "cell_type": "code",
      "source": [
        "tukey_comp = pairwise_tukeyhsd(endog=data[\"score\"], groups=data[\"group\"], alpha=0.05)\n",
        "print(tukey_comp)"
      ],
      "metadata": {
        "colab": {
          "base_uri": "https://localhost:8080/"
        },
        "id": "lbrGaDnYkOtB",
        "outputId": "117553bc-1e20-4c9b-ecd6-9b6a25fc4f8f"
      },
      "execution_count": 58,
      "outputs": [
        {
          "output_type": "stream",
          "name": "stdout",
          "text": [
            " Multiple Comparison of Means - Tukey HSD, FWER=0.05 \n",
            "=====================================================\n",
            "group1 group2 meandiff p-adj   lower    upper  reject\n",
            "-----------------------------------------------------\n",
            "   X_1    X_2   0.8524 0.6353  -1.4137  3.1186  False\n",
            "   X_1    X_3  -10.619  0.001 -12.8851 -8.3529   True\n",
            "   X_2    X_3 -11.4715  0.001 -13.7376 -9.2053   True\n",
            "-----------------------------------------------------\n"
          ]
        }
      ]
    },
    {
      "cell_type": "code",
      "source": [
        "def linear_contrast_method(x, y, alpha):\n",
        "  c = x.mean() - y.mean()\n",
        "  sigma_sq = (n * D_w / (n - K)) * (1 / len(x) + 1/len(y))\n",
        "  kv_f = sps.f(K - 1, n - K).ppf(1 - alpha)\n",
        "  lower = c - math.sqrt(sigma_sq * (K - 1) * kv_f)\n",
        "  upper = c + math.sqrt(sigma_sq * (K - 1) * kv_f)\n",
        "  return lower, upper"
      ],
      "metadata": {
        "id": "dvcpkBEipYgV"
      },
      "execution_count": 60,
      "outputs": []
    },
    {
      "cell_type": "code",
      "source": [
        "alpha = 0.05"
      ],
      "metadata": {
        "id": "oZRKkJEWuFjW"
      },
      "execution_count": 61,
      "outputs": []
    },
    {
      "cell_type": "code",
      "source": [
        "a_1, b_1 = linear_contrast_method(x_1, x_2, alpha)\n",
        "a_1, b_1"
      ],
      "metadata": {
        "colab": {
          "base_uri": "https://localhost:8080/"
        },
        "id": "3JYVvi1JuHpZ",
        "outputId": "3d66ce53-8b19-4427-b545-8897270fbb59"
      },
      "execution_count": 64,
      "outputs": [
        {
          "output_type": "execute_result",
          "data": {
            "text/plain": [
              "(-1.7993391599895137, 2.1502646920286734)"
            ]
          },
          "metadata": {},
          "execution_count": 64
        }
      ]
    },
    {
      "cell_type": "code",
      "source": [
        "a_2, b_2 = linear_contrast_method(x_1, x_3, alpha)\n",
        "a_2, b_2"
      ],
      "metadata": {
        "colab": {
          "base_uri": "https://localhost:8080/"
        },
        "id": "qerGiHkcup50",
        "outputId": "dfeafa71-30e5-4c71-a41f-98696d7b3da3"
      },
      "execution_count": 65,
      "outputs": [
        {
          "output_type": "execute_result",
          "data": {
            "text/plain": [
              "(8.549995261166394, 12.49959911318458)"
            ]
          },
          "metadata": {},
          "execution_count": 65
        }
      ]
    },
    {
      "cell_type": "code",
      "source": [
        "a_3, b_3 = linear_contrast_method(x_2, x_3, alpha)\n",
        "a_3, b_3"
      ],
      "metadata": {
        "colab": {
          "base_uri": "https://localhost:8080/"
        },
        "id": "Q4NA9P-uuyJl",
        "outputId": "03955027-4b28-4119-d4f7-9ffb1b91026e"
      },
      "execution_count": 66,
      "outputs": [
        {
          "output_type": "execute_result",
          "data": {
            "text/plain": [
              "(8.736915400559992, 11.961753441751819)"
            ]
          },
          "metadata": {},
          "execution_count": 66
        }
      ]
    },
    {
      "cell_type": "code",
      "source": [
        "fig = plt.figure(figsize =(7, 5))\n",
        "ax = fig.add_axes([0, 0, 1, 1])\n",
        "#fig, ax = plt.subplots()\n",
        "ax.plot([a_1, b_1], [1, 1], label=\"($X_1$, $X_2$)\")\n",
        "ax.plot([a_2, b_2], [2, 2], label=\"($X_1$, $X_3$)\")\n",
        "ax.plot([a_3, b_3], [3, 3], label=\"($X_2$, $X_3$)\")\n",
        "ax.fill_between([a_1, b_1], [1, 1], alpha=0.5)\n",
        "ax.fill_between([a_2, b_2], [2, 2], alpha=0.5)\n",
        "ax.fill_between([a_3, b_3], [3, 3], alpha=0.5)\n",
        "plt.legend()\n",
        "plt.show()"
      ],
      "metadata": {
        "colab": {
          "base_uri": "https://localhost:8080/",
          "height": 408
        },
        "id": "puKVfdjdv5J3",
        "outputId": "1a4af851-1929-424b-cc75-d1fdd1c3ef21"
      },
      "execution_count": 80,
      "outputs": [
        {
          "output_type": "display_data",
          "data": {
            "text/plain": [
              "<Figure size 504x360 with 1 Axes>"
            ],
            "image/png": "[encoded data removed]"
          },
          "metadata": {
            "needs_background": "light"
          }
        }
      ]
    }
  ]
}