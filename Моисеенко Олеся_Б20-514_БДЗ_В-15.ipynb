{
  "nbformat": 4,
  "nbformat_minor": 0,
  "metadata": {
    "colab": {
      "provenance": []
    },
    "kernelspec": {
      "name": "python3",
      "display_name": "Python 3"
    },
    "language_info": {
      "name": "python"
    }
  },
  "cells": [
    {
      "cell_type": "code",
      "execution_count": 1,
      "metadata": {
        "id": "ggLi4_UqLI8Q"
      },
      "outputs": [],
      "source": [
        "import pandas as pd\n",
        "from scipy import stats as sps\n",
        "import matplotlib.pyplot as plt\n",
        "import numpy as np \n",
        "from statsmodels.distributions.empirical_distribution import ECDF\n",
        "import math\n",
        "import seaborn as sns\n",
        "from statsmodels.stats.descriptivestats import sign_test"
      ]
    },
    {
      "cell_type": "code",
      "source": [
        "data_frame = pd.read_excel(\"data_matstat_K5.xlsx\", sheet_name = 'C - plasma')\n",
        "data_frame.head()"
      ],
      "metadata": {
        "colab": {
          "base_uri": "https://localhost:8080/",
          "height": 204
        },
        "id": "4biukTBJLS0G",
        "outputId": "bb567f60-3064-4b9b-dd73-e442dfbb9443"
      },
      "execution_count": 2,
      "outputs": [
        {
          "output_type": "execute_result",
          "data": {
            "text/plain": [
              "   C1      C2      C3        C4         C5      C6    C7    C8    C9    C10  \\\n",
              "0  64  Female  Former  21.48380      Often  1298.8  57.0   6.3   0.0  170.3   \n",
              "1  76  Female   Never  23.87631      Often  1032.5  50.1  15.8   0.0   75.8   \n",
              "2  38  Female  Former  20.01080  Not often  2372.3  83.6  19.1  14.1  257.9   \n",
              "3  40  Female  Former  25.14062         No  2449.5  97.5  26.5   0.5  332.6   \n",
              "4  72  Female   Never  20.98504      Often  1952.1  82.6  16.2   0.0  170.8   \n",
              "\n",
              "    C11   C12  C13  C14  \n",
              "0  1945   890  200  915  \n",
              "1  2653   451  124  727  \n",
              "2  6321   660  328  721  \n",
              "3  1061   864  153  615  \n",
              "4  2863  1209   92  799  "
            ],
            "text/html": [
              "\n",
              "  <div id=\"df-18eec758-8b03-48fe-9ee2-dfcc6d515d33\">\n",
              "    <div class=\"colab-df-container\">\n",
              "      <div>\n",
              "<style scoped>\n",
              "    .dataframe tbody tr th:only-of-type {\n",
              "        vertical-align: middle;\n",
              "    }\n",
              "\n",
              "    .dataframe tbody tr th {\n",
              "        vertical-align: top;\n",
              "    }\n",
              "\n",
              "    .dataframe thead th {\n",
              "        text-align: right;\n",
              "    }\n",
              "</style>\n",
              "<table border=\"1\" class=\"dataframe\">\n",
              "  <thead>\n",
              "    <tr style=\"text-align: right;\">\n",
              "      <th></th>\n",
              "      <th>C1</th>\n",
              "      <th>C2</th>\n",
              "      <th>C3</th>\n",
              "      <th>C4</th>\n",
              "      <th>C5</th>\n",
              "      <th>C6</th>\n",
              "      <th>C7</th>\n",
              "      <th>C8</th>\n",
              "      <th>C9</th>\n",
              "      <th>C10</th>\n",
              "      <th>C11</th>\n",
              "      <th>C12</th>\n",
              "      <th>C13</th>\n",
              "      <th>C14</th>\n",
              "    </tr>\n",
              "  </thead>\n",
              "  <tbody>\n",
              "    <tr>\n",
              "      <th>0</th>\n",
              "      <td>64</td>\n",
              "      <td>Female</td>\n",
              "      <td>Former</td>\n",
              "      <td>21.48380</td>\n",
              "      <td>Often</td>\n",
              "      <td>1298.8</td>\n",
              "      <td>57.0</td>\n",
              "      <td>6.3</td>\n",
              "      <td>0.0</td>\n",
              "      <td>170.3</td>\n",
              "      <td>1945</td>\n",
              "      <td>890</td>\n",
              "      <td>200</td>\n",
              "      <td>915</td>\n",
              "    </tr>\n",
              "    <tr>\n",
              "      <th>1</th>\n",
              "      <td>76</td>\n",
              "      <td>Female</td>\n",
              "      <td>Never</td>\n",
              "      <td>23.87631</td>\n",
              "      <td>Often</td>\n",
              "      <td>1032.5</td>\n",
              "      <td>50.1</td>\n",
              "      <td>15.8</td>\n",
              "      <td>0.0</td>\n",
              "      <td>75.8</td>\n",
              "      <td>2653</td>\n",
              "      <td>451</td>\n",
              "      <td>124</td>\n",
              "      <td>727</td>\n",
              "    </tr>\n",
              "    <tr>\n",
              "      <th>2</th>\n",
              "      <td>38</td>\n",
              "      <td>Female</td>\n",
              "      <td>Former</td>\n",
              "      <td>20.01080</td>\n",
              "      <td>Not often</td>\n",
              "      <td>2372.3</td>\n",
              "      <td>83.6</td>\n",
              "      <td>19.1</td>\n",
              "      <td>14.1</td>\n",
              "      <td>257.9</td>\n",
              "      <td>6321</td>\n",
              "      <td>660</td>\n",
              "      <td>328</td>\n",
              "      <td>721</td>\n",
              "    </tr>\n",
              "    <tr>\n",
              "      <th>3</th>\n",
              "      <td>40</td>\n",
              "      <td>Female</td>\n",
              "      <td>Former</td>\n",
              "      <td>25.14062</td>\n",
              "      <td>No</td>\n",
              "      <td>2449.5</td>\n",
              "      <td>97.5</td>\n",
              "      <td>26.5</td>\n",
              "      <td>0.5</td>\n",
              "      <td>332.6</td>\n",
              "      <td>1061</td>\n",
              "      <td>864</td>\n",
              "      <td>153</td>\n",
              "      <td>615</td>\n",
              "    </tr>\n",
              "    <tr>\n",
              "      <th>4</th>\n",
              "      <td>72</td>\n",
              "      <td>Female</td>\n",
              "      <td>Never</td>\n",
              "      <td>20.98504</td>\n",
              "      <td>Often</td>\n",
              "      <td>1952.1</td>\n",
              "      <td>82.6</td>\n",
              "      <td>16.2</td>\n",
              "      <td>0.0</td>\n",
              "      <td>170.8</td>\n",
              "      <td>2863</td>\n",
              "      <td>1209</td>\n",
              "      <td>92</td>\n",
              "      <td>799</td>\n",
              "    </tr>\n",
              "  </tbody>\n",
              "</table>\n",
              "</div>\n",
              "      <button class=\"colab-df-convert\" onclick=\"convertToInteractive('df-18eec758-8b03-48fe-9ee2-dfcc6d515d33')\"\n",
              "              title=\"Convert this dataframe to an interactive table.\"\n",
              "              style=\"display:none;\">\n",
              "        \n",
              "  <svg xmlns=\"http://www.w3.org/2000/svg\" height=\"24px\"viewBox=\"0 0 24 24\"\n",
              "       width=\"24px\">\n",
              "    <path d=\"M0 0h24v24H0V0z\" fill=\"none\"/>\n",
              "    <path d=\"M18.56 5.44l.94 2.06.94-2.06 2.06-.94-2.06-.94-.94-2.06-.94 2.06-2.06.94zm-11 1L8.5 8.5l.94-2.06 2.06-.94-2.06-.94L8.5 2.5l-.94 2.06-2.06.94zm10 10l.94 2.06.94-2.06 2.06-.94-2.06-.94-.94-2.06-.94 2.06-2.06.94z\"/><path d=\"M17.41 7.96l-1.37-1.37c-.4-.4-.92-.59-1.43-.59-.52 0-1.04.2-1.43.59L10.3 9.45l-7.72 7.72c-.78.78-.78 2.05 0 2.83L4 21.41c.39.39.9.59 1.41.59.51 0 1.02-.2 1.41-.59l7.78-7.78 2.81-2.81c.8-.78.8-2.07 0-2.86zM5.41 20L4 18.59l7.72-7.72 1.47 1.35L5.41 20z\"/>\n",
              "  </svg>\n",
              "      </button>\n",
              "      \n",
              "  <style>\n",
              "    .colab-df-container {\n",
              "      display:flex;\n",
              "      flex-wrap:wrap;\n",
              "      gap: 12px;\n",
              "    }\n",
              "\n",
              "    .colab-df-convert {\n",
              "      background-color: #E8F0FE;\n",
              "      border: none;\n",
              "      border-radius: 50%;\n",
              "      cursor: pointer;\n",
              "      display: none;\n",
              "      fill: #1967D2;\n",
              "      height: 32px;\n",
              "      padding: 0 0 0 0;\n",
              "      width: 32px;\n",
              "    }\n",
              "\n",
              "    .colab-df-convert:hover {\n",
              "      background-color: #E2EBFA;\n",
              "      box-shadow: 0px 1px 2px rgba(60, 64, 67, 0.3), 0px 1px 3px 1px rgba(60, 64, 67, 0.15);\n",
              "      fill: #174EA6;\n",
              "    }\n",
              "\n",
              "    [theme=dark] .colab-df-convert {\n",
              "      background-color: #3B4455;\n",
              "      fill: #D2E3FC;\n",
              "    }\n",
              "\n",
              "    [theme=dark] .colab-df-convert:hover {\n",
              "      background-color: #434B5C;\n",
              "      box-shadow: 0px 1px 3px 1px rgba(0, 0, 0, 0.15);\n",
              "      filter: drop-shadow(0px 1px 2px rgba(0, 0, 0, 0.3));\n",
              "      fill: #FFFFFF;\n",
              "    }\n",
              "  </style>\n",
              "\n",
              "      <script>\n",
              "        const buttonEl =\n",
              "          document.querySelector('#df-18eec758-8b03-48fe-9ee2-dfcc6d515d33 button.colab-df-convert');\n",
              "        buttonEl.style.display =\n",
              "          google.colab.kernel.accessAllowed ? 'block' : 'none';\n",
              "\n",
              "        async function convertToInteractive(key) {\n",
              "          const element = document.querySelector('#df-18eec758-8b03-48fe-9ee2-dfcc6d515d33');\n",
              "          const dataTable =\n",
              "            await google.colab.kernel.invokeFunction('convertToInteractive',\n",
              "                                                     [key], {});\n",
              "          if (!dataTable) return;\n",
              "\n",
              "          const docLinkHtml = 'Like what you see? Visit the ' +\n",
              "            '<a target=\"_blank\" href=https://colab.research.google.com/notebooks/data_table.ipynb>data table notebook</a>'\n",
              "            + ' to learn more about interactive tables.';\n",
              "          element.innerHTML = '';\n",
              "          dataTable['output_type'] = 'display_data';\n",
              "          await google.colab.output.renderOutput(dataTable, element);\n",
              "          const docLink = document.createElement('div');\n",
              "          docLink.innerHTML = docLinkHtml;\n",
              "          element.appendChild(docLink);\n",
              "        }\n",
              "      </script>\n",
              "    </div>\n",
              "  </div>\n",
              "  "
            ]
          },
          "metadata": {},
          "execution_count": 2
        }
      ]
    },
    {
      "cell_type": "code",
      "source": [
        "n = len(data_frame['C13'])\n",
        "print(n)"
      ],
      "metadata": {
        "colab": {
          "base_uri": "https://localhost:8080/"
        },
        "id": "SSs3VfU0GQMS",
        "outputId": "2c9c7586-09c3-4826-f1a7-a93adc030318"
      },
      "execution_count": 3,
      "outputs": [
        {
          "output_type": "stream",
          "name": "stdout",
          "text": [
            "315\n"
          ]
        }
      ]
    },
    {
      "cell_type": "code",
      "source": [
        "n = len(data_frame['C14'])\n",
        "print(n)"
      ],
      "metadata": {
        "colab": {
          "base_uri": "https://localhost:8080/"
        },
        "id": "chnR4DKEGTue",
        "outputId": "30f9db6e-9333-4b60-a566-fa346343b6c7"
      },
      "execution_count": 4,
      "outputs": [
        {
          "output_type": "stream",
          "name": "stdout",
          "text": [
            "315\n"
          ]
        }
      ]
    },
    {
      "cell_type": "markdown",
      "source": [
        "**Задание 1.1**"
      ],
      "metadata": {
        "id": "otc3xrFINNHU"
      }
    },
    {
      "cell_type": "code",
      "source": [
        "data_frame.describe()"
      ],
      "metadata": {
        "colab": {
          "base_uri": "https://localhost:8080/",
          "height": 297
        },
        "id": "nb4ex19HLjtY",
        "outputId": "e55bb4ba-1068-47b5-a1f6-4f355534693f"
      },
      "execution_count": 5,
      "outputs": [
        {
          "output_type": "execute_result",
          "data": {
            "text/plain": [
              "               C1          C4           C6          C7          C8  \\\n",
              "count  315.000000  315.000000   315.000000  315.000000  315.000000   \n",
              "mean    50.146032   26.157374  1796.654603   77.033333   12.788571   \n",
              "std     14.575226    6.013550   680.347435   33.829443    5.330192   \n",
              "min     19.000000   16.331140   445.200000   14.400000    3.100000   \n",
              "25%     39.000000   21.799715  1338.000000   53.950000    9.150000   \n",
              "50%     48.000000   24.735250  1666.800000   72.900000   12.100000   \n",
              "75%     62.500000   28.853415  2100.450000   95.250000   15.600000   \n",
              "max     83.000000   50.403330  6662.200000  235.900000   36.800000   \n",
              "\n",
              "               C9         C10          C11          C12          C13  \\\n",
              "count  315.000000  315.000000   315.000000   315.000000   315.000000   \n",
              "mean     3.279365  242.460635  2185.603175   832.714286   189.892063   \n",
              "std     12.322880  131.991614  1473.886547   589.289030   183.000803   \n",
              "min      0.000000   37.700000   214.000000    30.000000     0.000000   \n",
              "25%      0.000000  155.000000  1116.000000   480.000000    90.000000   \n",
              "50%      0.300000  206.300000  1802.000000   707.000000   140.000000   \n",
              "75%      3.200000  308.850000  2836.000000  1037.000000   230.000000   \n",
              "max    203.000000  900.700000  9642.000000  6901.000000  1415.000000   \n",
              "\n",
              "               C14  \n",
              "count   315.000000  \n",
              "mean    602.790476  \n",
              "std     208.895474  \n",
              "min     179.000000  \n",
              "25%     466.000000  \n",
              "50%     566.000000  \n",
              "75%     716.000000  \n",
              "max    1727.000000  "
            ],
            "text/html": [
              "\n",
              "  <div id=\"df-2f0a0d3a-4f05-4893-acc6-31aac02a0aa0\">\n",
              "    <div class=\"colab-df-container\">\n",
              "      <div>\n",
              "<style scoped>\n",
              "    .dataframe tbody tr th:only-of-type {\n",
              "        vertical-align: middle;\n",
              "    }\n",
              "\n",
              "    .dataframe tbody tr th {\n",
              "        vertical-align: top;\n",
              "    }\n",
              "\n",
              "    .dataframe thead th {\n",
              "        text-align: right;\n",
              "    }\n",
              "</style>\n",
              "<table border=\"1\" class=\"dataframe\">\n",
              "  <thead>\n",
              "    <tr style=\"text-align: right;\">\n",
              "      <th></th>\n",
              "      <th>C1</th>\n",
              "      <th>C4</th>\n",
              "      <th>C6</th>\n",
              "      <th>C7</th>\n",
              "      <th>C8</th>\n",
              "      <th>C9</th>\n",
              "      <th>C10</th>\n",
              "      <th>C11</th>\n",
              "      <th>C12</th>\n",
              "      <th>C13</th>\n",
              "      <th>C14</th>\n",
              "    </tr>\n",
              "  </thead>\n",
              "  <tbody>\n",
              "    <tr>\n",
              "      <th>count</th>\n",
              "      <td>315.000000</td>\n",
              "      <td>315.000000</td>\n",
              "      <td>315.000000</td>\n",
              "      <td>315.000000</td>\n",
              "      <td>315.000000</td>\n",
              "      <td>315.000000</td>\n",
              "      <td>315.000000</td>\n",
              "      <td>315.000000</td>\n",
              "      <td>315.000000</td>\n",
              "      <td>315.000000</td>\n",
              "      <td>315.000000</td>\n",
              "    </tr>\n",
              "    <tr>\n",
              "      <th>mean</th>\n",
              "      <td>50.146032</td>\n",
              "      <td>26.157374</td>\n",
              "      <td>1796.654603</td>\n",
              "      <td>77.033333</td>\n",
              "      <td>12.788571</td>\n",
              "      <td>3.279365</td>\n",
              "      <td>242.460635</td>\n",
              "      <td>2185.603175</td>\n",
              "      <td>832.714286</td>\n",
              "      <td>189.892063</td>\n",
              "      <td>602.790476</td>\n",
              "    </tr>\n",
              "    <tr>\n",
              "      <th>std</th>\n",
              "      <td>14.575226</td>\n",
              "      <td>6.013550</td>\n",
              "      <td>680.347435</td>\n",
              "      <td>33.829443</td>\n",
              "      <td>5.330192</td>\n",
              "      <td>12.322880</td>\n",
              "      <td>131.991614</td>\n",
              "      <td>1473.886547</td>\n",
              "      <td>589.289030</td>\n",
              "      <td>183.000803</td>\n",
              "      <td>208.895474</td>\n",
              "    </tr>\n",
              "    <tr>\n",
              "      <th>min</th>\n",
              "      <td>19.000000</td>\n",
              "      <td>16.331140</td>\n",
              "      <td>445.200000</td>\n",
              "      <td>14.400000</td>\n",
              "      <td>3.100000</td>\n",
              "      <td>0.000000</td>\n",
              "      <td>37.700000</td>\n",
              "      <td>214.000000</td>\n",
              "      <td>30.000000</td>\n",
              "      <td>0.000000</td>\n",
              "      <td>179.000000</td>\n",
              "    </tr>\n",
              "    <tr>\n",
              "      <th>25%</th>\n",
              "      <td>39.000000</td>\n",
              "      <td>21.799715</td>\n",
              "      <td>1338.000000</td>\n",
              "      <td>53.950000</td>\n",
              "      <td>9.150000</td>\n",
              "      <td>0.000000</td>\n",
              "      <td>155.000000</td>\n",
              "      <td>1116.000000</td>\n",
              "      <td>480.000000</td>\n",
              "      <td>90.000000</td>\n",
              "      <td>466.000000</td>\n",
              "    </tr>\n",
              "    <tr>\n",
              "      <th>50%</th>\n",
              "      <td>48.000000</td>\n",
              "      <td>24.735250</td>\n",
              "      <td>1666.800000</td>\n",
              "      <td>72.900000</td>\n",
              "      <td>12.100000</td>\n",
              "      <td>0.300000</td>\n",
              "      <td>206.300000</td>\n",
              "      <td>1802.000000</td>\n",
              "      <td>707.000000</td>\n",
              "      <td>140.000000</td>\n",
              "      <td>566.000000</td>\n",
              "    </tr>\n",
              "    <tr>\n",
              "      <th>75%</th>\n",
              "      <td>62.500000</td>\n",
              "      <td>28.853415</td>\n",
              "      <td>2100.450000</td>\n",
              "      <td>95.250000</td>\n",
              "      <td>15.600000</td>\n",
              "      <td>3.200000</td>\n",
              "      <td>308.850000</td>\n",
              "      <td>2836.000000</td>\n",
              "      <td>1037.000000</td>\n",
              "      <td>230.000000</td>\n",
              "      <td>716.000000</td>\n",
              "    </tr>\n",
              "    <tr>\n",
              "      <th>max</th>\n",
              "      <td>83.000000</td>\n",
              "      <td>50.403330</td>\n",
              "      <td>6662.200000</td>\n",
              "      <td>235.900000</td>\n",
              "      <td>36.800000</td>\n",
              "      <td>203.000000</td>\n",
              "      <td>900.700000</td>\n",
              "      <td>9642.000000</td>\n",
              "      <td>6901.000000</td>\n",
              "      <td>1415.000000</td>\n",
              "      <td>1727.000000</td>\n",
              "    </tr>\n",
              "  </tbody>\n",
              "</table>\n",
              "</div>\n",
              "      <button class=\"colab-df-convert\" onclick=\"convertToInteractive('df-2f0a0d3a-4f05-4893-acc6-31aac02a0aa0')\"\n",
              "              title=\"Convert this dataframe to an interactive table.\"\n",
              "              style=\"display:none;\">\n",
              "        \n",
              "  <svg xmlns=\"http://www.w3.org/2000/svg\" height=\"24px\"viewBox=\"0 0 24 24\"\n",
              "       width=\"24px\">\n",
              "    <path d=\"M0 0h24v24H0V0z\" fill=\"none\"/>\n",
              "    <path d=\"M18.56 5.44l.94 2.06.94-2.06 2.06-.94-2.06-.94-.94-2.06-.94 2.06-2.06.94zm-11 1L8.5 8.5l.94-2.06 2.06-.94-2.06-.94L8.5 2.5l-.94 2.06-2.06.94zm10 10l.94 2.06.94-2.06 2.06-.94-2.06-.94-.94-2.06-.94 2.06-2.06.94z\"/><path d=\"M17.41 7.96l-1.37-1.37c-.4-.4-.92-.59-1.43-.59-.52 0-1.04.2-1.43.59L10.3 9.45l-7.72 7.72c-.78.78-.78 2.05 0 2.83L4 21.41c.39.39.9.59 1.41.59.51 0 1.02-.2 1.41-.59l7.78-7.78 2.81-2.81c.8-.78.8-2.07 0-2.86zM5.41 20L4 18.59l7.72-7.72 1.47 1.35L5.41 20z\"/>\n",
              "  </svg>\n",
              "      </button>\n",
              "      \n",
              "  <style>\n",
              "    .colab-df-container {\n",
              "      display:flex;\n",
              "      flex-wrap:wrap;\n",
              "      gap: 12px;\n",
              "    }\n",
              "\n",
              "    .colab-df-convert {\n",
              "      background-color: #E8F0FE;\n",
              "      border: none;\n",
              "      border-radius: 50%;\n",
              "      cursor: pointer;\n",
              "      display: none;\n",
              "      fill: #1967D2;\n",
              "      height: 32px;\n",
              "      padding: 0 0 0 0;\n",
              "      width: 32px;\n",
              "    }\n",
              "\n",
              "    .colab-df-convert:hover {\n",
              "      background-color: #E2EBFA;\n",
              "      box-shadow: 0px 1px 2px rgba(60, 64, 67, 0.3), 0px 1px 3px 1px rgba(60, 64, 67, 0.15);\n",
              "      fill: #174EA6;\n",
              "    }\n",
              "\n",
              "    [theme=dark] .colab-df-convert {\n",
              "      background-color: #3B4455;\n",
              "      fill: #D2E3FC;\n",
              "    }\n",
              "\n",
              "    [theme=dark] .colab-df-convert:hover {\n",
              "      background-color: #434B5C;\n",
              "      box-shadow: 0px 1px 3px 1px rgba(0, 0, 0, 0.15);\n",
              "      filter: drop-shadow(0px 1px 2px rgba(0, 0, 0, 0.3));\n",
              "      fill: #FFFFFF;\n",
              "    }\n",
              "  </style>\n",
              "\n",
              "      <script>\n",
              "        const buttonEl =\n",
              "          document.querySelector('#df-2f0a0d3a-4f05-4893-acc6-31aac02a0aa0 button.colab-df-convert');\n",
              "        buttonEl.style.display =\n",
              "          google.colab.kernel.accessAllowed ? 'block' : 'none';\n",
              "\n",
              "        async function convertToInteractive(key) {\n",
              "          const element = document.querySelector('#df-2f0a0d3a-4f05-4893-acc6-31aac02a0aa0');\n",
              "          const dataTable =\n",
              "            await google.colab.kernel.invokeFunction('convertToInteractive',\n",
              "                                                     [key], {});\n",
              "          if (!dataTable) return;\n",
              "\n",
              "          const docLinkHtml = 'Like what you see? Visit the ' +\n",
              "            '<a target=\"_blank\" href=https://colab.research.google.com/notebooks/data_table.ipynb>data table notebook</a>'\n",
              "            + ' to learn more about interactive tables.';\n",
              "          element.innerHTML = '';\n",
              "          dataTable['output_type'] = 'display_data';\n",
              "          await google.colab.output.renderOutput(dataTable, element);\n",
              "          const docLink = document.createElement('div');\n",
              "          docLink.innerHTML = docLinkHtml;\n",
              "          element.appendChild(docLink);\n",
              "        }\n",
              "      </script>\n",
              "    </div>\n",
              "  </div>\n",
              "  "
            ]
          },
          "metadata": {},
          "execution_count": 5
        }
      ]
    },
    {
      "cell_type": "code",
      "source": [
        "sps.describe(data_frame['C7']) "
      ],
      "metadata": {
        "colab": {
          "base_uri": "https://localhost:8080/"
        },
        "id": "EP0nMKGoNa-g",
        "outputId": "c39e8dc2-0f76-406b-b1f1-98c006c163a7"
      },
      "execution_count": 6,
      "outputs": [
        {
          "output_type": "execute_result",
          "data": {
            "text/plain": [
              "DescribeResult(nobs=315, minmax=(14.4, 235.9), mean=77.03333333333333, variance=1144.431210191083, skewness=1.0989962157492976, kurtosis=1.9647991849352238)"
            ]
          },
          "metadata": {},
          "execution_count": 6
        }
      ]
    },
    {
      "cell_type": "code",
      "source": [
        "sps.describe(data_frame['C9'])"
      ],
      "metadata": {
        "colab": {
          "base_uri": "https://localhost:8080/"
        },
        "id": "W4QHUWvnNrdh",
        "outputId": "67aa3689-ab79-4065-99be-db63aadce5fc"
      },
      "execution_count": 7,
      "outputs": [
        {
          "output_type": "execute_result",
          "data": {
            "text/plain": [
              "DescribeResult(nobs=315, minmax=(0.0, 203.0), mean=3.2793650793650793, variance=151.8533626529168, skewness=13.757134658078, kurtosis=217.81506388614636)"
            ]
          },
          "metadata": {},
          "execution_count": 7
        }
      ]
    },
    {
      "cell_type": "code",
      "source": [
        "sps.describe(data_frame['C12'])"
      ],
      "metadata": {
        "colab": {
          "base_uri": "https://localhost:8080/"
        },
        "id": "hw0KNwm7Nss6",
        "outputId": "0352f28d-b7d2-4898-b879-9c50819cf853"
      },
      "execution_count": 8,
      "outputs": [
        {
          "output_type": "execute_result",
          "data": {
            "text/plain": [
              "DescribeResult(nobs=315, minmax=(30, 6901), mean=832.7142857142857, variance=347261.5614194723, skewness=4.452504551684713, kurtosis=37.44713035757864)"
            ]
          },
          "metadata": {},
          "execution_count": 8
        }
      ]
    },
    {
      "cell_type": "markdown",
      "source": [
        "**Задание 1.2**"
      ],
      "metadata": {
        "id": "u0ZZDVsxgdxy"
      }
    },
    {
      "cell_type": "code",
      "source": [
        "n = len(data_frame['C7'])\n",
        "print(n)"
      ],
      "metadata": {
        "colab": {
          "base_uri": "https://localhost:8080/"
        },
        "id": "rDN-tEOpN5a0",
        "outputId": "a99aeac6-0215-4c3d-e0d8-7d536852fe30"
      },
      "execution_count": 9,
      "outputs": [
        {
          "output_type": "stream",
          "name": "stdout",
          "text": [
            "315\n"
          ]
        }
      ]
    },
    {
      "cell_type": "code",
      "source": [
        "#формула Стерджесса\n",
        "number = int(1 + math.log2(n))\n",
        "print(number)"
      ],
      "metadata": {
        "colab": {
          "base_uri": "https://localhost:8080/"
        },
        "id": "ykjxcWd8gpnS",
        "outputId": "2a9d262b-29ee-4daf-aef1-3ec5054aa53f"
      },
      "execution_count": 10,
      "outputs": [
        {
          "output_type": "stream",
          "name": "stdout",
          "text": [
            "9\n"
          ]
        }
      ]
    },
    {
      "cell_type": "code",
      "source": [
        "step = int((data_frame['C7'].max() - data_frame['C7'].min()) / number)\n",
        "print(step)"
      ],
      "metadata": {
        "colab": {
          "base_uri": "https://localhost:8080/"
        },
        "id": "rXm26tHig_ax",
        "outputId": "1f6e62fa-6388-4afa-d308-b74b02eccdae"
      },
      "execution_count": 11,
      "outputs": [
        {
          "output_type": "stream",
          "name": "stdout",
          "text": [
            "24\n"
          ]
        }
      ]
    },
    {
      "cell_type": "code",
      "source": [
        "frequencies, edges, _ = plt.hist(data_frame['C7'], bins=number)\n",
        "midpoints = 0.5 * (edges[1:] + edges[:-1])\n",
        "print(frequencies)\n",
        "print(edges[:-1])\n",
        "print(edges[1:])\n",
        "plt.plot(midpoints, frequencies, '-');"
      ],
      "metadata": {
        "colab": {
          "base_uri": "https://localhost:8080/",
          "height": 350
        },
        "id": "XVQw_Kc2h4cV",
        "outputId": "7173711e-6d83-46bb-8ee4-04ca273250fe"
      },
      "execution_count": 12,
      "outputs": [
        {
          "output_type": "stream",
          "name": "stdout",
          "text": [
            "[ 33. 100.  84.  54.  29.   6.   6.   2.   1.]\n",
            "[ 14.4         39.01111111  63.62222222  88.23333333 112.84444444\n",
            " 137.45555556 162.06666667 186.67777778 211.28888889]\n",
            "[ 39.01111111  63.62222222  88.23333333 112.84444444 137.45555556\n",
            " 162.06666667 186.67777778 211.28888889 235.9       ]\n"
          ]
        },
        {
          "output_type": "display_data",
          "data": {
            "text/plain": [
              "<Figure size 432x288 with 1 Axes>"
            ],
            "image/png": "[encoded data removed]"
          },
          "metadata": {
            "needs_background": "light"
          }
        }
      ]
    },
    {
      "cell_type": "code",
      "source": [
        "relative_frequencies, edges, _ = plt.hist(data_frame['C7'], bins=number, weights=np.zeros_like(data_frame['C7']) + 1. / n)\n",
        "print(relative_frequencies)\n",
        "print(edges[:-1])\n",
        "print(edges[1:])\n",
        "midpoints = 0.5 * (edges[1:] + edges[:-1])\n",
        "plt.plot(midpoints, relative_frequencies, '-');"
      ],
      "metadata": {
        "colab": {
          "base_uri": "https://localhost:8080/",
          "height": 367
        },
        "id": "Ps-3l1zyiqYf",
        "outputId": "81082888-c507-427b-faaf-399a611bc342"
      },
      "execution_count": 13,
      "outputs": [
        {
          "output_type": "stream",
          "name": "stdout",
          "text": [
            "[0.1047619  0.31746032 0.26666667 0.17142857 0.09206349 0.01904762\n",
            " 0.01904762 0.00634921 0.0031746 ]\n",
            "[ 14.4         39.01111111  63.62222222  88.23333333 112.84444444\n",
            " 137.45555556 162.06666667 186.67777778 211.28888889]\n",
            "[ 39.01111111  63.62222222  88.23333333 112.84444444 137.45555556\n",
            " 162.06666667 186.67777778 211.28888889 235.9       ]\n"
          ]
        },
        {
          "output_type": "display_data",
          "data": {
            "text/plain": [
              "<Figure size 432x288 with 1 Axes>"
            ],
            "image/png": "[encoded data removed]"
          },
          "metadata": {
            "needs_background": "light"
          }
        }
      ]
    },
    {
      "cell_type": "code",
      "source": [
        "accumulated_frequencies, edges, _ = plt.hist(data_frame['C7'], bins=number, cumulative=True)\n",
        "print(accumulated_frequencies)\n",
        "print(edges[1:])\n",
        "print(edges[:-1])\n",
        "midpoints = 0.5 * (edges[1:] + edges[:-1])\n",
        "plt.plot(edges[1:], accumulated_frequencies, '-');"
      ],
      "metadata": {
        "colab": {
          "base_uri": "https://localhost:8080/",
          "height": 350
        },
        "id": "WBcKW4oLkZbL",
        "outputId": "5ee4f9f1-915b-40de-e179-a1c03b20a10d"
      },
      "execution_count": 14,
      "outputs": [
        {
          "output_type": "stream",
          "name": "stdout",
          "text": [
            "[ 33. 133. 217. 271. 300. 306. 312. 314. 315.]\n",
            "[ 39.01111111  63.62222222  88.23333333 112.84444444 137.45555556\n",
            " 162.06666667 186.67777778 211.28888889 235.9       ]\n",
            "[ 14.4         39.01111111  63.62222222  88.23333333 112.84444444\n",
            " 137.45555556 162.06666667 186.67777778 211.28888889]\n"
          ]
        },
        {
          "output_type": "display_data",
          "data": {
            "text/plain": [
              "<Figure size 432x288 with 1 Axes>"
            ],
            "image/png": "[encoded data removed]"
          },
          "metadata": {
            "needs_background": "light"
          }
        }
      ]
    },
    {
      "cell_type": "code",
      "source": [
        "relative_accumulated_frequencies, edges, _ = plt.hist(data_frame['C7'], bins=number, weights=np.zeros_like(data_frame['C7']) + 1. / n, cumulative=True)\n",
        "print(relative_accumulated_frequencies)\n",
        "print(edges[1:])\n",
        "print(edges[:-1])\n",
        "midpoints = 0.5 * (edges[1:] + edges[:-1])\n",
        "plt.plot(edges[1:], relative_accumulated_frequencies, '-');"
      ],
      "metadata": {
        "colab": {
          "base_uri": "https://localhost:8080/",
          "height": 367
        },
        "id": "86MQZk_Qllp2",
        "outputId": "b62c1074-27d3-4116-ce88-52606516e4a7"
      },
      "execution_count": 15,
      "outputs": [
        {
          "output_type": "stream",
          "name": "stdout",
          "text": [
            "[0.1047619  0.42222222 0.68888889 0.86031746 0.95238095 0.97142857\n",
            " 0.99047619 0.9968254  1.        ]\n",
            "[ 39.01111111  63.62222222  88.23333333 112.84444444 137.45555556\n",
            " 162.06666667 186.67777778 211.28888889 235.9       ]\n",
            "[ 14.4         39.01111111  63.62222222  88.23333333 112.84444444\n",
            " 137.45555556 162.06666667 186.67777778 211.28888889]\n"
          ]
        },
        {
          "output_type": "display_data",
          "data": {
            "text/plain": [
              "<Figure size 432x288 with 1 Axes>"
            ],
            "image/png": "[encoded data removed]"
          },
          "metadata": {
            "needs_background": "light"
          }
        }
      ]
    },
    {
      "cell_type": "code",
      "source": [
        "ecdf = ECDF(data_frame['C7'])\n",
        "plt.plot(ecdf.x, ecdf.y, lw=3)\n",
        "plt.xlabel(\"$x$\")\n",
        "plt.ylabel(\"$F(x)$\")\n",
        "plt.show()"
      ],
      "metadata": {
        "colab": {
          "base_uri": "https://localhost:8080/",
          "height": 279
        },
        "id": "dY6gl1Atl_xO",
        "outputId": "5c2bba21-b206-41a2-9c4a-a2b965865e35"
      },
      "execution_count": 16,
      "outputs": [
        {
          "output_type": "display_data",
          "data": {
            "text/plain": [
              "<Figure size 432x288 with 1 Axes>"
            ],
            "image/png": "[encoded data removed]"
          },
          "metadata": {
            "needs_background": "light"
          }
        }
      ]
    },
    {
      "cell_type": "markdown",
      "source": [
        "**Задание 2.1**"
      ],
      "metadata": {
        "id": "7SmDktvDmeW_"
      }
    },
    {
      "cell_type": "code",
      "source": [
        "alphas = [0.01, 0.05, 0.1]"
      ],
      "metadata": {
        "id": "RyG6ETZxmiKg"
      },
      "execution_count": 17,
      "outputs": []
    },
    {
      "cell_type": "code",
      "source": [
        "for alpha in alphas:\n",
        "    interval = (data_frame['C7'].std() / n ** 0.5) * sps.t.ppf(1 - alpha / 2, n - 1)\n",
        "    print(alpha)\n",
        "    print('  lower edge:', data_frame['C7'].mean() - interval)\n",
        "    print('  higher edge:', data_frame['C7'].mean() + interval)"
      ],
      "metadata": {
        "colab": {
          "base_uri": "https://localhost:8080/"
        },
        "id": "Civlsw57m0Ml",
        "outputId": "b572dc83-34cb-4779-a8bd-8119f41bcadc"
      },
      "execution_count": 18,
      "outputs": [
        {
          "output_type": "stream",
          "name": "stdout",
          "text": [
            "0.01\n",
            "  lower edge: 72.09359774349191\n",
            "  higher edge: 81.97306892317475\n",
            "0.05\n",
            "  lower edge: 73.28304344314049\n",
            "  higher edge: 80.78362322352618\n",
            "0.1\n",
            "  lower edge: 73.8888447091652\n",
            "  higher edge: 80.17782195750146\n"
          ]
        }
      ]
    },
    {
      "cell_type": "code",
      "source": [
        "data_frame['C7'].mean()"
      ],
      "metadata": {
        "colab": {
          "base_uri": "https://localhost:8080/"
        },
        "id": "qJLi9hrfoDJQ",
        "outputId": "442451ea-fa79-4324-c347-66d2cb4f014e"
      },
      "execution_count": 19,
      "outputs": [
        {
          "output_type": "execute_result",
          "data": {
            "text/plain": [
              "77.03333333333333"
            ]
          },
          "metadata": {},
          "execution_count": 19
        }
      ]
    },
    {
      "cell_type": "markdown",
      "source": [
        "**Задание 2.2**"
      ],
      "metadata": {
        "id": "4YiO0yRioHrT"
      }
    },
    {
      "cell_type": "code",
      "source": [
        "for alpha in alphas:\n",
        "    lower_edge = (n - 1) * data_frame['C7'].var() /(sps.chi2.ppf(1 - alpha / 2, n - 1))\n",
        "    higher_edge = (n - 1) * data_frame['C7'].var() /(sps.chi2.ppf(alpha / 2, n - 1))\n",
        "    print(alpha)\n",
        "    print('  lower edge:', lower_edge)\n",
        "    print('  higher edge:', higher_edge)"
      ],
      "metadata": {
        "colab": {
          "base_uri": "https://localhost:8080/"
        },
        "id": "apYmgODnoLLQ",
        "outputId": "e1d8e48c-5042-4d6a-8c4b-8681b487ff5d"
      },
      "execution_count": 20,
      "outputs": [
        {
          "output_type": "stream",
          "name": "stdout",
          "text": [
            "0.01\n",
            "  lower edge: 939.972084131803\n",
            "  higher edge: 1419.1945094555533\n",
            "0.05\n",
            "  lower edge: 984.571373041788\n",
            "  higher edge: 1346.872632211083\n",
            "0.1\n",
            "  lower edge: 1008.4926769611158\n",
            "  higher edge: 1311.7502714531515\n"
          ]
        }
      ]
    },
    {
      "cell_type": "code",
      "source": [
        "data_frame['C7'].var()"
      ],
      "metadata": {
        "colab": {
          "base_uri": "https://localhost:8080/"
        },
        "id": "IdRGavwVoobf",
        "outputId": "3bcd75ad-1e0a-4628-f40a-bd710fdff0d0"
      },
      "execution_count": 21,
      "outputs": [
        {
          "output_type": "execute_result",
          "data": {
            "text/plain": [
              "1144.431210191083"
            ]
          },
          "metadata": {},
          "execution_count": 21
        }
      ]
    },
    {
      "cell_type": "markdown",
      "source": [
        "**Задание 2.3**"
      ],
      "metadata": {
        "id": "fuC_oiu1p6el"
      }
    },
    {
      "cell_type": "code",
      "source": [
        "n1 = len(data_frame['C13'])\n",
        "s1 = data_frame['C13'].std()\n",
        "n2 = len(data_frame['C14'])\n",
        "s2 = data_frame['C14'].std()\n",
        "s = (((n1 - 1) * s1 ** 2 + (n2 - 1) * s2 ** 2) / (n1 + n2 - 2)) ** 0.5\n",
        "for alpha in alphas:\n",
        "    #interval = data_frame['C13'].std() * stats.t.ppf(1 - alpha / 2, len(data_frame['C13']) + len(data_frame['C14']) - 2) / ((data_frame['C14'].var() / n + data_frame['C14'].var()/ len(data_frame['C14'])) ** 0.5)\n",
        "    interval = sps.t.ppf(1 - alpha/2, n1 + n2 - 2) * s * (1/n1 + 1/n2) ** 0.5\n",
        "    print(alpha)\n",
        "    print('  lower edge:', data_frame['C13'].mean() - data_frame['C14'].mean() - interval)\n",
        "    print('  higher edge:', data_frame['C13'].mean() - data_frame['C14'].mean() + interval)"
      ],
      "metadata": {
        "colab": {
          "base_uri": "https://localhost:8080/"
        },
        "id": "svUIihs-p83z",
        "outputId": "f28564ac-9f20-4bc2-9ef6-e4ba01f8432d"
      },
      "execution_count": 22,
      "outputs": [
        {
          "output_type": "stream",
          "name": "stdout",
          "text": [
            "0.01\n",
            "  lower edge: -453.3267319085694\n",
            "  higher edge: -372.470093488256\n",
            "0.05\n",
            "  lower edge: -443.6263036888957\n",
            "  higher edge: -382.1705217079297\n",
            "0.1\n",
            "  lower edge: -438.6743954295366\n",
            "  higher edge: -387.1224299672888\n"
          ]
        }
      ]
    },
    {
      "cell_type": "code",
      "source": [
        "data_frame['C13'].mean() - data_frame['C14'].mean()"
      ],
      "metadata": {
        "colab": {
          "base_uri": "https://localhost:8080/"
        },
        "id": "_CYE8zYXrubu",
        "outputId": "0a6f27e5-64bb-4af7-e54c-048eaf1f8430"
      },
      "execution_count": 23,
      "outputs": [
        {
          "output_type": "execute_result",
          "data": {
            "text/plain": [
              "-412.8984126984127"
            ]
          },
          "metadata": {},
          "execution_count": 23
        }
      ]
    },
    {
      "cell_type": "markdown",
      "source": [
        "**Задание 2.4**"
      ],
      "metadata": {
        "id": "xglgOP1kr0Fe"
      }
    },
    {
      "cell_type": "code",
      "source": [
        "for alpha in alphas:\n",
        "    lower_edge = (data_frame['C13'].var() / data_frame['C14'].var()) * (sps.f.ppf(alpha / 2, n2 - 1, n1 - 1))\n",
        "    higher_edge = (data_frame['C13'].var() / data_frame['C14'].var()) * (sps.f.ppf(1- alpha / 2, n2 - 1, n1 - 1))\n",
        "    print(alpha)\n",
        "\n",
        "    print('  lower edge:', lower_edge)\n",
        "    print('  higher edge:', higher_edge)\n",
        "    print()"
      ],
      "metadata": {
        "colab": {
          "base_uri": "https://localhost:8080/"
        },
        "id": "a-y3NACer4FV",
        "outputId": "da90b191-a10d-4e6e-e8e6-a726d7a4a790"
      },
      "execution_count": 24,
      "outputs": [
        {
          "output_type": "stream",
          "name": "stdout",
          "text": [
            "0.01\n",
            "  lower edge: 0.5734087875377081\n",
            "  higher edge: 1.0271444406441992\n",
            "\n",
            "0.05\n",
            "  lower edge: 0.6148952188376793\n",
            "  higher edge: 0.9578439224965994\n",
            "\n",
            "0.1\n",
            "  lower edge: 0.637234697462504\n",
            "  higher edge: 0.9242648755336237\n",
            "\n"
          ]
        }
      ]
    },
    {
      "cell_type": "code",
      "source": [
        "data_frame['C13'].var() / data_frame['C14'].var()"
      ],
      "metadata": {
        "colab": {
          "base_uri": "https://localhost:8080/"
        },
        "id": "N1PvuKmjsBJS",
        "outputId": "44e5206a-f7f3-450e-a523-ae0006363298"
      },
      "execution_count": 25,
      "outputs": [
        {
          "output_type": "execute_result",
          "data": {
            "text/plain": [
              "0.7674461859543558"
            ]
          },
          "metadata": {},
          "execution_count": 25
        }
      ]
    },
    {
      "cell_type": "markdown",
      "source": [
        "**Задание 3**\n",
        "\n",
        "**Задания 3.1**"
      ],
      "metadata": {
        "id": "Zv6hpa21sR15"
      }
    },
    {
      "cell_type": "code",
      "source": [
        "print(data_frame['C7'].mean())\n",
        "print(data_frame['C7'].std())"
      ],
      "metadata": {
        "colab": {
          "base_uri": "https://localhost:8080/"
        },
        "id": "UbCqzPzqsUze",
        "outputId": "74d65d71-27e4-4690-baa6-ee6701c8933b"
      },
      "execution_count": 26,
      "outputs": [
        {
          "output_type": "stream",
          "name": "stdout",
          "text": [
            "77.03333333333333\n",
            "33.82944294828224\n"
          ]
        }
      ]
    },
    {
      "cell_type": "code",
      "source": [
        "sps.ttest_1samp(data_frame['C7'], 77)"
      ],
      "metadata": {
        "colab": {
          "base_uri": "https://localhost:8080/"
        },
        "id": "_iMomwfnUG9F",
        "outputId": "8b735dc5-2682-4974-a8ec-70afcd0a3894"
      },
      "execution_count": 27,
      "outputs": [
        {
          "output_type": "execute_result",
          "data": {
            "text/plain": [
              "Ttest_1sampResult(statistic=0.01748796098163266, pvalue=0.9860584437550612)"
            ]
          },
          "metadata": {},
          "execution_count": 27
        }
      ]
    },
    {
      "cell_type": "code",
      "source": [
        "sps.ttest_1samp(data_frame['C7'], 250)"
      ],
      "metadata": {
        "colab": {
          "base_uri": "https://localhost:8080/"
        },
        "id": "oSDKpIKOLWyJ",
        "outputId": "8ab07b00-7a78-45de-988f-487629b11d21"
      },
      "execution_count": 28,
      "outputs": [
        {
          "output_type": "execute_result",
          "data": {
            "text/plain": [
              "Ttest_1sampResult(statistic=-90.74502953369704, pvalue=2.350509132273903e-227)"
            ]
          },
          "metadata": {},
          "execution_count": 28
        }
      ]
    },
    {
      "cell_type": "code",
      "source": [
        "sps.ttest_1samp(data_frame['C7'], 860)"
      ],
      "metadata": {
        "colab": {
          "base_uri": "https://localhost:8080/"
        },
        "id": "MJH8fs22LWrZ",
        "outputId": "a01b0fef-98b5-452a-83bc-c652572d91c3"
      },
      "execution_count": 29,
      "outputs": [
        {
          "output_type": "execute_result",
          "data": {
            "text/plain": [
              "Ttest_1sampResult(statistic=-410.774715497593, pvalue=0.0)"
            ]
          },
          "metadata": {},
          "execution_count": 29
        }
      ]
    },
    {
      "cell_type": "markdown",
      "source": [
        "**Задание 3.2**"
      ],
      "metadata": {
        "id": "tPwHjk5tM6xH"
      }
    },
    {
      "cell_type": "code",
      "source": [
        "def one_sample_chi_test_unknown(x, sigma0):\n",
        "    S_squared = 1 / (len(x) - 1) * sum([(i - x.mean()) ** 2 for i in x])\n",
        "    z = (len(x) - 1) * S_squared / sigma0 ** 2\n",
        "    f = sps.chi2.cdf(z, df=len(x)-1)\n",
        "    return z, 2 * min(f, 1 - f)"
      ],
      "metadata": {
        "id": "G38qtOwAMKPV"
      },
      "execution_count": 30,
      "outputs": []
    },
    {
      "cell_type": "code",
      "source": [
        "print(one_sample_chi_test_unknown(data_frame['C7'], 34))"
      ],
      "metadata": {
        "colab": {
          "base_uri": "https://localhost:8080/"
        },
        "id": "MXTzF7PpUs2F",
        "outputId": "775d0646-5610-4c2c-d95b-7eb154b4df92"
      },
      "execution_count": 31,
      "outputs": [
        {
          "output_type": "stream",
          "name": "stdout",
          "text": [
            "(310.85761245674746, 0.9209902160950361)\n"
          ]
        }
      ]
    },
    {
      "cell_type": "code",
      "source": [
        "print(one_sample_chi_test_unknown(data_frame['C7'], 340))"
      ],
      "metadata": {
        "colab": {
          "base_uri": "https://localhost:8080/"
        },
        "id": "gW14g354NKxu",
        "outputId": "cfb17a14-4536-46d3-b5cd-04446577347e"
      },
      "execution_count": 32,
      "outputs": [
        {
          "output_type": "stream",
          "name": "stdout",
          "text": [
            "(3.108576124567475, 4.2802552281498377e-249)\n"
          ]
        }
      ]
    },
    {
      "cell_type": "code",
      "source": [
        "print(one_sample_chi_test_unknown(data_frame['C7'], 760))"
      ],
      "metadata": {
        "colab": {
          "base_uri": "https://localhost:8080/"
        },
        "id": "Z8dMiqUOOAb5",
        "outputId": "2a1684e1-263c-47c7-c05c-a86916b81a4c"
      },
      "execution_count": 33,
      "outputs": [
        {
          "output_type": "stream",
          "name": "stdout",
          "text": [
            "(0.6221457756232689, 0.0)\n"
          ]
        }
      ]
    },
    {
      "cell_type": "markdown",
      "source": [
        "**Задание 3.3**"
      ],
      "metadata": {
        "id": "Iwm5vLB6OcVX"
      }
    },
    {
      "cell_type": "code",
      "source": [
        "print(data_frame['C13'].mean())\n",
        "print(data_frame['C14'].mean())"
      ],
      "metadata": {
        "colab": {
          "base_uri": "https://localhost:8080/"
        },
        "id": "vOBgMchyOcCt",
        "outputId": "0d4ac794-dbfe-4abb-e6dd-dc408d3b6b82"
      },
      "execution_count": 34,
      "outputs": [
        {
          "output_type": "stream",
          "name": "stdout",
          "text": [
            "189.8920634920635\n",
            "602.7904761904762\n"
          ]
        }
      ]
    },
    {
      "cell_type": "code",
      "source": [
        "def two_sample_t_test(x, y):\n",
        "    S_1 = (1 / (len(x) - 1) * sum([(i - x.mean()) ** 2 for i in x])) \n",
        "    S_2 = (1 / (len(y) - 1) * sum([(i - y.mean()) ** 2 for i in y]))\n",
        "    S = ((len(x) - 1) * S_1 + (len(y) - 1) * S_2) / (len(x) + len(y) - 2)\n",
        "    z = (x.mean() - y.mean()) * (1 / len(x) + 1 / len(y)) ** 0.5 / S ** 0.5\n",
        "    f = sps.t.cdf(z, df=len(x)+len(y)-2)\n",
        "    return z, 2 * min(f, 1 - f)"
      ],
      "metadata": {
        "id": "o73RShJKOyGJ"
      },
      "execution_count": 35,
      "outputs": []
    },
    {
      "cell_type": "code",
      "source": [
        "print(two_sample_t_test(data_frame['C13'], data_frame['C14']))"
      ],
      "metadata": {
        "colab": {
          "base_uri": "https://localhost:8080/"
        },
        "id": "2rSY__gYO6GW",
        "outputId": "7bf95b51-376a-4e40-b203-6ad3e984cebd"
      },
      "execution_count": 36,
      "outputs": [
        {
          "output_type": "stream",
          "name": "stdout",
          "text": [
            "(-0.16753895489930368, 0.8669999346360913)\n"
          ]
        }
      ]
    },
    {
      "cell_type": "code",
      "source": [
        "#sigma1 != sigma2\n",
        "def two_sample_t_test_2(x, y):\n",
        "    S_1 = (1 / (len(x) - 1) * sum([(i - x.mean()) ** 2 for i in x])) \n",
        "    S_2 = (1 / (len(y) - 1) * sum([(i - y.mean()) ** 2 for i in y]))\n",
        "    z = (x.mean() - y.mean()) / (S_1 / len(x) + S_2 / len(y)) ** 0.5\n",
        "    t1 = S_1  / len(x)\n",
        "    t2 = S_2 / len(y)\n",
        "    k = (t1 / (t1 + t2)) ** 2 / (len(x) - 1) + (t2 / (t1 + t2)) ** 2 / (len(y) - 1)\n",
        "    f = sps.t.cdf(z, df=int(1 / k))\n",
        "    return z, 2 * min(f, 1 - f)"
      ],
      "metadata": {
        "id": "naFLx20C6CBR"
      },
      "execution_count": 37,
      "outputs": []
    },
    {
      "cell_type": "code",
      "source": [
        "print(two_sample_t_test_2(data_frame['C13'], data_frame['C14']))"
      ],
      "metadata": {
        "colab": {
          "base_uri": "https://localhost:8080/"
        },
        "id": "vjGRzThSBooO",
        "outputId": "428ec3dc-50ae-4431-a8f2-e24f00f7f49e"
      },
      "execution_count": 38,
      "outputs": [
        {
          "output_type": "stream",
          "name": "stdout",
          "text": [
            "(-26.387385396640326, 2.7044815438723324e-103)\n"
          ]
        }
      ]
    },
    {
      "cell_type": "markdown",
      "source": [
        "**Задание 3.4**"
      ],
      "metadata": {
        "id": "lbph__iYP_1x"
      }
    },
    {
      "cell_type": "code",
      "source": [
        "print(data_frame['C13'].var())\n",
        "print(data_frame['C14'].var())"
      ],
      "metadata": {
        "colab": {
          "base_uri": "https://localhost:8080/"
        },
        "id": "vUdBbW7PQBuT",
        "outputId": "a58674c2-721f-4f0a-9381-f8f0de860b05"
      },
      "execution_count": 39,
      "outputs": [
        {
          "output_type": "stream",
          "name": "stdout",
          "text": [
            "33489.2940450915\n",
            "43637.31901728845\n"
          ]
        }
      ]
    },
    {
      "cell_type": "code",
      "source": [
        "def two_sample_f_test(x, y):\n",
        "    S_1 = 1 / (len(x) - 1) * sum([(i - x.mean()) ** 2 for i in x])\n",
        "    S_2 = 1 / (len(y) - 1) * sum([(i - y.mean()) ** 2 for i in y])\n",
        "    z = S_1 / S_2\n",
        "    f = sps.f.cdf(z, dfn=len(x)-1, dfd=len(y)-1)\n",
        "    return z, 2 * min(f, 1 - f)"
      ],
      "metadata": {
        "id": "UqNw-DcAQEXn"
      },
      "execution_count": 40,
      "outputs": []
    },
    {
      "cell_type": "code",
      "source": [
        "print(two_sample_f_test(data_frame['C13'], data_frame['C14']))"
      ],
      "metadata": {
        "colab": {
          "base_uri": "https://localhost:8080/"
        },
        "id": "Kl9LTl_HQGd7",
        "outputId": "0fab1549-a02f-40de-8a3f-bf92363267fb"
      },
      "execution_count": 41,
      "outputs": [
        {
          "output_type": "stream",
          "name": "stdout",
          "text": [
            "(0.7674461859543552, 0.01929088453087414)\n"
          ]
        }
      ]
    },
    {
      "cell_type": "markdown",
      "source": [
        "**Задание 4**"
      ],
      "metadata": {
        "id": "87mA_DNJQcaI"
      }
    },
    {
      "cell_type": "markdown",
      "source": [
        "**Задание 4.1**"
      ],
      "metadata": {
        "id": "iRRzpD-adWVE"
      }
    },
    {
      "cell_type": "code",
      "source": [
        "number = int(1 + math.log2(n))\n",
        "print(number)"
      ],
      "metadata": {
        "colab": {
          "base_uri": "https://localhost:8080/"
        },
        "id": "MZGF3iBXQe-J",
        "outputId": "4ecfddda-1a0e-4000-a2ef-195cb0b18350"
      },
      "execution_count": 42,
      "outputs": [
        {
          "output_type": "stream",
          "name": "stdout",
          "text": [
            "9\n"
          ]
        }
      ]
    },
    {
      "cell_type": "code",
      "source": [
        "step = int((data_frame['C7'].max() - data_frame['C7'].min()) / number)\n",
        "print(step)"
      ],
      "metadata": {
        "colab": {
          "base_uri": "https://localhost:8080/"
        },
        "id": "p4PlCIhudOmn",
        "outputId": "513f86df-7f8b-47ab-a5c9-918253ce93a3"
      },
      "execution_count": 43,
      "outputs": [
        {
          "output_type": "stream",
          "name": "stdout",
          "text": [
            "24\n"
          ]
        }
      ]
    },
    {
      "cell_type": "code",
      "source": [
        "frequencies, edges, _ = plt.hist(data_frame['C7'], bins=number)\n",
        "print(frequencies)\n",
        "print(edges[:-1])\n",
        "print(edges[1:])\n",
        "midpoints = 0.5 * (edges[1:] + edges[:-1])"
      ],
      "metadata": {
        "colab": {
          "base_uri": "https://localhost:8080/",
          "height": 350
        },
        "id": "IIkvyTV_dhDe",
        "outputId": "7cb85008-dd60-4f1a-d346-960b5fe37d06"
      },
      "execution_count": 44,
      "outputs": [
        {
          "output_type": "stream",
          "name": "stdout",
          "text": [
            "[ 33. 100.  84.  54.  29.   6.   6.   2.   1.]\n",
            "[ 14.4         39.01111111  63.62222222  88.23333333 112.84444444\n",
            " 137.45555556 162.06666667 186.67777778 211.28888889]\n",
            "[ 39.01111111  63.62222222  88.23333333 112.84444444 137.45555556\n",
            " 162.06666667 186.67777778 211.28888889 235.9       ]\n"
          ]
        },
        {
          "output_type": "display_data",
          "data": {
            "text/plain": [
              "<Figure size 432x288 with 1 Axes>"
            ],
            "image/png": "[encoded data removed]"
          },
          "metadata": {
            "needs_background": "light"
          }
        }
      ]
    },
    {
      "cell_type": "code",
      "source": [
        "relative_frequencies, edges, _ = plt.hist(data_frame['C7'], bins=number, weights=np.zeros_like(data_frame['C7']) + 1. / n)\n",
        "midpoints = 0.5 * (edges[1:] + edges[:-1])\n",
        "print(relative_frequencies)\n",
        "print(edges[:-1])\n",
        "print(edges[1:])"
      ],
      "metadata": {
        "colab": {
          "base_uri": "https://localhost:8080/",
          "height": 367
        },
        "id": "NwPvfpbVdngl",
        "outputId": "cc18478d-ac11-4e6a-e32b-29083cf19ff5"
      },
      "execution_count": 45,
      "outputs": [
        {
          "output_type": "stream",
          "name": "stdout",
          "text": [
            "[0.1047619  0.31746032 0.26666667 0.17142857 0.09206349 0.01904762\n",
            " 0.01904762 0.00634921 0.0031746 ]\n",
            "[ 14.4         39.01111111  63.62222222  88.23333333 112.84444444\n",
            " 137.45555556 162.06666667 186.67777778 211.28888889]\n",
            "[ 39.01111111  63.62222222  88.23333333 112.84444444 137.45555556\n",
            " 162.06666667 186.67777778 211.28888889 235.9       ]\n"
          ]
        },
        {
          "output_type": "display_data",
          "data": {
            "text/plain": [
              "<Figure size 432x288 with 1 Axes>"
            ],
            "image/png": "[encoded data removed]"
          },
          "metadata": {
            "needs_background": "light"
          }
        }
      ]
    },
    {
      "cell_type": "code",
      "source": [
        "loc = data_frame['C7'].mean()\n",
        "scale = data_frame['C7'].std()\n",
        "probabilities = [sps.norm.cdf(edges[i], loc=loc, scale=scale) - sps.norm.cdf(edges[i - 1], loc=loc, scale=scale) for i in range(1, number + 1)]\n",
        "print(probabilities)"
      ],
      "metadata": {
        "colab": {
          "base_uri": "https://localhost:8080/"
        },
        "id": "UuWIM-SefU-_",
        "outputId": "692bd863-cc8b-4f19-aec3-ad2205de3cb9"
      },
      "execution_count": 46,
      "outputs": [
        {
          "output_type": "stream",
          "name": "stdout",
          "text": [
            "[0.09846668101283465, 0.2153732710742174, 0.2838123839037856, 0.22539888430188793, 0.10785311768451489, 0.031067367978185212, 0.00538011500744251, 0.0005592091710248104, 3.482209569194428e-05]\n"
          ]
        }
      ]
    },
    {
      "cell_type": "code",
      "source": [
        "sns_plot = sns.distplot(data_frame['C7'], bins=number)\n",
        "fig = sns_plot.get_figure()"
      ],
      "metadata": {
        "colab": {
          "base_uri": "https://localhost:8080/",
          "height": 333
        },
        "id": "SuClqMemfYLC",
        "outputId": "014887ec-81d2-47a1-9e17-6281798736ec"
      },
      "execution_count": 47,
      "outputs": [
        {
          "output_type": "stream",
          "name": "stderr",
          "text": [
            "/usr/local/lib/python3.8/dist-packages/seaborn/distributions.py:2619: FutureWarning: `distplot` is a deprecated function and will be removed in a future version. Please adapt your code to use either `displot` (a figure-level function with similar flexibility) or `histplot` (an axes-level function for histograms).\n",
            "  warnings.warn(msg, FutureWarning)\n"
          ]
        },
        {
          "output_type": "display_data",
          "data": {
            "text/plain": [
              "<Figure size 432x288 with 1 Axes>"
            ],
            "image/png": "[encoded data removed]"
          },
          "metadata": {
            "needs_background": "light"
          }
        }
      ]
    },
    {
      "cell_type": "code",
      "source": [
        "f_1 = np.array([33., 100., 84., 54., 29., 6., 6., 2., 1.])\n",
        "f_2 = np.array([315 * probabilities[i] for i in range(number)])"
      ],
      "metadata": {
        "id": "6cIKoMdz5JXD"
      },
      "execution_count": 48,
      "outputs": []
    },
    {
      "cell_type": "code",
      "source": [
        "m1 = sps.describe(f_1)[2]\n",
        "m2 = sps.describe(f_2)[2]"
      ],
      "metadata": {
        "id": "WM5uj03Y6LBv"
      },
      "execution_count": 49,
      "outputs": []
    },
    {
      "cell_type": "code",
      "source": [
        "sps.chisquare(f_obs=f_1, f_exp=f_2  * float(m1 / m2), ddof=2) "
      ],
      "metadata": {
        "colab": {
          "base_uri": "https://localhost:8080/"
        },
        "id": "1GVQZ9cC6E7g",
        "outputId": "2acdecc9-b7b3-40ae-846f-804fdafacb53"
      },
      "execution_count": 50,
      "outputs": [
        {
          "output_type": "execute_result",
          "data": {
            "text/plain": [
              "Power_divergenceResult(statistic=136.11572105304234, pvalue=6.612017938543149e-27)"
            ]
          },
          "metadata": {},
          "execution_count": 50
        }
      ]
    },
    {
      "cell_type": "code",
      "source": [
        "def pirson_test(x, y):\n",
        "  n = 315\n",
        "  m = 9\n",
        "  sum = 0\n",
        "  for i in range(m):\n",
        "    sum += (x[i] - n * y[i]) ** 2 / (n * y[i])\n",
        "  z = sum \n",
        "  f = sps.chi2.cdf(z, df=6)\n",
        "  return z, 1 - f"
      ],
      "metadata": {
        "id": "LyTzh5q17d-g"
      },
      "execution_count": 51,
      "outputs": []
    },
    {
      "cell_type": "code",
      "source": [
        "print(pirson_test(frequencies, probabilities))"
      ],
      "metadata": {
        "colab": {
          "base_uri": "https://localhost:8080/"
        },
        "id": "w5TA34Sh821f",
        "outputId": "cfd7915f-0c79-4cbb-e22f-baec6242a51b"
      },
      "execution_count": 52,
      "outputs": [
        {
          "output_type": "stream",
          "name": "stdout",
          "text": [
            "(140.95765096920547, 0.0)\n"
          ]
        }
      ]
    },
    {
      "cell_type": "markdown",
      "source": [
        "**Задание 4.2**"
      ],
      "metadata": {
        "id": "RPhAeo1FkGaf"
      }
    },
    {
      "cell_type": "code",
      "source": [
        "sps.describe(data_frame['C7'])"
      ],
      "metadata": {
        "colab": {
          "base_uri": "https://localhost:8080/"
        },
        "id": "lvOV-BlykJdO",
        "outputId": "16ec53b7-e30b-42b4-f2de-31aaf8209d7d"
      },
      "execution_count": 53,
      "outputs": [
        {
          "output_type": "execute_result",
          "data": {
            "text/plain": [
              "DescribeResult(nobs=315, minmax=(14.4, 235.9), mean=77.03333333333333, variance=1144.431210191083, skewness=1.0989962157492976, kurtosis=1.9647991849352238)"
            ]
          },
          "metadata": {},
          "execution_count": 53
        }
      ]
    },
    {
      "cell_type": "code",
      "source": [
        "sps.jarque_bera(data_frame['C7'])"
      ],
      "metadata": {
        "colab": {
          "base_uri": "https://localhost:8080/"
        },
        "id": "KMtUdt1bkWlK",
        "outputId": "7508db73-b747-4525-8ff3-0df2509e5fd4"
      },
      "execution_count": 54,
      "outputs": [
        {
          "output_type": "execute_result",
          "data": {
            "text/plain": [
              "Jarque_beraResult(statistic=114.07733617936984, pvalue=0.0)"
            ]
          },
          "metadata": {},
          "execution_count": 54
        }
      ]
    },
    {
      "cell_type": "code",
      "source": [
        "n = sps.describe(data_frame['C7'])[0]\n",
        "sk = sps.describe(data_frame['C7'])[4]\n",
        "kurt = sps.describe(data_frame['C7'])[5]"
      ],
      "metadata": {
        "id": "ZeFZefuyfInw"
      },
      "execution_count": 55,
      "outputs": []
    },
    {
      "cell_type": "code",
      "source": [
        "def jarque_bera_test(x):\n",
        "    z = n / 6 * (sk ** 2 + kurt ** 2 / 4)\n",
        "    f = sps.chi2.cdf(z, df=2)\n",
        "    return z, 1 - f"
      ],
      "metadata": {
        "id": "Jo40tOPQbtPP"
      },
      "execution_count": 56,
      "outputs": []
    },
    {
      "cell_type": "code",
      "source": [
        "print(jarque_bera_test(data_frame['C7']))"
      ],
      "metadata": {
        "colab": {
          "base_uri": "https://localhost:8080/"
        },
        "id": "t2UP0IYOefPC",
        "outputId": "543e1e80-481c-441f-8cc1-51f530c16d74"
      },
      "execution_count": 57,
      "outputs": [
        {
          "output_type": "stream",
          "name": "stdout",
          "text": [
            "(114.07733617936985, 0.0)\n"
          ]
        }
      ]
    },
    {
      "cell_type": "markdown",
      "source": [
        "**Задание 5**"
      ],
      "metadata": {
        "id": "v6hjucpwoYf2"
      }
    },
    {
      "cell_type": "markdown",
      "source": [
        "**Задание 5.1**"
      ],
      "metadata": {
        "id": "g67ZRRQio4vF"
      }
    },
    {
      "cell_type": "code",
      "source": [
        "sign_test(data_frame['C13'], data_frame['C14'])"
      ],
      "metadata": {
        "colab": {
          "base_uri": "https://localhost:8080/"
        },
        "id": "nkq6DfQso7Gm",
        "outputId": "2383dfb5-ef12-484a-87b6-b73b7cfc3a4d"
      },
      "execution_count": 58,
      "outputs": [
        {
          "output_type": "execute_result",
          "data": {
            "text/plain": [
              "(-146.5, 1.9772043529779528e-75)"
            ]
          },
          "metadata": {},
          "execution_count": 58
        }
      ]
    },
    {
      "cell_type": "markdown",
      "source": [
        "**Задание 5.2**"
      ],
      "metadata": {
        "id": "oL9vRzGqc-I4"
      }
    },
    {
      "cell_type": "code",
      "source": [
        "number = int(1 + math.log2(n))\n",
        "print(number)"
      ],
      "metadata": {
        "colab": {
          "base_uri": "https://localhost:8080/"
        },
        "id": "oTKiA9lnc26p",
        "outputId": "c4883755-75c5-45e9-d716-373eb194fe7f"
      },
      "execution_count": 59,
      "outputs": [
        {
          "output_type": "stream",
          "name": "stdout",
          "text": [
            "9\n"
          ]
        }
      ]
    },
    {
      "cell_type": "code",
      "source": [
        "step = int((data_frame['C13'].max() - data_frame['C13'].min()) / number)\n",
        "print(step)"
      ],
      "metadata": {
        "colab": {
          "base_uri": "https://localhost:8080/"
        },
        "id": "gbkm00a3dFBq",
        "outputId": "436c4773-0953-4d28-f5d0-77d2529020c2"
      },
      "execution_count": 60,
      "outputs": [
        {
          "output_type": "stream",
          "name": "stdout",
          "text": [
            "157\n"
          ]
        }
      ]
    },
    {
      "cell_type": "code",
      "source": [
        "left = min(min(data_frame['C13']), min(data_frame['C14']))\n",
        "right = max(max(data_frame['C13']), max(data_frame['C14']))\n",
        "step = (right - left) / number\n",
        "bins = [left + step * i for i in range(0, number + 1)]\n",
        "\n",
        "frequencies_1, edges_1, _ = plt.hist(data_frame['C13'], bins=bins, alpha=0.5)\n",
        "midpoints_1 = 0.5 * (edges_1[1:] + edges_1[:-1])\n",
        "print(frequencies_1)\n",
        "print(edges_1[:-1])\n",
        "print(edges_1[1:])\n",
        "\n",
        "frequencies_2, edges_2, _ = plt.hist(data_frame['C14'], bins=bins, alpha=0.5)\n",
        "midpoints_2 = 0.5 * (edges_2[1:] + edges_2[:-1])\n",
        "print(frequencies_2)\n",
        "print(edges_2[:-1])\n",
        "print(edges_2[1:])"
      ],
      "metadata": {
        "colab": {
          "base_uri": "https://localhost:8080/",
          "height": 435
        },
        "id": "WyLNzEHfdGkV",
        "outputId": "5add7376-31f6-4fb4-9556-58338dd4d49f"
      },
      "execution_count": 61,
      "outputs": [
        {
          "output_type": "stream",
          "name": "stdout",
          "text": [
            "[215.  73.  17.   2.   3.   2.   1.   2.   0.]\n",
            "[   0.          191.88888889  383.77777778  575.66666667  767.55555556\n",
            "  959.44444444 1151.33333333 1343.22222222 1535.11111111]\n",
            "[ 191.88888889  383.77777778  575.66666667  767.55555556  959.44444444\n",
            " 1151.33333333 1343.22222222 1535.11111111 1727.        ]\n",
            "[  2.  28. 134.  92.  45.   8.   3.   2.   1.]\n",
            "[   0.          191.88888889  383.77777778  575.66666667  767.55555556\n",
            "  959.44444444 1151.33333333 1343.22222222 1535.11111111]\n",
            "[ 191.88888889  383.77777778  575.66666667  767.55555556  959.44444444\n",
            " 1151.33333333 1343.22222222 1535.11111111 1727.        ]\n"
          ]
        },
        {
          "output_type": "display_data",
          "data": {
            "text/plain": [
              "<Figure size 432x288 with 1 Axes>"
            ],
            "image/png": "[encoded data removed]"
          },
          "metadata": {
            "needs_background": "light"
          }
        }
      ]
    },
    {
      "cell_type": "code",
      "source": [
        "relative_frequencies_1, edges_1, _ = plt.hist(data_frame['C13'], bins=bins, alpha=0.5, weights=np.zeros_like(data_frame['C13']) + 1. / n)\n",
        "midpoints_1 = 0.5 * (edges_1[1:] + edges_1[:-1])\n",
        "print(relative_frequencies_1)\n",
        "print()\n",
        "\n",
        "relative_frequencies_2, edges_2, _ = plt.hist(data_frame['C14'], bins=bins, alpha=0.5, weights=np.zeros_like(data_frame['C14']) + 1. / n)\n",
        "midpoints_2 = 0.5 * (edges_2[1:] + edges_2[:-1])\n",
        "print(relative_frequencies_2)"
      ],
      "metadata": {
        "colab": {
          "base_uri": "https://localhost:8080/",
          "height": 350
        },
        "id": "tqfIK42Ki7Ze",
        "outputId": "2b312323-43c3-4459-9a05-346ad69fb599"
      },
      "execution_count": 62,
      "outputs": [
        {
          "output_type": "stream",
          "name": "stdout",
          "text": [
            "[0.68253968 0.23174603 0.05396825 0.00634921 0.00952381 0.00634921\n",
            " 0.0031746  0.00634921 0.        ]\n",
            "\n",
            "[0.00634921 0.08888889 0.42539683 0.29206349 0.14285714 0.02539683\n",
            " 0.00952381 0.00634921 0.0031746 ]\n"
          ]
        },
        {
          "output_type": "display_data",
          "data": {
            "text/plain": [
              "<Figure size 432x288 with 1 Axes>"
            ],
            "image/png": "[encoded data removed]"
          },
          "metadata": {
            "needs_background": "light"
          }
        }
      ]
    },
    {
      "cell_type": "code",
      "source": [
        "sps.chisquare(f_obs=relative_frequencies_1, f_exp=relative_frequencies_2, ddof=2)"
      ],
      "metadata": {
        "colab": {
          "base_uri": "https://localhost:8080/"
        },
        "id": "vNpdZ9sLdJWt",
        "outputId": "55d16b0b-ec91-4e64-8893-375512278cba"
      },
      "execution_count": 63,
      "outputs": [
        {
          "output_type": "execute_result",
          "data": {
            "text/plain": [
              "Power_divergenceResult(statistic=72.99382525899497, pvalue=9.928006143298864e-14)"
            ]
          },
          "metadata": {},
          "execution_count": 63
        }
      ]
    },
    {
      "cell_type": "markdown",
      "source": [
        "**Задание 6**"
      ],
      "metadata": {
        "id": "KjHVe7iXZVF3"
      }
    },
    {
      "cell_type": "code",
      "source": [
        "n = len(data_frame[\"C3\"])\n",
        "n"
      ],
      "metadata": {
        "colab": {
          "base_uri": "https://localhost:8080/"
        },
        "id": "pQPsnx4rZaHE",
        "outputId": "9d70ec61-e2e7-44a4-d247-0c603ef813ac"
      },
      "execution_count": 64,
      "outputs": [
        {
          "output_type": "execute_result",
          "data": {
            "text/plain": [
              "315"
            ]
          },
          "metadata": {},
          "execution_count": 64
        }
      ]
    },
    {
      "cell_type": "code",
      "source": [
        "data_frame[\"C2\"].unique()"
      ],
      "metadata": {
        "colab": {
          "base_uri": "https://localhost:8080/"
        },
        "id": "Gi5bTrvzbHh-",
        "outputId": "2b85b77d-b280-4950-a760-f6feefdd2d97"
      },
      "execution_count": 65,
      "outputs": [
        {
          "output_type": "execute_result",
          "data": {
            "text/plain": [
              "array(['Female', 'Male'], dtype=object)"
            ]
          },
          "metadata": {},
          "execution_count": 65
        }
      ]
    },
    {
      "cell_type": "code",
      "source": [
        "data_frame[\"C3\"].unique()"
      ],
      "metadata": {
        "colab": {
          "base_uri": "https://localhost:8080/"
        },
        "id": "jaAzxFSobRXW",
        "outputId": "a8a6b8e9-9166-40dc-9d65-b74ff490dc2e"
      },
      "execution_count": 66,
      "outputs": [
        {
          "output_type": "execute_result",
          "data": {
            "text/plain": [
              "array(['Former', 'Never', 'Current Smoker'], dtype=object)"
            ]
          },
          "metadata": {},
          "execution_count": 66
        }
      ]
    },
    {
      "cell_type": "code",
      "source": [
        "emp_table = pd.crosstab(index=data_frame[\"C2\"], columns=data_frame[\"C3\"], margins=True)\n",
        "emp_table"
      ],
      "metadata": {
        "colab": {
          "base_uri": "https://localhost:8080/",
          "height": 173
        },
        "id": "ygJV0RjiN4Lh",
        "outputId": "c2629fe4-8b05-4a50-eb64-6a92bef57f85"
      },
      "execution_count": 67,
      "outputs": [
        {
          "output_type": "execute_result",
          "data": {
            "text/plain": [
              "C3      Current Smoker  Former  Never  All\n",
              "C2                                        \n",
              "Female              36      93    144  273\n",
              "Male                 7      22     13   42\n",
              "All                 43     115    157  315"
            ],
            "text/html": [
              "\n",
              "  <div id=\"df-51df5a71-1f26-4258-a847-965ef722d9b2\">\n",
              "    <div class=\"colab-df-container\">\n",
              "      <div>\n",
              "<style scoped>\n",
              "    .dataframe tbody tr th:only-of-type {\n",
              "        vertical-align: middle;\n",
              "    }\n",
              "\n",
              "    .dataframe tbody tr th {\n",
              "        vertical-align: top;\n",
              "    }\n",
              "\n",
              "    .dataframe thead th {\n",
              "        text-align: right;\n",
              "    }\n",
              "</style>\n",
              "<table border=\"1\" class=\"dataframe\">\n",
              "  <thead>\n",
              "    <tr style=\"text-align: right;\">\n",
              "      <th>C3</th>\n",
              "      <th>Current Smoker</th>\n",
              "      <th>Former</th>\n",
              "      <th>Never</th>\n",
              "      <th>All</th>\n",
              "    </tr>\n",
              "    <tr>\n",
              "      <th>C2</th>\n",
              "      <th></th>\n",
              "      <th></th>\n",
              "      <th></th>\n",
              "      <th></th>\n",
              "    </tr>\n",
              "  </thead>\n",
              "  <tbody>\n",
              "    <tr>\n",
              "      <th>Female</th>\n",
              "      <td>36</td>\n",
              "      <td>93</td>\n",
              "      <td>144</td>\n",
              "      <td>273</td>\n",
              "    </tr>\n",
              "    <tr>\n",
              "      <th>Male</th>\n",
              "      <td>7</td>\n",
              "      <td>22</td>\n",
              "      <td>13</td>\n",
              "      <td>42</td>\n",
              "    </tr>\n",
              "    <tr>\n",
              "      <th>All</th>\n",
              "      <td>43</td>\n",
              "      <td>115</td>\n",
              "      <td>157</td>\n",
              "      <td>315</td>\n",
              "    </tr>\n",
              "  </tbody>\n",
              "</table>\n",
              "</div>\n",
              "      <button class=\"colab-df-convert\" onclick=\"convertToInteractive('df-51df5a71-1f26-4258-a847-965ef722d9b2')\"\n",
              "              title=\"Convert this dataframe to an interactive table.\"\n",
              "              style=\"display:none;\">\n",
              "        \n",
              "  <svg xmlns=\"http://www.w3.org/2000/svg\" height=\"24px\"viewBox=\"0 0 24 24\"\n",
              "       width=\"24px\">\n",
              "    <path d=\"M0 0h24v24H0V0z\" fill=\"none\"/>\n",
              "    <path d=\"M18.56 5.44l.94 2.06.94-2.06 2.06-.94-2.06-.94-.94-2.06-.94 2.06-2.06.94zm-11 1L8.5 8.5l.94-2.06 2.06-.94-2.06-.94L8.5 2.5l-.94 2.06-2.06.94zm10 10l.94 2.06.94-2.06 2.06-.94-2.06-.94-.94-2.06-.94 2.06-2.06.94z\"/><path d=\"M17.41 7.96l-1.37-1.37c-.4-.4-.92-.59-1.43-.59-.52 0-1.04.2-1.43.59L10.3 9.45l-7.72 7.72c-.78.78-.78 2.05 0 2.83L4 21.41c.39.39.9.59 1.41.59.51 0 1.02-.2 1.41-.59l7.78-7.78 2.81-2.81c.8-.78.8-2.07 0-2.86zM5.41 20L4 18.59l7.72-7.72 1.47 1.35L5.41 20z\"/>\n",
              "  </svg>\n",
              "      </button>\n",
              "      \n",
              "  <style>\n",
              "    .colab-df-container {\n",
              "      display:flex;\n",
              "      flex-wrap:wrap;\n",
              "      gap: 12px;\n",
              "    }\n",
              "\n",
              "    .colab-df-convert {\n",
              "      background-color: #E8F0FE;\n",
              "      border: none;\n",
              "      border-radius: 50%;\n",
              "      cursor: pointer;\n",
              "      display: none;\n",
              "      fill: #1967D2;\n",
              "      height: 32px;\n",
              "      padding: 0 0 0 0;\n",
              "      width: 32px;\n",
              "    }\n",
              "\n",
              "    .colab-df-convert:hover {\n",
              "      background-color: #E2EBFA;\n",
              "      box-shadow: 0px 1px 2px rgba(60, 64, 67, 0.3), 0px 1px 3px 1px rgba(60, 64, 67, 0.15);\n",
              "      fill: #174EA6;\n",
              "    }\n",
              "\n",
              "    [theme=dark] .colab-df-convert {\n",
              "      background-color: #3B4455;\n",
              "      fill: #D2E3FC;\n",
              "    }\n",
              "\n",
              "    [theme=dark] .colab-df-convert:hover {\n",
              "      background-color: #434B5C;\n",
              "      box-shadow: 0px 1px 3px 1px rgba(0, 0, 0, 0.15);\n",
              "      filter: drop-shadow(0px 1px 2px rgba(0, 0, 0, 0.3));\n",
              "      fill: #FFFFFF;\n",
              "    }\n",
              "  </style>\n",
              "\n",
              "      <script>\n",
              "        const buttonEl =\n",
              "          document.querySelector('#df-51df5a71-1f26-4258-a847-965ef722d9b2 button.colab-df-convert');\n",
              "        buttonEl.style.display =\n",
              "          google.colab.kernel.accessAllowed ? 'block' : 'none';\n",
              "\n",
              "        async function convertToInteractive(key) {\n",
              "          const element = document.querySelector('#df-51df5a71-1f26-4258-a847-965ef722d9b2');\n",
              "          const dataTable =\n",
              "            await google.colab.kernel.invokeFunction('convertToInteractive',\n",
              "                                                     [key], {});\n",
              "          if (!dataTable) return;\n",
              "\n",
              "          const docLinkHtml = 'Like what you see? Visit the ' +\n",
              "            '<a target=\"_blank\" href=https://colab.research.google.com/notebooks/data_table.ipynb>data table notebook</a>'\n",
              "            + ' to learn more about interactive tables.';\n",
              "          element.innerHTML = '';\n",
              "          dataTable['output_type'] = 'display_data';\n",
              "          await google.colab.output.renderOutput(dataTable, element);\n",
              "          const docLink = document.createElement('div');\n",
              "          docLink.innerHTML = docLinkHtml;\n",
              "          element.appendChild(docLink);\n",
              "        }\n",
              "      </script>\n",
              "    </div>\n",
              "  </div>\n",
              "  "
            ]
          },
          "metadata": {},
          "execution_count": 67
        }
      ]
    },
    {
      "cell_type": "code",
      "source": [
        "teor_table = sps.chi2_contingency(emp_table)[3]\n",
        "teor_table"
      ],
      "metadata": {
        "colab": {
          "base_uri": "https://localhost:8080/"
        },
        "id": "c0ECf5KPWeXG",
        "outputId": "16ccfb8f-4a12-4e3e-e718-4f2cbecd557b"
      },
      "execution_count": 68,
      "outputs": [
        {
          "output_type": "execute_result",
          "data": {
            "text/plain": [
              "array([[ 37.26666667,  99.66666667, 136.06666667, 273.        ],\n",
              "       [  5.73333333,  15.33333333,  20.93333333,  42.        ],\n",
              "       [ 43.        , 115.        , 157.        , 315.        ]])"
            ]
          },
          "metadata": {},
          "execution_count": 68
        }
      ]
    },
    {
      "cell_type": "code",
      "source": [
        "sps.chi2_contingency(emp_table)[:2]"
      ],
      "metadata": {
        "colab": {
          "base_uri": "https://localhost:8080/"
        },
        "id": "qr9dObevYwAL",
        "outputId": "547533d0-87d0-49ce-f5db-c2a2e251e14e"
      },
      "execution_count": 69,
      "outputs": [
        {
          "output_type": "execute_result",
          "data": {
            "text/plain": [
              "(7.136512415601504, 0.30840701536046683)"
            ]
          },
          "metadata": {},
          "execution_count": 69
        }
      ]
    },
    {
      "cell_type": "markdown",
      "source": [
        "**Задание 7**"
      ],
      "metadata": {
        "id": "8aLynVnaaXs-"
      }
    },
    {
      "cell_type": "code",
      "source": [
        "data_frame[\"C5\"].unique()"
      ],
      "metadata": {
        "colab": {
          "base_uri": "https://localhost:8080/"
        },
        "id": "ndEt7jcr1hxh",
        "outputId": "87ed5f52-f6c5-48cc-eac0-fdca7f934d75"
      },
      "execution_count": 70,
      "outputs": [
        {
          "output_type": "execute_result",
          "data": {
            "text/plain": [
              "array(['Often', 'Not often', 'No'], dtype=object)"
            ]
          },
          "metadata": {},
          "execution_count": 70
        }
      ]
    },
    {
      "cell_type": "code",
      "source": [
        "f_c = data_frame.groupby([\"C5\"])[\"C5\"].count()\n",
        "f_c"
      ],
      "metadata": {
        "colab": {
          "base_uri": "https://localhost:8080/"
        },
        "id": "bYDkH98-adHM",
        "outputId": "7c1667a1-4586-476c-fc95-3fe0aa071627"
      },
      "execution_count": 71,
      "outputs": [
        {
          "output_type": "execute_result",
          "data": {
            "text/plain": [
              "C5\n",
              "No           111\n",
              "Not often     82\n",
              "Often        122\n",
              "Name: C5, dtype: int64"
            ]
          },
          "metadata": {},
          "execution_count": 71
        }
      ]
    },
    {
      "cell_type": "code",
      "source": [
        "n1 = f_c[0]\n",
        "n2 = f_c[1]\n",
        "n3 = f_c[2]\n",
        "n = n1 + n2 + n3"
      ],
      "metadata": {
        "id": "TvwDn7kZ1N77"
      },
      "execution_count": 72,
      "outputs": []
    },
    {
      "cell_type": "code",
      "source": [
        "no = data_frame[data_frame[\"C5\"] == \"No\"]\n",
        "no_mean = no[\"C13\"].mean()\n",
        "no_mean"
      ],
      "metadata": {
        "colab": {
          "base_uri": "https://localhost:8080/"
        },
        "id": "1W_tz2_o409-",
        "outputId": "3e69cade-8069-43a6-a5ab-35067eb934b7"
      },
      "execution_count": 73,
      "outputs": [
        {
          "output_type": "execute_result",
          "data": {
            "text/plain": [
              "136.8918918918919"
            ]
          },
          "metadata": {},
          "execution_count": 73
        }
      ]
    },
    {
      "cell_type": "code",
      "source": [
        "no_var = no[\"C13\"].var()\n",
        "no_var"
      ],
      "metadata": {
        "colab": {
          "base_uri": "https://localhost:8080/"
        },
        "id": "QUzRdZlc9cSG",
        "outputId": "3a072d94-7f31-4adb-b4ad-56b71bc9afce"
      },
      "execution_count": 74,
      "outputs": [
        {
          "output_type": "execute_result",
          "data": {
            "text/plain": [
              "8493.660933660934"
            ]
          },
          "metadata": {},
          "execution_count": 74
        }
      ]
    },
    {
      "cell_type": "code",
      "source": [
        "not_often = data_frame[data_frame[\"C5\"] == \"Not often\"]\n",
        "not_often_mean = not_often[\"C13\"].mean()\n",
        "not_often_mean"
      ],
      "metadata": {
        "colab": {
          "base_uri": "https://localhost:8080/"
        },
        "id": "_a1fAog-8jnd",
        "outputId": "28921fff-0191-4eaa-d3f3-732e5dcf6ca3"
      },
      "execution_count": 75,
      "outputs": [
        {
          "output_type": "execute_result",
          "data": {
            "text/plain": [
              "185.65853658536585"
            ]
          },
          "metadata": {},
          "execution_count": 75
        }
      ]
    },
    {
      "cell_type": "code",
      "source": [
        "not_often_var= not_often[\"C13\"].var()\n",
        "not_often_var"
      ],
      "metadata": {
        "colab": {
          "base_uri": "https://localhost:8080/"
        },
        "id": "M8hpArml9psB",
        "outputId": "71350414-782b-4c6e-fb98-b2442f1a7f4b"
      },
      "execution_count": 76,
      "outputs": [
        {
          "output_type": "execute_result",
          "data": {
            "text/plain": [
              "20775.388136103582"
            ]
          },
          "metadata": {},
          "execution_count": 76
        }
      ]
    },
    {
      "cell_type": "code",
      "source": [
        "often = data_frame[data_frame[\"C5\"] == \"Often\"]\n",
        "often_mean = often[\"C13\"].mean()\n",
        "often_mean"
      ],
      "metadata": {
        "colab": {
          "base_uri": "https://localhost:8080/"
        },
        "id": "0Qpt6ZMD84MW",
        "outputId": "07ffd132-0ed3-4452-9355-b79c80359920"
      },
      "execution_count": 77,
      "outputs": [
        {
          "output_type": "execute_result",
          "data": {
            "text/plain": [
              "240.95901639344262"
            ]
          },
          "metadata": {},
          "execution_count": 77
        }
      ]
    },
    {
      "cell_type": "code",
      "source": [
        "often_var = often[\"C13\"].var()\n",
        "often_var"
      ],
      "metadata": {
        "colab": {
          "base_uri": "https://localhost:8080/"
        },
        "id": "AaV26cXI93U5",
        "outputId": "a74519b5-0c44-42c9-8ef6-abbbf976824d"
      },
      "execution_count": 78,
      "outputs": [
        {
          "output_type": "execute_result",
          "data": {
            "text/plain": [
              "60058.70078580138"
            ]
          },
          "metadata": {},
          "execution_count": 78
        }
      ]
    },
    {
      "cell_type": "code",
      "source": [
        "mean = (n1 * no_mean + n2 * not_often_mean + n3 * often_mean) / n\n",
        "mean"
      ],
      "metadata": {
        "colab": {
          "base_uri": "https://localhost:8080/"
        },
        "id": "UGMR590J1wuI",
        "outputId": "8eb180f5-dbb9-461b-e50c-0d0b5efa5c26"
      },
      "execution_count": 79,
      "outputs": [
        {
          "output_type": "execute_result",
          "data": {
            "text/plain": [
              "189.8920634920635"
            ]
          },
          "metadata": {},
          "execution_count": 79
        }
      ]
    },
    {
      "cell_type": "code",
      "source": [
        "k = len(data_frame[\"C5\"].unique())\n",
        "k"
      ],
      "metadata": {
        "colab": {
          "base_uri": "https://localhost:8080/"
        },
        "id": "FrB0wX0N3f1Y",
        "outputId": "78b4c02c-65cf-4d36-97cd-602643f5b328"
      },
      "execution_count": 80,
      "outputs": [
        {
          "output_type": "execute_result",
          "data": {
            "text/plain": [
              "3"
            ]
          },
          "metadata": {},
          "execution_count": 80
        }
      ]
    },
    {
      "cell_type": "code",
      "source": [
        "D_b = (n1 * (no_mean - mean) ** 2 + n2 * (not_often_mean - mean) ** 2 + n3 * (often_mean - mean) ** 2) / n\n",
        "D_b"
      ],
      "metadata": {
        "colab": {
          "base_uri": "https://localhost:8080/"
        },
        "id": "zRIl_mAInkzc",
        "outputId": "59e74cc8-64be-406c-beee-2413ad6aa804"
      },
      "execution_count": 81,
      "outputs": [
        {
          "output_type": "execute_result",
          "data": {
            "text/plain": [
              "2004.5282328560947"
            ]
          },
          "metadata": {},
          "execution_count": 81
        }
      ]
    },
    {
      "cell_type": "code",
      "source": [
        "D_w = (n1 * no_var + n2 * not_often_var + n3 * often_var) / n\n",
        "D_w"
      ],
      "metadata": {
        "colab": {
          "base_uri": "https://localhost:8080/"
        },
        "id": "akyVzgZC3sHA",
        "outputId": "e8be788f-e6d4-4d5c-db36-fa53841b0a35"
      },
      "execution_count": 82,
      "outputs": [
        {
          "output_type": "execute_result",
          "data": {
            "text/plain": [
              "31662.030751316273"
            ]
          },
          "metadata": {},
          "execution_count": 82
        }
      ]
    },
    {
      "cell_type": "code",
      "source": [
        "X = [no[\"C13\"], not_often[\"C13\"], often[\"C13\"]]\n",
        "sum = 0\n",
        "for x in X:\n",
        "  for i in x:\n",
        "    sum += (i - mean) ** 2\n",
        "D_x = sum / n\n",
        "D_x"
      ],
      "metadata": {
        "colab": {
          "base_uri": "https://localhost:8080/"
        },
        "id": "zdG7mskv5TqT",
        "outputId": "87fcba78-82e1-4cd8-aaf6-18a1c71ade71"
      },
      "execution_count": 83,
      "outputs": [
        {
          "output_type": "execute_result",
          "data": {
            "text/plain": [
              "33382.978825900725"
            ]
          },
          "metadata": {},
          "execution_count": 83
        }
      ]
    },
    {
      "cell_type": "code",
      "source": [
        "D_x_sum = D_w + D_b \n",
        "D_x_sum"
      ],
      "metadata": {
        "colab": {
          "base_uri": "https://localhost:8080/"
        },
        "id": "AIALdSZK4c8r",
        "outputId": "46d1721f-deb9-4631-874e-3752304917c4"
      },
      "execution_count": 84,
      "outputs": [
        {
          "output_type": "execute_result",
          "data": {
            "text/plain": [
              "33666.55898417237"
            ]
          },
          "metadata": {},
          "execution_count": 84
        }
      ]
    },
    {
      "cell_type": "code",
      "source": [
        "unb_est_b = n * D_b / (k - 1)\n",
        "unb_est_b"
      ],
      "metadata": {
        "colab": {
          "base_uri": "https://localhost:8080/"
        },
        "id": "nb5ZMLHp4jDH",
        "outputId": "e7861f14-b326-4f4d-83ff-6d5235546b6e"
      },
      "execution_count": 85,
      "outputs": [
        {
          "output_type": "execute_result",
          "data": {
            "text/plain": [
              "315713.19667483494"
            ]
          },
          "metadata": {},
          "execution_count": 85
        }
      ]
    },
    {
      "cell_type": "code",
      "source": [
        "unb_est_w = n * D_w / (n - k)\n",
        "unb_est_w"
      ],
      "metadata": {
        "colab": {
          "base_uri": "https://localhost:8080/"
        },
        "id": "VgdGHPcG41BI",
        "outputId": "b48560ab-52d6-4ac3-ef41-89fe71d91808"
      },
      "execution_count": 86,
      "outputs": [
        {
          "output_type": "execute_result",
          "data": {
            "text/plain": [
              "31966.473354694313"
            ]
          },
          "metadata": {},
          "execution_count": 86
        }
      ]
    },
    {
      "cell_type": "code",
      "source": [
        "unb_est_x = n * D_x / (n - 1)\n",
        "unb_est_x"
      ],
      "metadata": {
        "colab": {
          "base_uri": "https://localhost:8080/"
        },
        "id": "sJVl2dr348zz",
        "outputId": "c5930bb2-4c34-43e2-9452-94011222ae70"
      },
      "execution_count": 87,
      "outputs": [
        {
          "output_type": "execute_result",
          "data": {
            "text/plain": [
              "33489.2940450915"
            ]
          },
          "metadata": {},
          "execution_count": 87
        }
      ]
    },
    {
      "cell_type": "code",
      "source": [
        "eta_sq = D_b / D_x\n",
        "eta_sq"
      ],
      "metadata": {
        "colab": {
          "base_uri": "https://localhost:8080/"
        },
        "id": "fKNeQGiz5CZS",
        "outputId": "caab11ce-5f82-47ba-f0db-e4c72971abd8"
      },
      "execution_count": 88,
      "outputs": [
        {
          "output_type": "execute_result",
          "data": {
            "text/plain": [
              "0.060046415968752584"
            ]
          },
          "metadata": {},
          "execution_count": 88
        }
      ]
    },
    {
      "cell_type": "code",
      "source": [
        "eta = math.sqrt(D_b / D_x)\n",
        "eta"
      ],
      "metadata": {
        "colab": {
          "base_uri": "https://localhost:8080/"
        },
        "id": "uwG04ZLk7dU0",
        "outputId": "4a4bb9a5-ea6e-4ef9-a141-777632e3ceb4"
      },
      "execution_count": 89,
      "outputs": [
        {
          "output_type": "execute_result",
          "data": {
            "text/plain": [
              "0.24504370216096677"
            ]
          },
          "metadata": {},
          "execution_count": 89
        }
      ]
    },
    {
      "cell_type": "code",
      "source": [
        "sps.f_oneway(no[\"C13\"], not_often[\"C13\"], often[\"C13\"])"
      ],
      "metadata": {
        "colab": {
          "base_uri": "https://localhost:8080/"
        },
        "id": "nZBXCcTc9VQ9",
        "outputId": "0566c42b-7394-4e00-ec21-855c2c181d6f"
      },
      "execution_count": 90,
      "outputs": [
        {
          "output_type": "execute_result",
          "data": {
            "text/plain": [
              "F_onewayResult(statistic=9.96564197452329, pvalue=6.376754182611269e-05)"
            ]
          },
          "metadata": {},
          "execution_count": 90
        }
      ]
    },
    {
      "cell_type": "markdown",
      "source": [
        "**Задание 8**"
      ],
      "metadata": {
        "id": "Uc8yTXES90wx"
      }
    },
    {
      "cell_type": "markdown",
      "source": [
        "**Задание 8.1**"
      ],
      "metadata": {
        "id": "VMf0caT8X4dp"
      }
    },
    {
      "cell_type": "code",
      "source": [
        "r, p_value_r = sps.pearsonr(data_frame[\"C13\"], data_frame[\"C14\"])\n",
        "print(r, p_value_r, sep=\"\\n\")"
      ],
      "metadata": {
        "id": "FZNFXhXg93Ap",
        "colab": {
          "base_uri": "https://localhost:8080/"
        },
        "outputId": "8e1a3b8b-cbb2-4c61-f608-172ca3d45d25"
      },
      "execution_count": 91,
      "outputs": [
        {
          "output_type": "stream",
          "name": "stdout",
          "text": [
            "0.07157724015217476\n",
            "0.20517488254189867\n"
          ]
        }
      ]
    },
    {
      "cell_type": "code",
      "source": [
        "rsp, p_value_rsp = sps.spearmanr(data_frame[\"C13\"], data_frame[\"C14\"])\n",
        "print(rsp, p_value_r, sep=\"\\n\")"
      ],
      "metadata": {
        "colab": {
          "base_uri": "https://localhost:8080/"
        },
        "id": "Br8HOqMbovqE",
        "outputId": "772ade7e-001e-4e7f-ade9-59c66f9bb3b8"
      },
      "execution_count": 92,
      "outputs": [
        {
          "output_type": "stream",
          "name": "stdout",
          "text": [
            "0.13062133340920742\n",
            "0.20517488254189867\n"
          ]
        }
      ]
    },
    {
      "cell_type": "code",
      "source": [
        "tau, p_value_tau = sps.kendalltau(data_frame[\"C13\"], data_frame[\"C14\"])\n",
        "print(tau, p_value_tau, sep=\"\\n\")"
      ],
      "metadata": {
        "colab": {
          "base_uri": "https://localhost:8080/"
        },
        "id": "XMxJaYjLo3jw",
        "outputId": "5dcd4451-eacc-42ac-f8c3-9efb238010c6"
      },
      "execution_count": 93,
      "outputs": [
        {
          "output_type": "stream",
          "name": "stdout",
          "text": [
            "0.0857942303995992\n",
            "0.02343985266111217\n"
          ]
        }
      ]
    },
    {
      "cell_type": "code",
      "source": [
        "#r.confidence_interval(confidence_level=0.95) - почему-то не работает"
      ],
      "metadata": {
        "id": "gEDHIsjQb6zW"
      },
      "execution_count": 94,
      "outputs": []
    },
    {
      "cell_type": "code",
      "source": [
        "alpha = [0.01, 0.05, 0.1]\n",
        "a = r + (r * (1 - r ** 2)) / (2 * n)\n",
        "for a in alpha:\n",
        "  b = sps.norm.ppf(1 - a / 2, (1 - r ** 2) / math.sqrt(n))\n",
        "  print(\"alpha=\", a, \":\", sep=\"\")\n",
        "  print(\"lower edge:\", a - b)\n",
        "  print(\"higher edge:\", a + b)\n",
        "  print()"
      ],
      "metadata": {
        "colab": {
          "base_uri": "https://localhost:8080/"
        },
        "id": "Lhqg94J1cA2W",
        "outputId": "0e350ed8-5655-424b-ab14-7f188f51b738"
      },
      "execution_count": 95,
      "outputs": [
        {
          "output_type": "stream",
          "name": "stdout",
          "text": [
            "alpha=0.01:\n",
            "lower edge: -2.621884255204232\n",
            "higher edge: 2.6418842552042316\n",
            "\n",
            "alpha=0.05:\n",
            "lower edge: -1.9660189361953855\n",
            "higher edge: 2.0660189361953853\n",
            "\n",
            "alpha=0.1:\n",
            "lower edge: -1.6009085786068036\n",
            "higher edge: 1.8009085786068038\n",
            "\n"
          ]
        }
      ]
    },
    {
      "cell_type": "code",
      "source": [
        "z_r = (r / math.sqrt(1 - r ** 2)) * math.sqrt(n - 2)\n",
        "z_r"
      ],
      "metadata": {
        "colab": {
          "base_uri": "https://localhost:8080/"
        },
        "id": "h-3mDFIcotVa",
        "outputId": "bd054aa2-fcb0-4d3a-a7ba-45c08c9a7055"
      },
      "execution_count": 96,
      "outputs": [
        {
          "output_type": "execute_result",
          "data": {
            "text/plain": [
              "1.2695870624981909"
            ]
          },
          "metadata": {},
          "execution_count": 96
        }
      ]
    },
    {
      "cell_type": "code",
      "source": [
        "z_r_sp = (rsp / math.sqrt(1 - rsp ** 2)) * math.sqrt(n - 2)\n",
        "z_r_sp"
      ],
      "metadata": {
        "colab": {
          "base_uri": "https://localhost:8080/"
        },
        "id": "PqWUx0H5wuzp",
        "outputId": "37818002-0915-412d-e8fb-650f692e26d7"
      },
      "execution_count": 97,
      "outputs": [
        {
          "output_type": "execute_result",
          "data": {
            "text/plain": [
              "2.330897651015813"
            ]
          },
          "metadata": {},
          "execution_count": 97
        }
      ]
    },
    {
      "cell_type": "code",
      "source": [
        "z_tau = tau * math.sqrt(9 * n * (n + 1) / (2 * (2 * n + 5)))\n",
        "z_tau"
      ],
      "metadata": {
        "colab": {
          "base_uri": "https://localhost:8080/"
        },
        "id": "TSBIFJtExlx8",
        "outputId": "bd193b0e-a6cd-42ae-f007-7bb0b311120b"
      },
      "execution_count": 98,
      "outputs": [
        {
          "output_type": "execute_result",
          "data": {
            "text/plain": [
              "2.2786430348594875"
            ]
          },
          "metadata": {},
          "execution_count": 98
        }
      ]
    },
    {
      "cell_type": "markdown",
      "source": [
        "**Задание 8.2**"
      ],
      "metadata": {
        "id": "bWRsswQXyH3h"
      }
    },
    {
      "cell_type": "code",
      "source": [
        "data = {\"C7\": data_frame[\"C7\"], \"C9\": data_frame[\"C9\"], \"C12\": data_frame[\"C12\"]}\n",
        "df = pd.DataFrame(data)\n",
        "df.corr(method=\"kendall\")"
      ],
      "metadata": {
        "colab": {
          "base_uri": "https://localhost:8080/",
          "height": 142
        },
        "id": "DRIPvjmuyKU5",
        "outputId": "9aa52ed3-ce59-4413-cb2c-efa5e19aa910"
      },
      "execution_count": 99,
      "outputs": [
        {
          "output_type": "execute_result",
          "data": {
            "text/plain": [
              "           C7        C9       C12\n",
              "C7   1.000000  0.040055  0.351902\n",
              "C9   0.040055  1.000000 -0.029812\n",
              "C12  0.351902 -0.029812  1.000000"
            ],
            "text/html": [
              "\n",
              "  <div id=\"df-00624465-f125-4411-a84d-3a8e1b47e2a1\">\n",
              "    <div class=\"colab-df-container\">\n",
              "      <div>\n",
              "<style scoped>\n",
              "    .dataframe tbody tr th:only-of-type {\n",
              "        vertical-align: middle;\n",
              "    }\n",
              "\n",
              "    .dataframe tbody tr th {\n",
              "        vertical-align: top;\n",
              "    }\n",
              "\n",
              "    .dataframe thead th {\n",
              "        text-align: right;\n",
              "    }\n",
              "</style>\n",
              "<table border=\"1\" class=\"dataframe\">\n",
              "  <thead>\n",
              "    <tr style=\"text-align: right;\">\n",
              "      <th></th>\n",
              "      <th>C7</th>\n",
              "      <th>C9</th>\n",
              "      <th>C12</th>\n",
              "    </tr>\n",
              "  </thead>\n",
              "  <tbody>\n",
              "    <tr>\n",
              "      <th>C7</th>\n",
              "      <td>1.000000</td>\n",
              "      <td>0.040055</td>\n",
              "      <td>0.351902</td>\n",
              "    </tr>\n",
              "    <tr>\n",
              "      <th>C9</th>\n",
              "      <td>0.040055</td>\n",
              "      <td>1.000000</td>\n",
              "      <td>-0.029812</td>\n",
              "    </tr>\n",
              "    <tr>\n",
              "      <th>C12</th>\n",
              "      <td>0.351902</td>\n",
              "      <td>-0.029812</td>\n",
              "      <td>1.000000</td>\n",
              "    </tr>\n",
              "  </tbody>\n",
              "</table>\n",
              "</div>\n",
              "      <button class=\"colab-df-convert\" onclick=\"convertToInteractive('df-00624465-f125-4411-a84d-3a8e1b47e2a1')\"\n",
              "              title=\"Convert this dataframe to an interactive table.\"\n",
              "              style=\"display:none;\">\n",
              "        \n",
              "  <svg xmlns=\"http://www.w3.org/2000/svg\" height=\"24px\"viewBox=\"0 0 24 24\"\n",
              "       width=\"24px\">\n",
              "    <path d=\"M0 0h24v24H0V0z\" fill=\"none\"/>\n",
              "    <path d=\"M18.56 5.44l.94 2.06.94-2.06 2.06-.94-2.06-.94-.94-2.06-.94 2.06-2.06.94zm-11 1L8.5 8.5l.94-2.06 2.06-.94-2.06-.94L8.5 2.5l-.94 2.06-2.06.94zm10 10l.94 2.06.94-2.06 2.06-.94-2.06-.94-.94-2.06-.94 2.06-2.06.94z\"/><path d=\"M17.41 7.96l-1.37-1.37c-.4-.4-.92-.59-1.43-.59-.52 0-1.04.2-1.43.59L10.3 9.45l-7.72 7.72c-.78.78-.78 2.05 0 2.83L4 21.41c.39.39.9.59 1.41.59.51 0 1.02-.2 1.41-.59l7.78-7.78 2.81-2.81c.8-.78.8-2.07 0-2.86zM5.41 20L4 18.59l7.72-7.72 1.47 1.35L5.41 20z\"/>\n",
              "  </svg>\n",
              "      </button>\n",
              "      \n",
              "  <style>\n",
              "    .colab-df-container {\n",
              "      display:flex;\n",
              "      flex-wrap:wrap;\n",
              "      gap: 12px;\n",
              "    }\n",
              "\n",
              "    .colab-df-convert {\n",
              "      background-color: #E8F0FE;\n",
              "      border: none;\n",
              "      border-radius: 50%;\n",
              "      cursor: pointer;\n",
              "      display: none;\n",
              "      fill: #1967D2;\n",
              "      height: 32px;\n",
              "      padding: 0 0 0 0;\n",
              "      width: 32px;\n",
              "    }\n",
              "\n",
              "    .colab-df-convert:hover {\n",
              "      background-color: #E2EBFA;\n",
              "      box-shadow: 0px 1px 2px rgba(60, 64, 67, 0.3), 0px 1px 3px 1px rgba(60, 64, 67, 0.15);\n",
              "      fill: #174EA6;\n",
              "    }\n",
              "\n",
              "    [theme=dark] .colab-df-convert {\n",
              "      background-color: #3B4455;\n",
              "      fill: #D2E3FC;\n",
              "    }\n",
              "\n",
              "    [theme=dark] .colab-df-convert:hover {\n",
              "      background-color: #434B5C;\n",
              "      box-shadow: 0px 1px 3px 1px rgba(0, 0, 0, 0.15);\n",
              "      filter: drop-shadow(0px 1px 2px rgba(0, 0, 0, 0.3));\n",
              "      fill: #FFFFFF;\n",
              "    }\n",
              "  </style>\n",
              "\n",
              "      <script>\n",
              "        const buttonEl =\n",
              "          document.querySelector('#df-00624465-f125-4411-a84d-3a8e1b47e2a1 button.colab-df-convert');\n",
              "        buttonEl.style.display =\n",
              "          google.colab.kernel.accessAllowed ? 'block' : 'none';\n",
              "\n",
              "        async function convertToInteractive(key) {\n",
              "          const element = document.querySelector('#df-00624465-f125-4411-a84d-3a8e1b47e2a1');\n",
              "          const dataTable =\n",
              "            await google.colab.kernel.invokeFunction('convertToInteractive',\n",
              "                                                     [key], {});\n",
              "          if (!dataTable) return;\n",
              "\n",
              "          const docLinkHtml = 'Like what you see? Visit the ' +\n",
              "            '<a target=\"_blank\" href=https://colab.research.google.com/notebooks/data_table.ipynb>data table notebook</a>'\n",
              "            + ' to learn more about interactive tables.';\n",
              "          element.innerHTML = '';\n",
              "          dataTable['output_type'] = 'display_data';\n",
              "          await google.colab.output.renderOutput(dataTable, element);\n",
              "          const docLink = document.createElement('div');\n",
              "          docLink.innerHTML = docLinkHtml;\n",
              "          element.appendChild(docLink);\n",
              "        }\n",
              "      </script>\n",
              "    </div>\n",
              "  </div>\n",
              "  "
            ]
          },
          "metadata": {},
          "execution_count": 99
        }
      ]
    },
    {
      "cell_type": "code",
      "source": [
        "data_p = {\n",
        "    \"C7\": [sps.kendalltau(data_frame[\"C7\"], data_frame[\"C7\"])[1], sps.kendalltau(data_frame[\"C7\"], data_frame[\"C9\"])[1], sps.kendalltau(data_frame[\"C7\"], data_frame[\"C12\"])[1]], \n",
        "    \"C9\": [sps.kendalltau(data_frame[\"C9\"], data_frame[\"C7\"])[1], sps.kendalltau(data_frame[\"C9\"], data_frame[\"C9\"])[1], sps.kendalltau(data_frame[\"C9\"], data_frame[\"C12\"])[1]],\n",
        "    \"C12\": [sps.kendalltau(data_frame[\"C12\"], data_frame[\"C7\"])[1], sps.kendalltau(data_frame[\"C12\"], data_frame[\"C9\"])[1], sps.kendalltau(data_frame[\"C12\"], data_frame[\"C12\"])[1]]\n",
        "    }\n",
        "df_p = pd.DataFrame(data_p)\n",
        "df_p"
      ],
      "metadata": {
        "colab": {
          "base_uri": "https://localhost:8080/",
          "height": 142
        },
        "id": "cOou9o-lJTo7",
        "outputId": "98102630-6191-4b48-ed90-dafccbbc8a15"
      },
      "execution_count": 100,
      "outputs": [
        {
          "output_type": "execute_result",
          "data": {
            "text/plain": [
              "              C7             C9            C12\n",
              "0  3.506982e-154   3.139794e-01   1.295163e-20\n",
              "1   3.139794e-01  4.104617e-126   4.535993e-01\n",
              "2   1.295163e-20   4.535993e-01  3.362934e-154"
            ],
            "text/html": [
              "\n",
              "  <div id=\"df-2aa2f2ed-27e3-4b83-bbf8-789aa7e201df\">\n",
              "    <div class=\"colab-df-container\">\n",
              "      <div>\n",
              "<style scoped>\n",
              "    .dataframe tbody tr th:only-of-type {\n",
              "        vertical-align: middle;\n",
              "    }\n",
              "\n",
              "    .dataframe tbody tr th {\n",
              "        vertical-align: top;\n",
              "    }\n",
              "\n",
              "    .dataframe thead th {\n",
              "        text-align: right;\n",
              "    }\n",
              "</style>\n",
              "<table border=\"1\" class=\"dataframe\">\n",
              "  <thead>\n",
              "    <tr style=\"text-align: right;\">\n",
              "      <th></th>\n",
              "      <th>C7</th>\n",
              "      <th>C9</th>\n",
              "      <th>C12</th>\n",
              "    </tr>\n",
              "  </thead>\n",
              "  <tbody>\n",
              "    <tr>\n",
              "      <th>0</th>\n",
              "      <td>3.506982e-154</td>\n",
              "      <td>3.139794e-01</td>\n",
              "      <td>1.295163e-20</td>\n",
              "    </tr>\n",
              "    <tr>\n",
              "      <th>1</th>\n",
              "      <td>3.139794e-01</td>\n",
              "      <td>4.104617e-126</td>\n",
              "      <td>4.535993e-01</td>\n",
              "    </tr>\n",
              "    <tr>\n",
              "      <th>2</th>\n",
              "      <td>1.295163e-20</td>\n",
              "      <td>4.535993e-01</td>\n",
              "      <td>3.362934e-154</td>\n",
              "    </tr>\n",
              "  </tbody>\n",
              "</table>\n",
              "</div>\n",
              "      <button class=\"colab-df-convert\" onclick=\"convertToInteractive('df-2aa2f2ed-27e3-4b83-bbf8-789aa7e201df')\"\n",
              "              title=\"Convert this dataframe to an interactive table.\"\n",
              "              style=\"display:none;\">\n",
              "        \n",
              "  <svg xmlns=\"http://www.w3.org/2000/svg\" height=\"24px\"viewBox=\"0 0 24 24\"\n",
              "       width=\"24px\">\n",
              "    <path d=\"M0 0h24v24H0V0z\" fill=\"none\"/>\n",
              "    <path d=\"M18.56 5.44l.94 2.06.94-2.06 2.06-.94-2.06-.94-.94-2.06-.94 2.06-2.06.94zm-11 1L8.5 8.5l.94-2.06 2.06-.94-2.06-.94L8.5 2.5l-.94 2.06-2.06.94zm10 10l.94 2.06.94-2.06 2.06-.94-2.06-.94-.94-2.06-.94 2.06-2.06.94z\"/><path d=\"M17.41 7.96l-1.37-1.37c-.4-.4-.92-.59-1.43-.59-.52 0-1.04.2-1.43.59L10.3 9.45l-7.72 7.72c-.78.78-.78 2.05 0 2.83L4 21.41c.39.39.9.59 1.41.59.51 0 1.02-.2 1.41-.59l7.78-7.78 2.81-2.81c.8-.78.8-2.07 0-2.86zM5.41 20L4 18.59l7.72-7.72 1.47 1.35L5.41 20z\"/>\n",
              "  </svg>\n",
              "      </button>\n",
              "      \n",
              "  <style>\n",
              "    .colab-df-container {\n",
              "      display:flex;\n",
              "      flex-wrap:wrap;\n",
              "      gap: 12px;\n",
              "    }\n",
              "\n",
              "    .colab-df-convert {\n",
              "      background-color: #E8F0FE;\n",
              "      border: none;\n",
              "      border-radius: 50%;\n",
              "      cursor: pointer;\n",
              "      display: none;\n",
              "      fill: #1967D2;\n",
              "      height: 32px;\n",
              "      padding: 0 0 0 0;\n",
              "      width: 32px;\n",
              "    }\n",
              "\n",
              "    .colab-df-convert:hover {\n",
              "      background-color: #E2EBFA;\n",
              "      box-shadow: 0px 1px 2px rgba(60, 64, 67, 0.3), 0px 1px 3px 1px rgba(60, 64, 67, 0.15);\n",
              "      fill: #174EA6;\n",
              "    }\n",
              "\n",
              "    [theme=dark] .colab-df-convert {\n",
              "      background-color: #3B4455;\n",
              "      fill: #D2E3FC;\n",
              "    }\n",
              "\n",
              "    [theme=dark] .colab-df-convert:hover {\n",
              "      background-color: #434B5C;\n",
              "      box-shadow: 0px 1px 3px 1px rgba(0, 0, 0, 0.15);\n",
              "      filter: drop-shadow(0px 1px 2px rgba(0, 0, 0, 0.3));\n",
              "      fill: #FFFFFF;\n",
              "    }\n",
              "  </style>\n",
              "\n",
              "      <script>\n",
              "        const buttonEl =\n",
              "          document.querySelector('#df-2aa2f2ed-27e3-4b83-bbf8-789aa7e201df button.colab-df-convert');\n",
              "        buttonEl.style.display =\n",
              "          google.colab.kernel.accessAllowed ? 'block' : 'none';\n",
              "\n",
              "        async function convertToInteractive(key) {\n",
              "          const element = document.querySelector('#df-2aa2f2ed-27e3-4b83-bbf8-789aa7e201df');\n",
              "          const dataTable =\n",
              "            await google.colab.kernel.invokeFunction('convertToInteractive',\n",
              "                                                     [key], {});\n",
              "          if (!dataTable) return;\n",
              "\n",
              "          const docLinkHtml = 'Like what you see? Visit the ' +\n",
              "            '<a target=\"_blank\" href=https://colab.research.google.com/notebooks/data_table.ipynb>data table notebook</a>'\n",
              "            + ' to learn more about interactive tables.';\n",
              "          element.innerHTML = '';\n",
              "          dataTable['output_type'] = 'display_data';\n",
              "          await google.colab.output.renderOutput(dataTable, element);\n",
              "          const docLink = document.createElement('div');\n",
              "          docLink.innerHTML = docLinkHtml;\n",
              "          element.appendChild(docLink);\n",
              "        }\n",
              "      </script>\n",
              "    </div>\n",
              "  </div>\n",
              "  "
            ]
          },
          "metadata": {},
          "execution_count": 100
        }
      ]
    },
    {
      "cell_type": "code",
      "source": [
        "R1 = sps.rankdata(data_frame[\"C7\"])\n",
        "R2 = sps.rankdata(data_frame[\"C9\"])\n",
        "R3 = sps.rankdata(data_frame[\"C12\"])"
      ],
      "metadata": {
        "id": "gyKQPozBL_DI"
      },
      "execution_count": 101,
      "outputs": []
    },
    {
      "cell_type": "code",
      "source": [
        "sum1 = 0\n",
        "sum2 = 0\n",
        "for i in range(n):\n",
        "  for r in [R1, R2, R3]:\n",
        "    sum1 += r[i]\n",
        "  sum2 += (sum1 - k * (n + 1) / 2) ** 2\n",
        "  sum1 = 0\n",
        "W = 12 * sum2 / ((n ** 3 - n) * (k ** 2))\n",
        "W"
      ],
      "metadata": {
        "colab": {
          "base_uri": "https://localhost:8080/"
        },
        "id": "eB5mDckPCbeX",
        "outputId": "5fb6830f-1cac-4137-cd6f-13fc49faea60"
      },
      "execution_count": 102,
      "outputs": [
        {
          "output_type": "execute_result",
          "data": {
            "text/plain": [
              "0.44417366595468666"
            ]
          },
          "metadata": {},
          "execution_count": 102
        }
      ]
    },
    {
      "cell_type": "code",
      "source": [
        "Z = n * (k - 1) * W\n",
        "Z"
      ],
      "metadata": {
        "colab": {
          "base_uri": "https://localhost:8080/"
        },
        "id": "0zkgFBk9I6OI",
        "outputId": "4541fd4f-70da-4018-9402-8e7d1ecfac3a"
      },
      "execution_count": 103,
      "outputs": [
        {
          "output_type": "execute_result",
          "data": {
            "text/plain": [
              "279.8294095514526"
            ]
          },
          "metadata": {},
          "execution_count": 103
        }
      ]
    },
    {
      "cell_type": "code",
      "source": [
        "a = 0.1\n",
        "kr_p = sps.chi2.ppf(a, n - 1)\n",
        "kr_p"
      ],
      "metadata": {
        "colab": {
          "base_uri": "https://localhost:8080/"
        },
        "id": "VD9eC_WwW37I",
        "outputId": "0af10133-dc6b-494f-83cd-249929064d56"
      },
      "execution_count": 104,
      "outputs": [
        {
          "output_type": "execute_result",
          "data": {
            "text/plain": [
              "282.3430452011803"
            ]
          },
          "metadata": {},
          "execution_count": 104
        }
      ]
    },
    {
      "cell_type": "markdown",
      "source": [
        "Получила, что значение Z меньше, чем значение критической точки, то есть коэффициент конкордации не значим"
      ],
      "metadata": {
        "id": "5h07LUoIYTdI"
      }
    },
    {
      "cell_type": "code",
      "source": [
        "p_value = 1 - sps.chi2.cdf(Z, n - 1)\n",
        "p_value"
      ],
      "metadata": {
        "colab": {
          "base_uri": "https://localhost:8080/"
        },
        "id": "2rejysUhJCk8",
        "outputId": "ded24f71-e2b8-4356-c7d0-f449fefb75b9"
      },
      "execution_count": 105,
      "outputs": [
        {
          "output_type": "execute_result",
          "data": {
            "text/plain": [
              "0.9176686807978349"
            ]
          },
          "metadata": {},
          "execution_count": 105
        }
      ]
    },
    {
      "cell_type": "markdown",
      "source": [
        "**Задание 9**"
      ],
      "metadata": {
        "id": "LO9anXTPySjR"
      }
    },
    {
      "cell_type": "markdown",
      "source": [
        "**Задание 9.1**"
      ],
      "metadata": {
        "id": "40ZzA6PYzKK6"
      }
    },
    {
      "cell_type": "markdown",
      "source": [
        "Задание 9.1.1"
      ],
      "metadata": {
        "id": "mFj1oNkL1_yf"
      }
    },
    {
      "cell_type": "code",
      "source": [
        "x = data_frame[\"C6\"]\n",
        "y = data_frame[\"C13\"]\n",
        "n = 315"
      ],
      "metadata": {
        "id": "uBGOluR_zO5-"
      },
      "execution_count": 106,
      "outputs": []
    },
    {
      "cell_type": "code",
      "source": [
        "r, p_v = sps.pearsonr(x, y)"
      ],
      "metadata": {
        "id": "ZO4Ex1fR0U_T"
      },
      "execution_count": 107,
      "outputs": []
    },
    {
      "cell_type": "code",
      "source": [
        "b0 = y.mean() - r * x.mean() * y.std() / x.std()\n",
        "print(b0)\n",
        "b1 = r * y.std() / x.std()\n",
        "print(b1)"
      ],
      "metadata": {
        "colab": {
          "base_uri": "https://localhost:8080/"
        },
        "id": "DhxTWOQc0o8m",
        "outputId": "45d90fc0-da2b-4ea3-986c-3cf86c2ac68c"
      },
      "execution_count": 108,
      "outputs": [
        {
          "output_type": "stream",
          "name": "stdout",
          "text": [
            "200.6239454749055\n",
            "-0.005973258278958724\n"
          ]
        }
      ]
    },
    {
      "cell_type": "code",
      "source": [
        "sum = 0\n",
        "for elem in x:\n",
        "  sum += (b0 + b1 * elem - y.mean()) ** 2\n",
        "D_r = sum / n\n",
        "print(D_r)"
      ],
      "metadata": {
        "colab": {
          "base_uri": "https://localhost:8080/"
        },
        "id": "s-ZinPgc1Vhs",
        "outputId": "4cf3cff1-23ee-47b3-c4af-50cccfa5a62b"
      },
      "execution_count": 109,
      "outputs": [
        {
          "output_type": "stream",
          "name": "stdout",
          "text": [
            "16.462780398473043\n"
          ]
        }
      ]
    },
    {
      "cell_type": "code",
      "source": [
        "sum = 0\n",
        "a = list(zip(x, y))\n",
        "for elem in a:\n",
        "  sum += (elem[1] - (b0 + b1 * elem[0])) ** 2\n",
        "D_ost = sum / n\n",
        "print(D_ost)"
      ],
      "metadata": {
        "colab": {
          "base_uri": "https://localhost:8080/"
        },
        "id": "vyIH9TSXBMNT",
        "outputId": "2396f9e6-5d50-4709-f793-15b434446f2c"
      },
      "execution_count": 110,
      "outputs": [
        {
          "output_type": "stream",
          "name": "stdout",
          "text": [
            "33366.516045502256\n"
          ]
        }
      ]
    },
    {
      "cell_type": "code",
      "source": [
        "sum = 0\n",
        "for elem in y:\n",
        "  sum += (elem - y.mean()) ** 2\n",
        "D_y = sum / n\n",
        "print(D_y)"
      ],
      "metadata": {
        "colab": {
          "base_uri": "https://localhost:8080/"
        },
        "id": "E_bN_uIXExH-",
        "outputId": "07875099-ac10-497f-cc4c-4e2e3700aef7"
      },
      "execution_count": 111,
      "outputs": [
        {
          "output_type": "stream",
          "name": "stdout",
          "text": [
            "33382.97882590072\n"
          ]
        }
      ]
    },
    {
      "cell_type": "code",
      "source": [
        "k = 2\n",
        "est_r = n * D_r / (k - 1)\n",
        "est_ost = n * D_ost / (n - k)\n",
        "est_y = n * D_y / (n - 1)\n",
        "print(est_r, est_ost, est_y, sep=\"\\n\")"
      ],
      "metadata": {
        "colab": {
          "base_uri": "https://localhost:8080/"
        },
        "id": "dDzFlLC8FdjF",
        "outputId": "4a4feb6f-1f9e-4d1f-f474-8242740e2f19"
      },
      "execution_count": 112,
      "outputs": [
        {
          "output_type": "stream",
          "name": "stdout",
          "text": [
            "5185.775825519008\n",
            "33579.720620872875\n",
            "33489.29404509148\n"
          ]
        }
      ]
    },
    {
      "cell_type": "code",
      "source": [
        "D_y_sum = D_r + D_ost\n",
        "print(D_y_sum)"
      ],
      "metadata": {
        "colab": {
          "base_uri": "https://localhost:8080/"
        },
        "id": "TFAUfzq-FUsH",
        "outputId": "0a86ea9d-31d7-4253-b9cb-66836bf7593a"
      },
      "execution_count": 113,
      "outputs": [
        {
          "output_type": "stream",
          "name": "stdout",
          "text": [
            "33382.978825900725\n"
          ]
        }
      ]
    },
    {
      "cell_type": "code",
      "source": [
        "R_sq = D_r / D_y\n",
        "R = math.sqrt(D_r / D_y)\n",
        "print(R_sq, R, sep='\\n')"
      ],
      "metadata": {
        "colab": {
          "base_uri": "https://localhost:8080/"
        },
        "id": "I0AnJgmXFcfe",
        "outputId": "bad0cfa3-4f1d-4f40-871e-0b9f9f966ef2"
      },
      "execution_count": 114,
      "outputs": [
        {
          "output_type": "stream",
          "name": "stdout",
          "text": [
            "0.000493148933303104\n",
            "0.022206956867232033\n"
          ]
        }
      ]
    },
    {
      "cell_type": "markdown",
      "source": [
        "Задание 9.1.2"
      ],
      "metadata": {
        "id": "te36DvUb1tRu"
      }
    },
    {
      "cell_type": "code",
      "source": [
        "alpha = [0.01, 0.05, 0.1]\n",
        "print(\"b0\")\n",
        "for a in alpha:\n",
        "  z = sps.t.ppf(1 - a / 2, n - 2) * math.sqrt(D_ost) * math.sqrt(np.sum([elem ** 2 for elem in x]) / (n ** 2 * x.var()))\n",
        "  print(a)\n",
        "  print(\"l:\", b0 - z)\n",
        "  print(\"h:\", b0 + z)\n",
        "  print()\n",
        "\n",
        "print(\"b1\")\n",
        "for a in alpha:\n",
        "  z = sps.t.ppf(1 - a / 2, n - 2) * math.sqrt(D_ost / (n * x.var())) \n",
        "  print(a)\n",
        "  print(\"l:\", b1 - z)\n",
        "  print(\"h:\", b1 + z)\n",
        "  print()"
      ],
      "metadata": {
        "colab": {
          "base_uri": "https://localhost:8080/"
        },
        "id": "vQHGHPhXIuCB",
        "outputId": "56a2e92b-1a11-421b-a808-8f2471107e3e"
      },
      "execution_count": 115,
      "outputs": [
        {
          "output_type": "stream",
          "name": "stdout",
          "text": [
            "b0\n",
            "0.01\n",
            "l: 125.31992251590073\n",
            "h: 275.9279684339103\n",
            "\n",
            "0.05\n",
            "l: 143.4528909519943\n",
            "h: 257.7949999978167\n",
            "\n",
            "0.1\n",
            "l: 152.68812898968702\n",
            "h: 248.55976196012398\n",
            "\n",
            "b1\n",
            "0.01\n",
            "l: -0.045178308606084266\n",
            "h: 0.033231792048166814\n",
            "\n",
            "0.05\n",
            "l: -0.03573785758922106\n",
            "h: 0.02379134103130361\n",
            "\n",
            "0.1\n",
            "l: -0.03092977486238141\n",
            "h: 0.018983258304463964\n",
            "\n"
          ]
        }
      ]
    },
    {
      "cell_type": "code",
      "source": [
        "sns.regplot(x, y)"
      ],
      "metadata": {
        "colab": {
          "base_uri": "https://localhost:8080/",
          "height": 350
        },
        "id": "LZVZluvrvxH1",
        "outputId": "89b29979-02bd-437c-b714-6dff64b43048"
      },
      "execution_count": 116,
      "outputs": [
        {
          "output_type": "stream",
          "name": "stderr",
          "text": [
            "/usr/local/lib/python3.8/dist-packages/seaborn/_decorators.py:36: FutureWarning: Pass the following variables as keyword args: x, y. From version 0.12, the only valid positional argument will be `data`, and passing other arguments without an explicit keyword will result in an error or misinterpretation.\n",
            "  warnings.warn(\n"
          ]
        },
        {
          "output_type": "execute_result",
          "data": {
            "text/plain": [
              "<matplotlib.axes._subplots.AxesSubplot at 0x7f2b0b0e1a90>"
            ]
          },
          "metadata": {},
          "execution_count": 116
        },
        {
          "output_type": "display_data",
          "data": {
            "text/plain": [
              "<Figure size 432x288 with 1 Axes>"
            ],
            "image/png": "[encoded data removed]"
          },
          "metadata": {
            "needs_background": "light"
          }
        }
      ]
    },
    {
      "cell_type": "code",
      "source": [
        "plt.plot(x, [elem_y - (b0 + b1 * elem_x) for elem_x, elem_y in zip(x, y)], \"o\")\n",
        "plt.show()"
      ],
      "metadata": {
        "colab": {
          "base_uri": "https://localhost:8080/",
          "height": 265
        },
        "id": "vvN6o_Id0Aqf",
        "outputId": "03aa9751-fb37-40a2-e4b8-99f86e6ef95d"
      },
      "execution_count": 117,
      "outputs": [
        {
          "output_type": "display_data",
          "data": {
            "text/plain": [
              "<Figure size 432x288 with 1 Axes>"
            ],
            "image/png": "[encoded data removed]"
          },
          "metadata": {
            "needs_background": "light"
          }
        }
      ]
    },
    {
      "cell_type": "markdown",
      "source": [
        "Задание 9.1.3"
      ],
      "metadata": {
        "id": "UYhi4OuQ18aN"
      }
    },
    {
      "cell_type": "code",
      "source": [
        "statistics = R_sq * (n - 2) / (1 - R_sq)\n",
        "p_value = 1 - sps.f.cdf(statistics, 1, n - 2)\n",
        "print(statistics, p_value)"
      ],
      "metadata": {
        "colab": {
          "base_uri": "https://localhost:8080/"
        },
        "id": "gEjsy3a72CyZ",
        "outputId": "5d45b11b-1bfc-4950-e79f-0e7a7c254a00"
      },
      "execution_count": 118,
      "outputs": [
        {
          "output_type": "stream",
          "name": "stdout",
          "text": [
            "0.15443177398848207 0.694603179135282\n"
          ]
        }
      ]
    },
    {
      "cell_type": "markdown",
      "source": [
        "**Задание 9.2**"
      ],
      "metadata": {
        "id": "fRs4M4yi4XAQ"
      }
    },
    {
      "cell_type": "markdown",
      "source": [
        "Задание 9.2.1"
      ],
      "metadata": {
        "id": "WHGpBB1S7ujv"
      }
    },
    {
      "cell_type": "code",
      "source": [
        "F = np.array([[1, elem, elem ** 2] for elem in x])\n",
        "b = np.linalg.inv((F.T).dot(F)).dot(F.T).dot(np.array(y))\n",
        "b"
      ],
      "metadata": {
        "colab": {
          "base_uri": "https://localhost:8080/"
        },
        "id": "4b03_tyA4aPX",
        "outputId": "3f843dd3-adcc-4fc8-aa32-77e43225291c"
      },
      "execution_count": 119,
      "outputs": [
        {
          "output_type": "execute_result",
          "data": {
            "text/plain": [
              "array([ 1.56531322e+02,  3.70710218e-02, -9.01050102e-06])"
            ]
          },
          "metadata": {},
          "execution_count": 119
        }
      ]
    },
    {
      "cell_type": "code",
      "source": [
        "b0 = b[0]\n",
        "b1 = b[1]\n",
        "b2 = b[2]"
      ],
      "metadata": {
        "id": "zIUX5Kei98ox"
      },
      "execution_count": 120,
      "outputs": []
    },
    {
      "cell_type": "code",
      "source": [
        "sum = 0\n",
        "for elem in x:\n",
        "  sum += (b0 + b1 * elem + b2 * elem ** 2  - y.mean()) ** 2\n",
        "D_r = sum / n\n",
        "print(D_r)"
      ],
      "metadata": {
        "colab": {
          "base_uri": "https://localhost:8080/"
        },
        "id": "pWLH85g59tnO",
        "outputId": "044299c3-0e52-4d41-cca2-7b7f01f0c4cf"
      },
      "execution_count": 121,
      "outputs": [
        {
          "output_type": "stream",
          "name": "stdout",
          "text": [
            "136.46102080306048\n"
          ]
        }
      ]
    },
    {
      "cell_type": "code",
      "source": [
        "sum = 0\n",
        "a = list(zip(x, y))\n",
        "for elem in a:\n",
        "  sum += (elem[1] - (b0 + b1 * elem[0] + b2 * elem[0] ** 2)) ** 2\n",
        "D_ost = sum / n\n",
        "print(D_ost)"
      ],
      "metadata": {
        "colab": {
          "base_uri": "https://localhost:8080/"
        },
        "id": "8vNskxVk-zdi",
        "outputId": "c49cc4c4-60f6-47f8-d4c0-65e690bad4a8"
      },
      "execution_count": 122,
      "outputs": [
        {
          "output_type": "stream",
          "name": "stdout",
          "text": [
            "33246.517805097676\n"
          ]
        }
      ]
    },
    {
      "cell_type": "code",
      "source": [
        "sum = 0\n",
        "for elem in y:\n",
        "  sum += (elem - y.mean()) ** 2\n",
        "D_y = sum / n\n",
        "print(D_y)"
      ],
      "metadata": {
        "colab": {
          "base_uri": "https://localhost:8080/"
        },
        "id": "oai4dF1I_Lx0",
        "outputId": "b1ebaaeb-6320-4c72-bb80-5342dd43d44a"
      },
      "execution_count": 123,
      "outputs": [
        {
          "output_type": "stream",
          "name": "stdout",
          "text": [
            "33382.97882590072\n"
          ]
        }
      ]
    },
    {
      "cell_type": "code",
      "source": [
        "k = 3\n",
        "est_r = n * D_r / (k - 1)\n",
        "est_ost = n * D_ost / (n - k)\n",
        "est_y = n * D_y / (n - 1)\n",
        "print(est_r, est_ost, est_y, sep=\"\\n\")"
      ],
      "metadata": {
        "colab": {
          "base_uri": "https://localhost:8080/"
        },
        "id": "lZ0NYbY5ASge",
        "outputId": "778d06cb-0126-4fea-aa90-ad330a660b23"
      },
      "execution_count": 124,
      "outputs": [
        {
          "output_type": "stream",
          "name": "stdout",
          "text": [
            "21492.610776482026\n",
            "33566.19586091593\n",
            "33489.29404509148\n"
          ]
        }
      ]
    },
    {
      "cell_type": "code",
      "source": [
        "D_y_sum = D_r + D_ost\n",
        "print(D_y_sum)"
      ],
      "metadata": {
        "colab": {
          "base_uri": "https://localhost:8080/"
        },
        "id": "6HZqmUioAPsm",
        "outputId": "72964dec-3d01-4aa1-d125-44261e866577"
      },
      "execution_count": 125,
      "outputs": [
        {
          "output_type": "stream",
          "name": "stdout",
          "text": [
            "33382.97882590073\n"
          ]
        }
      ]
    },
    {
      "cell_type": "code",
      "source": [
        "R_sq = D_r / D_y\n",
        "R = math.sqrt(D_r / D_y)\n",
        "print(R_sq, R, sep='\\n')"
      ],
      "metadata": {
        "colab": {
          "base_uri": "https://localhost:8080/"
        },
        "id": "KvW7GELyAm95",
        "outputId": "3f608528-60c5-4097-d026-ab70ff9c1fc3"
      },
      "execution_count": 126,
      "outputs": [
        {
          "output_type": "stream",
          "name": "stdout",
          "text": [
            "0.004087742484417988\n",
            "0.06393545561281305\n"
          ]
        }
      ]
    },
    {
      "cell_type": "markdown",
      "source": [
        "Задание 9.2.2"
      ],
      "metadata": {
        "id": "sM7jf4suAu2V"
      }
    },
    {
      "cell_type": "code",
      "source": [
        "b = sps.t.ppf(1 - 0.1 / 2, n - 3) * math.sqrt(D_ost)\n",
        "c = np.linalg.inv((F.T).dot(F))\n",
        "x_s = sorted(list(x))\n",
        "plt.plot(x, y, 'o')\n",
        "plt.plot(x_s, [b0 + b1 * elem + b2 * elem ** 2 for elem in x_s], 'r')\n",
        "plt.show()"
      ],
      "metadata": {
        "colab": {
          "base_uri": "https://localhost:8080/",
          "height": 265
        },
        "id": "h_U0TJEvAwtH",
        "outputId": "efcef2e8-976e-4301-f2d2-f662b87f617f"
      },
      "execution_count": 127,
      "outputs": [
        {
          "output_type": "display_data",
          "data": {
            "text/plain": [
              "<Figure size 432x288 with 1 Axes>"
            ],
            "image/png": "[encoded data removed]"
          },
          "metadata": {
            "needs_background": "light"
          }
        }
      ]
    },
    {
      "cell_type": "code",
      "source": [
        "plt.plot(x, [elem_y - (b0 + b1 * elem_x + b2 * elem_x ** 2) for elem_x, elem_y in zip(x, y)], \"o\")\n",
        "plt.show()"
      ],
      "metadata": {
        "colab": {
          "base_uri": "https://localhost:8080/",
          "height": 265
        },
        "id": "LWAt1CY-Na22",
        "outputId": "28091e72-3946-4e7c-d785-292257196073"
      },
      "execution_count": 128,
      "outputs": [
        {
          "output_type": "display_data",
          "data": {
            "text/plain": [
              "<Figure size 432x288 with 1 Axes>"
            ],
            "image/png": "[encoded data removed]"
          },
          "metadata": {
            "needs_background": "light"
          }
        }
      ]
    },
    {
      "cell_type": "markdown",
      "source": [
        "Задание 9.2.3"
      ],
      "metadata": {
        "id": "bfABMCjyP-73"
      }
    },
    {
      "cell_type": "code",
      "source": [
        "k = 3\n",
        "statistics = R_sq * (n - k) / ((1 - R_sq) * (k - 1))\n",
        "p_value = 1 - sps.f.cdf(statistics, k - 1, n - k)\n",
        "print(statistics, p_value)"
      ],
      "metadata": {
        "colab": {
          "base_uri": "https://localhost:8080/"
        },
        "id": "E3YrsY6_P8WL",
        "outputId": "8290acac-09b7-456a-ce53-d6cee2cc056a"
      },
      "execution_count": 129,
      "outputs": [
        {
          "output_type": "stream",
          "name": "stdout",
          "text": [
            "0.6403052304627638 0.5278227554063295\n"
          ]
        }
      ]
    },
    {
      "cell_type": "markdown",
      "source": [
        "**Задание 9.3**"
      ],
      "metadata": {
        "id": "R7q6neSETWGp"
      }
    },
    {
      "cell_type": "code",
      "source": [
        "x1 = data_frame[\"C6\"]\n",
        "x2 = data_frame[\"C11\"]\n",
        "y = data_frame[\"C13\"]"
      ],
      "metadata": {
        "id": "wn516OC-TZG-"
      },
      "execution_count": 130,
      "outputs": []
    },
    {
      "cell_type": "code",
      "source": [
        "F = np.array([[1, elem_x1, elem_x2] for elem_x1, elem_x2 in zip(x1, x2)])\n",
        "b = np.linalg.inv((F.T).dot(F)).dot(F.T).dot(np.array(y))\n",
        "b"
      ],
      "metadata": {
        "colab": {
          "base_uri": "https://localhost:8080/"
        },
        "id": "5sT6iwA5TpEg",
        "outputId": "5c4154d1-23de-4ad9-db4a-9e9c72755cf1"
      },
      "execution_count": 131,
      "outputs": [
        {
          "output_type": "execute_result",
          "data": {
            "text/plain": [
              "array([ 1.63004105e+02, -2.19907501e-02,  3.03795958e-02])"
            ]
          },
          "metadata": {},
          "execution_count": 131
        }
      ]
    },
    {
      "cell_type": "code",
      "source": [
        "b0 = b[0]\n",
        "b1 = b[1]\n",
        "b2 = b[2]"
      ],
      "metadata": {
        "id": "4z3BhiBMUNVs"
      },
      "execution_count": 132,
      "outputs": []
    },
    {
      "cell_type": "code",
      "source": [
        "D_r = np.sum([(b0 + b1 * elem_x1 + b2 * elem_x2 - y.mean()) ** 2 for elem_x1, elem_x2 in zip(x1, x2)]) / n\n",
        "print(D_r)"
      ],
      "metadata": {
        "colab": {
          "base_uri": "https://localhost:8080/"
        },
        "id": "AqzLxVRjUYtB",
        "outputId": "379f1641-402f-4cd3-b08e-1f5095ef4ec7"
      },
      "execution_count": 133,
      "outputs": [
        {
          "output_type": "stream",
          "name": "stdout",
          "text": [
            "1896.6175210691147\n"
          ]
        }
      ]
    },
    {
      "cell_type": "code",
      "source": [
        "D_ost = np.sum([(elem_y - (b0 + b1 * elem_x1 + b2 * elem_x2)) ** 2 for elem_x1, elem_x2, elem_y in zip(x1, x2, y)]) / n\n",
        "print(D_ost)"
      ],
      "metadata": {
        "colab": {
          "base_uri": "https://localhost:8080/"
        },
        "id": "GgnupAA7U53C",
        "outputId": "a9784aeb-0db3-4e37-fed6-c2c30fd5d978"
      },
      "execution_count": 134,
      "outputs": [
        {
          "output_type": "stream",
          "name": "stdout",
          "text": [
            "31486.361304831622\n"
          ]
        }
      ]
    },
    {
      "cell_type": "code",
      "source": [
        "D_y = np.sum([(elem_y - y.mean()) ** 2 for elem_y in y]) / n\n",
        "print(D_y)"
      ],
      "metadata": {
        "colab": {
          "base_uri": "https://localhost:8080/"
        },
        "id": "J5DH3L_RUfRw",
        "outputId": "6810c58d-835a-4d8b-e1ea-31e688519764"
      },
      "execution_count": 135,
      "outputs": [
        {
          "output_type": "stream",
          "name": "stdout",
          "text": [
            "33382.97882590073\n"
          ]
        }
      ]
    },
    {
      "cell_type": "code",
      "source": [
        "k = 3\n",
        "est_r = n * D_r / (k - 1)\n",
        "est_ost = n * D_ost / (n - k)\n",
        "est_y = n * D_y / (n - 1)\n",
        "print(est_r, est_ost, est_y, sep=\"\\n\")"
      ],
      "metadata": {
        "colab": {
          "base_uri": "https://localhost:8080/"
        },
        "id": "hr7i3VGlXq7z",
        "outputId": "53a4ad3f-4e47-469d-fa00-36f4c9dbfc9f"
      },
      "execution_count": 136,
      "outputs": [
        {
          "output_type": "stream",
          "name": "stdout",
          "text": [
            "298717.25956838555\n",
            "31789.114778916544\n",
            "33489.2940450915\n"
          ]
        }
      ]
    },
    {
      "cell_type": "code",
      "source": [
        "D_y_sum = D_r + D_ost\n",
        "print(D_y_sum)"
      ],
      "metadata": {
        "colab": {
          "base_uri": "https://localhost:8080/"
        },
        "id": "gjTduyK3Xdl5",
        "outputId": "14b138bb-c449-4c68-fd7b-556ecfa2d765"
      },
      "execution_count": 137,
      "outputs": [
        {
          "output_type": "stream",
          "name": "stdout",
          "text": [
            "33382.97882590074\n"
          ]
        }
      ]
    },
    {
      "cell_type": "code",
      "source": [
        "R_sq = D_r / D_y\n",
        "R = math.sqrt(D_r / D_y)\n",
        "print(R_sq, R, sep='\\n')"
      ],
      "metadata": {
        "colab": {
          "base_uri": "https://localhost:8080/"
        },
        "id": "i_hi2NXGV8iK",
        "outputId": "b8dc66d3-ad4e-457d-f4ed-233c96eb41a1"
      },
      "execution_count": 138,
      "outputs": [
        {
          "output_type": "stream",
          "name": "stdout",
          "text": [
            "0.05681390899716813\n",
            "0.23835668439791682\n"
          ]
        }
      ]
    }
  ]
}