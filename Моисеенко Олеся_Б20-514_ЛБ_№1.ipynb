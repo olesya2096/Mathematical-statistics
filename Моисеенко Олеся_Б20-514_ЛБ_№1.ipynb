{
  "nbformat": 4,
  "nbformat_minor": 0,
  "metadata": {
    "colab": {
      "provenance": [],
      "collapsed_sections": []
    },
    "kernelspec": {
      "name": "python3",
      "display_name": "Python 3"
    },
    "language_info": {
      "name": "python"
    }
  },
  "cells": [
    {
      "cell_type": "code",
      "execution_count": 63,
      "metadata": {
        "id": "V5cCnTQzZ7J8"
      },
      "outputs": [],
      "source": [
        "import math\n",
        "import statistics\n",
        "from scipy import stats as sps\n",
        "import pandas as pd\n",
        "import numpy as np\n",
        "import matplotlib.pyplot as plt\n",
        "%matplotlib inline"
      ]
    },
    {
      "cell_type": "code",
      "source": [
        "# хи-квадрат распределение k=15 (df=15, loc=0(по умолчанию), scale=1(по умолчанию))\n",
        "x_1 = sps.chi2.rvs(df=15, size=100)\n",
        "\n",
        "# равномерное a=5, b=25 (loc=a, scale=b-a)\n",
        "x_2 = sps.uniform.rvs(size=100, loc=5, scale=20) \n",
        "\n",
        "# выведем по 10 первых значений 1-й и 2-й выборки\n",
        "print(x_1[:10])\n",
        "print()\n",
        "print(x_2[:10])"
      ],
      "metadata": {
        "colab": {
          "base_uri": "https://localhost:8080/"
        },
        "id": "4WdlzpRzZ9Yg",
        "outputId": "85cf9ecd-887f-47b8-b484-d3b0f3eee550"
      },
      "execution_count": 64,
      "outputs": [
        {
          "output_type": "stream",
          "name": "stdout",
          "text": [
            "[26.25376708  9.94743659 14.25116145 23.28773591 14.30635016 21.02085627\n",
            " 11.51196901 15.94337016  5.85600465 17.31416842]\n",
            "\n",
            "[12.99704548 16.91341841 21.26524065 22.09311092 19.60667415 11.26843694\n",
            " 21.87854611 14.41508953 23.60255555 18.98642187]\n"
          ]
        }
      ]
    },
    {
      "cell_type": "code",
      "source": [
        "# гистограмма для 1-го распределения (bins - кол-во интервалов всех ячеек равной ширины)\n",
        "plt.hist(x_1, bins=60)\n",
        "plt.show()\n",
        "\n",
        "# гистограмма для 2-го распределения\n",
        "plt.hist(x_2, bins=60)\n",
        "plt.show()"
      ],
      "metadata": {
        "colab": {
          "base_uri": "https://localhost:8080/",
          "height": 513
        },
        "id": "BvYHk_Diam3k",
        "outputId": "d1da5dc1-66b0-489f-903e-6f409d90adc6"
      },
      "execution_count": 65,
      "outputs": [
        {
          "output_type": "display_data",
          "data": {
            "text/plain": [
              "<Figure size 432x288 with 1 Axes>"
            ],
            "image/png": "[encoded data removed]"
          },
          "metadata": {
            "needs_background": "light"
          }
        },
        {
          "output_type": "display_data",
          "data": {
            "text/plain": [
              "<Figure size 432x288 with 1 Axes>"
            ],
            "image/png": "[encoded data removed]"
          },
          "metadata": {
            "needs_background": "light"
          }
        }
      ]
    },
    {
      "cell_type": "markdown",
      "source": [
        "Формулы расчета статистических характеристик:\n",
        "\n",
        "для $ X^2(k) $: \n",
        "\n",
        "* $ m_i = k  $\n",
        "\n",
        "* $ D_i = 2k  $\n",
        "\n",
        "для $ R(a,b) $:                \n",
        "                                \n",
        "* $ m_i = \\frac{a + b}{2}  $      \n",
        "                                \n",
        "* $ D_i = \\frac{(b - a)^2}{12}  $ "
      ],
      "metadata": {
        "id": "dmo57gNOdzAa"
      }
    },
    {
      "cell_type": "code",
      "source": [
        "m_1 = 15\n",
        "sigma_1 = math.sqrt(30)\n",
        "m_2 = (5 + 25) / 2\n",
        "sigma_2 = math.sqrt((25 - 5) ** 2 / 12)\n",
        "\n",
        "print('m_1: {:f}'.format(m_1))\n",
        "print('sigma_1: {:f}'.format(sigma_1))\n",
        "print('m_2: {:f}'.format(m_2))\n",
        "print('sigma_2: {:f}'.format(sigma_2))"
      ],
      "metadata": {
        "colab": {
          "base_uri": "https://localhost:8080/"
        },
        "id": "pZQE48jMeGoN",
        "outputId": "852ca091-b0c3-4f21-aa7d-e99af82f149f"
      },
      "execution_count": 66,
      "outputs": [
        {
          "output_type": "stream",
          "name": "stdout",
          "text": [
            "m_1: 15.000000\n",
            "sigma_1: 5.477226\n",
            "m_2: 15.000000\n",
            "sigma_2: 5.773503\n"
          ]
        }
      ]
    },
    {
      "cell_type": "code",
      "source": [
        "# среднее\n",
        "mean_1 = x_1.mean()\n",
        "mean_2 = x_2.mean()\n",
        "\n",
        "print('mean_1: {:f}'.format(mean_1))\n",
        "print('mean_2: {:f}'.format(mean_2))\n",
        "print()\n",
        "\n",
        "# оценка дисперсии\n",
        "var_1 = x_1.var()\n",
        "var_2 = x_2.var()\n",
        "\n",
        "print('var_1: {:f}'.format(var_1))\n",
        "print('var_2: {:f}'.format(var_2))\n",
        "print()\n",
        "\n",
        "# оценка с.к.о.\n",
        "std_1 = x_1.std()\n",
        "std_2 = x_2.std()\n",
        "\n",
        "print('std_1: {:f}'.format(std_1))\n",
        "print('std_2: {:f}'.format(std_2))"
      ],
      "metadata": {
        "colab": {
          "base_uri": "https://localhost:8080/"
        },
        "id": "boBhOGoiQvWr",
        "outputId": "75768b62-f6c4-4310-b7c8-abbd79865d9b"
      },
      "execution_count": 67,
      "outputs": [
        {
          "output_type": "stream",
          "name": "stdout",
          "text": [
            "mean_1: 15.124385\n",
            "mean_2: 14.851133\n",
            "\n",
            "var_1: 25.014042\n",
            "var_2: 36.878963\n",
            "\n",
            "std_1: 5.001404\n",
            "std_2: 6.072805\n"
          ]
        }
      ]
    },
    {
      "cell_type": "code",
      "source": [
        "# pooled\n",
        "pooled = np.concatenate([x_1, x_2])\n",
        "pooled_mean = pooled.mean()\n",
        "pooled_var = pooled.var()\n",
        "pooled_std = pooled.std()\n",
        "\n",
        "print('pooled_mean: {:f}'.format(pooled_mean))\n",
        "print('pooled_var: {:f}'.format(pooled_var))\n",
        "print('pooled_std: {:f}'.format(pooled_std))"
      ],
      "metadata": {
        "colab": {
          "base_uri": "https://localhost:8080/"
        },
        "id": "CJl_h7LIZ8Tb",
        "outputId": "862e8e57-7b53-4b4a-baf0-d295170f340b"
      },
      "execution_count": 68,
      "outputs": [
        {
          "output_type": "stream",
          "name": "stdout",
          "text": [
            "pooled_mean: 14.987759\n",
            "pooled_var: 30.965169\n",
            "pooled_std: 5.564636\n"
          ]
        }
      ]
    },
    {
      "cell_type": "markdown",
      "source": [
        "**2. Однопараметрические критерии**"
      ],
      "metadata": {
        "id": "8JCKBzSmEJb2"
      }
    },
    {
      "cell_type": "code",
      "source": [
        "from statsmodels.stats.weightstats import ztest as ztest"
      ],
      "metadata": {
        "id": "a98OpWSWcDkA"
      },
      "execution_count": 69,
      "outputs": []
    },
    {
      "cell_type": "code",
      "source": [
        "#z-test: \n",
        "#выводим выборочное значение статистики и p-value\n",
        "#при p-value > a - гипотеза принимается\n",
        "ztest(x_1, value=15)"
      ],
      "metadata": {
        "colab": {
          "base_uri": "https://localhost:8080/"
        },
        "id": "GKXuwOCeBDET",
        "outputId": "65224e21-c565-458b-8eb0-701bcfcf790f"
      },
      "execution_count": 70,
      "outputs": [
        {
          "output_type": "execute_result",
          "data": {
            "text/plain": [
              "(0.2474535993268442, 0.8045571973480057)"
            ]
          },
          "metadata": {},
          "execution_count": 70
        }
      ]
    },
    {
      "cell_type": "code",
      "source": [
        "#t-test\n",
        "#выводим выборочное значение статистики и p-value\n",
        "#при p-value > a - гипотеза принимается\n",
        "sps.ttest_1samp(a=x_1, popmean=15)"
      ],
      "metadata": {
        "colab": {
          "base_uri": "https://localhost:8080/"
        },
        "id": "Ex28Bg5OCrsh",
        "outputId": "887996f8-087e-4129-8d26-4ad1209e4991"
      },
      "execution_count": 71,
      "outputs": [
        {
          "output_type": "execute_result",
          "data": {
            "text/plain": [
              "Ttest_1sampResult(statistic=0.2474535993268442, pvalue=0.8050696716182391)"
            ]
          },
          "metadata": {},
          "execution_count": 71
        }
      ]
    },
    {
      "cell_type": "code",
      "source": [
        "#хи2-test: m - известно\n",
        "#выводим выборочное значение статистики и p-value\n",
        "#при p-value > a - гипотеза принимается\n",
        "def one_sample_chi_test(x, m0, sigma0):\n",
        "    S_squared = 1 / len(x) * sum([(i - m0) ** 2 for i in x])\n",
        "    z = len(x) * S_squared / sigma0 ** 2\n",
        "    f = sps.chi2.cdf(z, df=len(x))\n",
        "    return z, 2 * min(f, 1 - f)"
      ],
      "metadata": {
        "id": "pdUocfGfEIbt"
      },
      "execution_count": 72,
      "outputs": []
    },
    {
      "cell_type": "code",
      "source": [
        "print(one_sample_chi_test(x_1, m_1, sigma_1))"
      ],
      "metadata": {
        "colab": {
          "base_uri": "https://localhost:8080/"
        },
        "id": "0qQjmcNGX3bX",
        "outputId": "36b09a05-3cc0-4cf2-b479-734ecb1aa3cd"
      },
      "execution_count": 73,
      "outputs": [
        {
          "output_type": "stream",
          "name": "stdout",
          "text": [
            "(83.43171162250556, 0.23189681682241764)\n"
          ]
        }
      ]
    },
    {
      "cell_type": "code",
      "source": [
        "#хи2-test: m - не известно\n",
        "#выводим выборочное значение статистики и p-value\n",
        "#при p-value > a - гипотеза принимается\n",
        "def one_sample_chi_test_unknown(x, sigma0):\n",
        "    S_squared = sum([(i - x.mean()) ** 2 for i in x]) / (len(x) - 1)\n",
        "    z = (len(x) - 1) * S_squared / sigma0 ** 2\n",
        "    f = sps.chi2.cdf(z, df=len(x)-1)\n",
        "    return z,  min(f, 1 - f)/2"
      ],
      "metadata": {
        "id": "YrFdbXEbMoI6"
      },
      "execution_count": 74,
      "outputs": []
    },
    {
      "cell_type": "code",
      "source": [
        "print(one_sample_chi_test_unknown(x_1, sigma_1))"
      ],
      "metadata": {
        "colab": {
          "base_uri": "https://localhost:8080/"
        },
        "id": "LWgdfVClABey",
        "outputId": "3bb1900d-2028-4ccd-d449-925fb13a66d4"
      },
      "execution_count": 75,
      "outputs": [
        {
          "output_type": "stream",
          "name": "stdout",
          "text": [
            "(83.38013950384718, 0.06499655778255227)\n"
          ]
        }
      ]
    },
    {
      "cell_type": "markdown",
      "source": [
        "**3. Двухвыборочные критерии**"
      ],
      "metadata": {
        "id": "ATliRDjjNCLD"
      }
    },
    {
      "cell_type": "code",
      "source": [
        "sps.ttest_ind(a=x_1, b=x_2, equal_var=True)"
      ],
      "metadata": {
        "colab": {
          "base_uri": "https://localhost:8080/"
        },
        "id": "UFH0kggiNE4E",
        "outputId": "d343f870-7ac0-4f0b-9582-2c6bc154be31"
      },
      "execution_count": 76,
      "outputs": [
        {
          "output_type": "execute_result",
          "data": {
            "text/plain": [
              "Ttest_indResult(statistic=0.3455887363152111, pvalue=0.7300187011064814)"
            ]
          },
          "metadata": {},
          "execution_count": 76
        }
      ]
    },
    {
      "cell_type": "code",
      "source": [
        "# t-test: mean_1 = mean_2 (sigma_1 = sigma_2)\n",
        "def two_sample_t_test(x, y):\n",
        "    S_1 = (1 / (len(x) - 1) * sum([(i - x.mean()) ** 2 for i in x])) \n",
        "    S_2 = (1 / (len(y) - 1) * sum([(i - y.mean()) ** 2 for i in y]))\n",
        "    S = ((len(x) - 1) * S_1 + (len(y) - 1) * S_2) / (len(x) + len(y) - 2)\n",
        "    z = (x.mean() - y.mean()) * (1 / len(x) + 1 / len(y)) ** 0.5 / S ** 0.5\n",
        "    f = sps.t.cdf(z, df=len(x)+len(y)-1)\n",
        "    return z,  min(f, 1 - f)/2"
      ],
      "metadata": {
        "id": "eznKNcJuUEZB"
      },
      "execution_count": 77,
      "outputs": []
    },
    {
      "cell_type": "code",
      "source": [
        "print(two_sample_t_test(x_1, x_2))"
      ],
      "metadata": {
        "colab": {
          "base_uri": "https://localhost:8080/"
        },
        "id": "HCu-nbqqUJFj",
        "outputId": "0a7d73a8-e257-43cf-b042-28e79f191bcc"
      },
      "execution_count": 78,
      "outputs": [
        {
          "output_type": "stream",
          "name": "stdout",
          "text": [
            "(0.006911774726304223, 0.2486230423729846)\n"
          ]
        }
      ]
    },
    {
      "cell_type": "code",
      "source": [
        "# welch's t-test: mean_1 = mean_2 (sigma_1 != sigma_2)\n",
        "def welch_t_test(x, y):\n",
        "    S_1 = (1 / (len(x) - 1) * sum([(i - x.mean()) ** 2 for i in x])) \n",
        "    S_2 = (1 / (len(y) - 1) * sum([(i - y.mean()) ** 2 for i in y]))\n",
        "    z = (x.mean() - y.mean()) / (S_1 / len(x) ** 2 + S_2 / len(y) ** 0.5) ** 0.5\n",
        "    k = ((S_1 / len(x)) / (S_1 / len(x) + S_2 / len(y))) ** 2 / (len(x) - 1) + \\\n",
        "    ((S_1 / len(x)) / (S_1 / len(y) + S_2 / len(y))) ** 2 / (len(y) - 1)\n",
        "    f = sps.t.cdf(z, df=int(1/k))\n",
        "    return z, min(f, 1 - f)/2"
      ],
      "metadata": {
        "id": "UhoFiwe_B_kL"
      },
      "execution_count": 79,
      "outputs": []
    },
    {
      "cell_type": "code",
      "source": [
        "print(welch_t_test(x_1, x_2))"
      ],
      "metadata": {
        "colab": {
          "base_uri": "https://localhost:8080/"
        },
        "id": "c9fXkBEQC4YR",
        "outputId": "b7034f38-0b71-4235-9d84-a49afd4acd97"
      },
      "execution_count": 80,
      "outputs": [
        {
          "output_type": "stream",
          "name": "stdout",
          "text": [
            "(0.14152845901507438, 0.22188663250811563)\n"
          ]
        }
      ]
    },
    {
      "cell_type": "code",
      "source": [
        "# f-test: var_1 = var_2 (m - known)\n",
        "def two_sample_f_test(x, y, m1, m2):\n",
        "    S_1 = 1 / len(x) * sum([(i - m1) ** 2 for i in x])\n",
        "    S_2 = 1 / len(y) * sum([(i - m2) ** 2 for i in y])\n",
        "    z = S_1 / S_2\n",
        "    f = sps.f.cdf(z, dfn=len(x), dfd=len(y))\n",
        "    return z,  min(f, 1 - f)/2"
      ],
      "metadata": {
        "id": "fUkR6TxoUTpB"
      },
      "execution_count": 81,
      "outputs": []
    },
    {
      "cell_type": "code",
      "source": [
        "print(two_sample_f_test(x_1, x_2, m_1, m_2))"
      ],
      "metadata": {
        "colab": {
          "base_uri": "https://localhost:8080/"
        },
        "id": "YH4ECw9qUWIY",
        "outputId": "f5de3d7f-a2f3-41c1-f06d-0c0ebb84bd34"
      },
      "execution_count": 82,
      "outputs": [
        {
          "output_type": "stream",
          "name": "stdout",
          "text": [
            "(0.6782859375489307, 0.013399429742594738)\n"
          ]
        }
      ]
    },
    {
      "cell_type": "code",
      "source": [
        "# f-test: var_1 = var_2 (m - unknown)\n",
        "def two_sample_f_test_unknown(x, y):\n",
        "    S_1 = 1 / (len(x) - 1) * sum([(i - x.mean()) ** 2 for i in x])\n",
        "    S_2 = 1 / (len(y) - 1) * sum([(i - y.mean()) ** 2 for i in y])\n",
        "    z = S_1 / S_2\n",
        "    f = sps.f.cdf(z, dfn=len(x)-1, dfd=len(y)-1)\n",
        "    return z, min(f, 1 - f)/2"
      ],
      "metadata": {
        "id": "y5A60caTUX3j"
      },
      "execution_count": 83,
      "outputs": []
    },
    {
      "cell_type": "code",
      "source": [
        "print(two_sample_f_test_unknown(x_1, x_2))"
      ],
      "metadata": {
        "colab": {
          "base_uri": "https://localhost:8080/"
        },
        "id": "AaJQugdrUlpB",
        "outputId": "b192e360-41c6-4f45-f7d4-842534c933c1"
      },
      "execution_count": 84,
      "outputs": [
        {
          "output_type": "stream",
          "name": "stdout",
          "text": [
            "(0.6782740076869322, 0.013700677212369387)\n"
          ]
        }
      ]
    },
    {
      "cell_type": "markdown",
      "source": [
        "**4. Исследование распределений статистик критерия**\n",
        "\n",
        "Статистическая гипотеза: $ H_0: m_1 = 15\\; (\\sigma_1  - \\text{известна})$\n",
        "\n",
        "\n",
        "  Формула расчета статистики критерия $Z$: $ \\; Z = \\frac{\\overline{X} - m}{{\\sqrt{\\frac{\\sigma^2}{n}  }}} $\n",
        "  \n",
        "  Формула расчета статистики *p-value*: $ \\text{p-value} = \\min{\\{F_Z(z|H_0), 1 - F_Z(z|H_0)\\}/2} $\n",
        "    \n",
        "  Число серий эксперимента: $ \\; N = 1000$\n"
      ],
      "metadata": {
        "id": "DgN4xcOxUBZQ"
      }
    },
    {
      "cell_type": "code",
      "source": [
        "N = 1000\n",
        "Z = []\n",
        "PV = []\n",
        "for i in range(N):\n",
        "    x = sps.chi2.rvs(size =100, df = 15)\n",
        "    z = (x.mean() - 15) * len(x) ** 0.5 / math.sqrt(30)\n",
        "    Z.append(z)\n",
        "    f = sps.norm.cdf(z, loc=0, scale=1)\n",
        "    p =  min(f, 1-f)/2\n",
        "    PV.append(p)\n",
        "Z = np.array(Z)\n",
        "PV = np.array(PV)"
      ],
      "metadata": {
        "id": "ZDRsNTSJWIeU"
      },
      "execution_count": 85,
      "outputs": []
    },
    {
      "cell_type": "code",
      "source": [
        "print(Z.mean())\n",
        "print(Z.var())\n",
        "print(Z.std())\n",
        "print()\n",
        "\n",
        "print(PV.mean())\n",
        "print(PV.var())\n",
        "print(PV.std())"
      ],
      "metadata": {
        "colab": {
          "base_uri": "https://localhost:8080/"
        },
        "id": "cKh2eNhgqptk",
        "outputId": "5f760dd3-d101-469d-f0cb-a51538233e6a"
      },
      "execution_count": 86,
      "outputs": [
        {
          "output_type": "stream",
          "name": "stdout",
          "text": [
            "0.034713191568054344\n",
            "1.0509120563751322\n",
            "1.0251400179366388\n",
            "\n",
            "0.12099650636525473\n",
            "0.0052127261673303015\n",
            "0.07219921168080924\n"
          ]
        }
      ]
    },
    {
      "cell_type": "code",
      "source": [
        "plt.hist(Z, bins=60)\n",
        "grid = np.linspace(min(Z), max(Z))\n",
        "plt.plot(grid, sps.t.pdf(grid, 98)*120, lw=3);"
      ],
      "metadata": {
        "colab": {
          "base_uri": "https://localhost:8080/",
          "height": 265
        },
        "id": "CqRJoMNNqsHJ",
        "outputId": "31d4b1c7-67ef-471c-926e-647ccc8e9384"
      },
      "execution_count": 93,
      "outputs": [
        {
          "output_type": "display_data",
          "data": {
            "text/plain": [
              "<Figure size 432x288 with 1 Axes>"
            ],
            "image/png": "[encoded data removed]"
          },
          "metadata": {
            "needs_background": "light"
          }
        }
      ]
    },
    {
      "cell_type": "code",
      "source": [
        "plt.hist(PV, bins=60)\n",
        "grid = np.linspace(min(PV), max(PV))\n",
        "plt.plot(grid, sps.uniform.pdf(grid, 0, 1) * 20, lw=3);"
      ],
      "metadata": {
        "colab": {
          "base_uri": "https://localhost:8080/",
          "height": 265
        },
        "id": "KLR_94FmqzyC",
        "outputId": "930e741e-61d9-43d6-a446-82627c9bbe46"
      },
      "execution_count": 88,
      "outputs": [
        {
          "output_type": "display_data",
          "data": {
            "text/plain": [
              "<Figure size 432x288 with 1 Axes>"
            ],
            "image/png": "[encoded data removed]"
          },
          "metadata": {
            "needs_background": "light"
          }
        }
      ]
    }
  ]
}